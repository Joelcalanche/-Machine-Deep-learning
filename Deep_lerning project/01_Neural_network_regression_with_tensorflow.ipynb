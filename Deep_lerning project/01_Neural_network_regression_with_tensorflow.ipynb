{
 "cells": [
  {
   "cell_type": "markdown",
   "id": "identified-elevation",
   "metadata": {},
   "source": [
    "# Introduccion to Regression  with Neural Networks in TensorFlow\n",
    "\n",
    "There are many definitions for a regression problem but in our case, we're goen to simplify\n",
    "it: predicting a numerical variable based on some other combination of variables, even\n",
    "    shorter.... predicting a number.\n"
   ]
  },
  {
   "cell_type": "code",
   "execution_count": 1,
   "id": "solar-glossary",
   "metadata": {},
   "outputs": [
    {
     "name": "stdout",
     "output_type": "stream",
     "text": [
      "2.4.1\n"
     ]
    }
   ],
   "source": [
    "# Import TensorFlow\n",
    "import tensorflow as tf\n",
    "print(tf.__version__)"
   ]
  },
  {
   "cell_type": "markdown",
   "id": "cooked-grain",
   "metadata": {},
   "source": [
    "## Creating data to view and fit\n"
   ]
  },
  {
   "cell_type": "code",
   "execution_count": 2,
   "id": "digital-newcastle",
   "metadata": {},
   "outputs": [
    {
     "data": {
      "image/png": "[encoded data removed]",
      "text/plain": [
       "<Figure size 432x288 with 1 Axes>"
      ]
     },
     "metadata": {
      "needs_background": "light"
     },
     "output_type": "display_data"
    }
   ],
   "source": [
    "import numpy as np\n",
    "import matplotlib.pyplot as plt\n",
    "\n",
    "# Create features\n",
    "\n",
    "X = np.array([-7.0, -4.0, -1.0, 2.0, 5.0, 8.0, 11.0, 14.0])\n",
    "# Create labels\n",
    "y = np.array([3.0, 6.0, 9.0, 12.0, 15.0, 18.0, 21.0, 24.0])\n",
    "# Visaulize it\n",
    "plt.scatter(X,y);"
   ]
  },
  {
   "cell_type": "code",
   "execution_count": 4,
   "id": "proof-certification",
   "metadata": {},
   "outputs": [
    {
     "data": {
      "text/plain": [
       "array([ True,  True,  True,  True,  True,  True,  True,  True])"
      ]
     },
     "execution_count": 4,
     "metadata": {},
     "output_type": "execute_result"
    }
   ],
   "source": [
    " y == X + 10"
   ]
  },
  {
   "cell_type": "markdown",
   "id": "proved-interest",
   "metadata": {},
   "source": [
    "## Input and output shape"
   ]
  },
  {
   "cell_type": "code",
   "execution_count": 6,
   "id": "electric-penetration",
   "metadata": {},
   "outputs": [
    {
     "data": {
      "text/plain": [
       "(<tf.Tensor: shape=(3,), dtype=string, numpy=array([b'bedroom', b'batroom', b'garage'], dtype=object)>,\n",
       " <tf.Tensor: shape=(1,), dtype=int32, numpy=array([939700])>)"
      ]
     },
     "execution_count": 6,
     "metadata": {},
     "output_type": "execute_result"
    }
   ],
   "source": [
    "# Create a demo tensor for our housing rice prediction problem\n",
    "\n",
    "house_info = tf.constant([\"bedroom\", \"batroom\", \"garage\" ])\n",
    "house_price = tf.constant([939700])\n",
    "house_info, house_price"
   ]
  },
  {
   "cell_type": "code",
   "execution_count": 9,
   "id": "sixth-blanket",
   "metadata": {},
   "outputs": [
    {
     "data": {
      "text/plain": [
       "(-7.0, 3.0)"
      ]
     },
     "execution_count": 9,
     "metadata": {},
     "output_type": "execute_result"
    }
   ],
   "source": [
    "X[0], y[0]"
   ]
  },
  {
   "cell_type": "code",
   "execution_count": 10,
   "id": "comparable-quebec",
   "metadata": {},
   "outputs": [
    {
     "data": {
      "text/plain": [
       "(-4.0, 6.0)"
      ]
     },
     "execution_count": 10,
     "metadata": {},
     "output_type": "execute_result"
    }
   ],
   "source": [
    "X[1], y[1]"
   ]
  },
  {
   "cell_type": "code",
   "execution_count": 8,
   "id": "needed-discovery",
   "metadata": {},
   "outputs": [
    {
     "data": {
      "text/plain": [
       "((8,), (8,))"
      ]
     },
     "execution_count": 8,
     "metadata": {},
     "output_type": "execute_result"
    }
   ],
   "source": [
    "input_shape = X.shape\n",
    "output_shape = y.shape\n",
    "input_shape, output_shape"
   ]
  },
  {
   "cell_type": "code",
   "execution_count": 21,
   "id": "burning-alliance",
   "metadata": {},
   "outputs": [
    {
     "data": {
      "text/plain": [
       "(<tf.Tensor: shape=(8,), dtype=float32, numpy=array([-7., -4., -1.,  2.,  5.,  8., 11., 14.], dtype=float32)>,\n",
       " <tf.Tensor: shape=(8,), dtype=float32, numpy=array([ 3.,  6.,  9., 12., 15., 18., 21., 24.], dtype=float32)>)"
      ]
     },
     "execution_count": 21,
     "metadata": {},
     "output_type": "execute_result"
    }
   ],
   "source": [
    "# Turn our NumPy arrays into tensors with dtype float 32\n",
    "X = tf.cast(tf.constant(X), dtype=tf.float32)\n",
    "y = tf.cast(tf.constant(y), dtype=tf.float32)\n",
    "X, y"
   ]
  },
  {
   "cell_type": "code",
   "execution_count": 16,
   "id": "municipal-fence",
   "metadata": {},
   "outputs": [
    {
     "data": {
      "text/plain": [
       "(TensorShape([]), TensorShape([]))"
      ]
     },
     "execution_count": 16,
     "metadata": {},
     "output_type": "execute_result"
    }
   ],
   "source": [
    "input_shape = X[0].shape\n",
    "output_shape = y[0].shape\n",
    "input_shape, output_shape\n",
    "# en este ejemplo aunque el tama;o salga como 0, realmente estamos usando la variable x para producir la variable y"
   ]
  },
  {
   "cell_type": "code",
   "execution_count": 17,
   "id": "spoken-method",
   "metadata": {},
   "outputs": [
    {
     "data": {
      "text/plain": [
       "<matplotlib.collections.PathCollection at 0x2ab9bead358>"
      ]
     },
     "execution_count": 17,
     "metadata": {},
     "output_type": "execute_result"
    },
    {
     "data": {
      "image/png": "[encoded data removed]",
      "text/plain": [
       "<Figure size 432x288 with 1 Axes>"
      ]
     },
     "metadata": {
      "needs_background": "light"
     },
     "output_type": "display_data"
    }
   ],
   "source": [
    "plt.scatter(X,y)"
   ]
  },
  {
   "cell_type": "markdown",
   "id": "advisory-basis",
   "metadata": {},
   "source": [
    "## Steps in modelling with tensorFlow\n",
    "\n",
    "1. **Creating a model** - define the input and output layers, as well as the hidden layers of a deep learning model.\n",
    "2. **Compiling a model** - define the loss funtion(in others words, the function which tells our model how wrong it is) and the optimizer(tells our model how to improve the patterns its learning) and evaluation metrics(what we can use to interpretet the performance of our model).\n",
    "3. **Fitting a model** - letting the model try to find patterns between X & y(features and labels).\n",
    "\n",
    "\n"
   ]
  },
  {
   "cell_type": "code",
   "execution_count": 22,
   "id": "dutch-trust",
   "metadata": {},
   "outputs": [
    {
     "name": "stdout",
     "output_type": "stream",
     "text": [
      "Epoch 1/5\n",
      "1/1 [==============================] - 0s 374ms/step - loss: 11.5048 - mae: 11.5048\n",
      "Epoch 2/5\n",
      "1/1 [==============================] - 0s 4ms/step - loss: 11.3723 - mae: 11.3723\n",
      "Epoch 3/5\n",
      "1/1 [==============================] - 0s 3ms/step - loss: 11.2398 - mae: 11.2398\n",
      "Epoch 4/5\n",
      "1/1 [==============================] - 0s 3ms/step - loss: 11.1073 - mae: 11.1073\n",
      "Epoch 5/5\n",
      "1/1 [==============================] - 0s 6ms/step - loss: 10.9748 - mae: 10.9748\n"
     ]
    },
    {
     "data": {
      "text/plain": [
       "<tensorflow.python.keras.callbacks.History at 0x2ab9d11f518>"
      ]
     },
     "execution_count": 22,
     "metadata": {},
     "output_type": "execute_result"
    }
   ],
   "source": [
    "# Set random seed\n",
    "tf.random.set_seed(42)\n",
    "# 1. Create a model using the Sequential API\n",
    "# en este caso estamos definiendo una capa con densidad 1, por que solo tenemos una entrada\n",
    "model  = tf.keras.Sequential([\n",
    "    \n",
    "    tf.keras.layers.Dense(1)\n",
    "])\n",
    "\n",
    "# 2. Compile the model\n",
    "model.compile(loss=tf.keras.losses.mae, # mae is short for mean absolute error\n",
    "              \n",
    "             optimizer=tf.keras.optimizers.SGD(), # sgd is short for stochastic gradient descent\n",
    "             metrics =[\"mae\"]\n",
    "              \n",
    "             \n",
    "             )\n",
    "# 3. Fit the model\n",
    "model.fit(X, y, epochs = 5)"
   ]
  },
  {
   "cell_type": "code",
   "execution_count": 23,
   "id": "administrative-third",
   "metadata": {},
   "outputs": [
    {
     "data": {
      "text/plain": [
       "(<tf.Tensor: shape=(8,), dtype=float32, numpy=array([-7., -4., -1.,  2.,  5.,  8., 11., 14.], dtype=float32)>,\n",
       " <tf.Tensor: shape=(8,), dtype=float32, numpy=array([ 3.,  6.,  9., 12., 15., 18., 21., 24.], dtype=float32)>)"
      ]
     },
     "execution_count": 23,
     "metadata": {},
     "output_type": "execute_result"
    }
   ],
   "source": [
    "# Check out X and y\n",
    "X,y"
   ]
  },
  {
   "cell_type": "code",
   "execution_count": 25,
   "id": "standard-tolerance",
   "metadata": {},
   "outputs": [
    {
     "data": {
      "text/plain": [
       "array([[12.716021]], dtype=float32)"
      ]
     },
     "execution_count": 25,
     "metadata": {},
     "output_type": "execute_result"
    }
   ],
   "source": [
    "# Try and make a predition using our model\n",
    "y_pred =model.predict([17.0])\n",
    "y_pred"
   ]
  },
  {
   "cell_type": "code",
   "execution_count": 26,
   "id": "brutal-pittsburgh",
   "metadata": {},
   "outputs": [
    {
     "data": {
      "text/plain": [
       "array([[23.71602]], dtype=float32)"
      ]
     },
     "execution_count": 26,
     "metadata": {},
     "output_type": "execute_result"
    }
   ],
   "source": [
    "y_pred + 11"
   ]
  },
  {
   "cell_type": "markdown",
   "id": "residential-emphasis",
   "metadata": {},
   "source": [
    "## Improving our model\n",
    "\n",
    "We can improve our model, by altering the steps we took to create a model.\n",
    "\n",
    "1. **Creating a model** - here we might add more layers, increase the number of hidden units(all called neurons) within each of the hidden layers, change the activation function of each layer.\n",
    "2. ***Compiling a model*- here we might change the optimization function or perhaps the **learning rate** of the optimization function.\n",
    "\n",
    "3. **Fitting a model**- here we might fit a model for more **epochs** (leave it training for longer) or on more data ( give the model more examples to learn from).\n"
   ]
  },
  {
   "cell_type": "code",
   "execution_count": 31,
   "id": "higher-distance",
   "metadata": {},
   "outputs": [
    {
     "name": "stdout",
     "output_type": "stream",
     "text": [
      "Epoch 1/100\n",
      "1/1 [==============================] - 0s 307ms/step - loss: 11.2219 - mae: 11.2219\n",
      "Epoch 2/100\n",
      "1/1 [==============================] - 0s 4ms/step - loss: 11.0894 - mae: 11.0894\n",
      "Epoch 3/100\n",
      "1/1 [==============================] - 0s 4ms/step - loss: 10.9569 - mae: 10.9569\n",
      "Epoch 4/100\n",
      "1/1 [==============================] - 0s 5ms/step - loss: 10.8244 - mae: 10.8244\n",
      "Epoch 5/100\n",
      "1/1 [==============================] - 0s 2ms/step - loss: 10.6919 - mae: 10.6919\n",
      "Epoch 6/100\n",
      "1/1 [==============================] - 0s 5ms/step - loss: 10.5594 - mae: 10.5594\n",
      "Epoch 7/100\n",
      "1/1 [==============================] - 0s 3ms/step - loss: 10.4269 - mae: 10.4269\n",
      "Epoch 8/100\n",
      "1/1 [==============================] - 0s 5ms/step - loss: 10.2944 - mae: 10.2944\n",
      "Epoch 9/100\n",
      "1/1 [==============================] - 0s 3ms/step - loss: 10.1619 - mae: 10.1619\n",
      "Epoch 10/100\n",
      "1/1 [==============================] - 0s 4ms/step - loss: 10.0294 - mae: 10.0294\n",
      "Epoch 11/100\n",
      "1/1 [==============================] - 0s 3ms/step - loss: 9.8969 - mae: 9.8969\n",
      "Epoch 12/100\n",
      "1/1 [==============================] - 0s 5ms/step - loss: 9.7644 - mae: 9.7644\n",
      "Epoch 13/100\n",
      "1/1 [==============================] - 0s 4ms/step - loss: 9.6319 - mae: 9.6319\n",
      "Epoch 14/100\n",
      "1/1 [==============================] - 0s 8ms/step - loss: 9.4994 - mae: 9.4994\n",
      "Epoch 15/100\n",
      "1/1 [==============================] - 0s 2ms/step - loss: 9.3669 - mae: 9.3669\n",
      "Epoch 16/100\n",
      "1/1 [==============================] - 0s 5ms/step - loss: 9.2344 - mae: 9.2344\n",
      "Epoch 17/100\n",
      "1/1 [==============================] - 0s 2ms/step - loss: 9.1019 - mae: 9.1019\n",
      "Epoch 18/100\n",
      "1/1 [==============================] - 0s 2ms/step - loss: 8.9694 - mae: 8.9694\n",
      "Epoch 19/100\n",
      "1/1 [==============================] - 0s 3ms/step - loss: 8.8369 - mae: 8.8369\n",
      "Epoch 20/100\n",
      "1/1 [==============================] - 0s 5ms/step - loss: 8.7044 - mae: 8.7044\n",
      "Epoch 21/100\n",
      "1/1 [==============================] - 0s 3ms/step - loss: 8.5719 - mae: 8.5719\n",
      "Epoch 22/100\n",
      "1/1 [==============================] - 0s 3ms/step - loss: 8.4394 - mae: 8.4394\n",
      "Epoch 23/100\n",
      "1/1 [==============================] - 0s 5ms/step - loss: 8.3069 - mae: 8.3069\n",
      "Epoch 24/100\n",
      "1/1 [==============================] - 0s 3ms/step - loss: 8.1744 - mae: 8.1744\n",
      "Epoch 25/100\n",
      "1/1 [==============================] - 0s 7ms/step - loss: 8.0419 - mae: 8.0419\n",
      "Epoch 26/100\n",
      "1/1 [==============================] - 0s 2ms/step - loss: 7.9094 - mae: 7.9094\n",
      "Epoch 27/100\n",
      "1/1 [==============================] - 0s 4ms/step - loss: 7.7769 - mae: 7.7769\n",
      "Epoch 28/100\n",
      "1/1 [==============================] - 0s 4ms/step - loss: 7.6444 - mae: 7.6444\n",
      "Epoch 29/100\n",
      "1/1 [==============================] - 0s 3ms/step - loss: 7.5119 - mae: 7.5119\n",
      "Epoch 30/100\n",
      "1/1 [==============================] - 0s 5ms/step - loss: 7.3794 - mae: 7.3794\n",
      "Epoch 31/100\n",
      "1/1 [==============================] - 0s 3ms/step - loss: 7.2750 - mae: 7.2750\n",
      "Epoch 32/100\n",
      "1/1 [==============================] - 0s 4ms/step - loss: 7.2694 - mae: 7.2694\n",
      "Epoch 33/100\n",
      "1/1 [==============================] - 0s 3ms/step - loss: 7.2638 - mae: 7.2638\n",
      "Epoch 34/100\n",
      "1/1 [==============================] - 0s 3ms/step - loss: 7.2581 - mae: 7.2581\n",
      "Epoch 35/100\n",
      "1/1 [==============================] - 0s 4ms/step - loss: 7.2525 - mae: 7.2525\n",
      "Epoch 36/100\n",
      "1/1 [==============================] - 0s 3ms/step - loss: 7.2469 - mae: 7.2469\n",
      "Epoch 37/100\n",
      "1/1 [==============================] - 0s 3ms/step - loss: 7.2412 - mae: 7.2412\n",
      "Epoch 38/100\n",
      "1/1 [==============================] - 0s 3ms/step - loss: 7.2356 - mae: 7.2356\n",
      "Epoch 39/100\n",
      "1/1 [==============================] - 0s 3ms/step - loss: 7.2300 - mae: 7.2300\n",
      "Epoch 40/100\n",
      "1/1 [==============================] - 0s 3ms/step - loss: 7.2244 - mae: 7.2244\n",
      "Epoch 41/100\n",
      "1/1 [==============================] - 0s 5ms/step - loss: 7.2188 - mae: 7.2188\n",
      "Epoch 42/100\n",
      "1/1 [==============================] - 0s 4ms/step - loss: 7.2131 - mae: 7.2131\n",
      "Epoch 43/100\n",
      "1/1 [==============================] - 0s 4ms/step - loss: 7.2075 - mae: 7.2075\n",
      "Epoch 44/100\n",
      "1/1 [==============================] - 0s 3ms/step - loss: 7.2019 - mae: 7.2019\n",
      "Epoch 45/100\n",
      "1/1 [==============================] - 0s 3ms/step - loss: 7.1962 - mae: 7.1962\n",
      "Epoch 46/100\n",
      "1/1 [==============================] - 0s 5ms/step - loss: 7.1906 - mae: 7.1906\n",
      "Epoch 47/100\n",
      "1/1 [==============================] - 0s 4ms/step - loss: 7.1850 - mae: 7.1850\n",
      "Epoch 48/100\n",
      "1/1 [==============================] - 0s 3ms/step - loss: 7.1794 - mae: 7.1794\n",
      "Epoch 49/100\n",
      "1/1 [==============================] - 0s 4ms/step - loss: 7.1737 - mae: 7.1737\n",
      "Epoch 50/100\n",
      "1/1 [==============================] - 0s 5ms/step - loss: 7.1681 - mae: 7.1681\n",
      "Epoch 51/100\n",
      "1/1 [==============================] - 0s 4ms/step - loss: 7.1625 - mae: 7.1625\n",
      "Epoch 52/100\n",
      "1/1 [==============================] - 0s 3ms/step - loss: 7.1569 - mae: 7.1569\n",
      "Epoch 53/100\n",
      "1/1 [==============================] - 0s 3ms/step - loss: 7.1512 - mae: 7.1512\n",
      "Epoch 54/100\n",
      "1/1 [==============================] - 0s 3ms/step - loss: 7.1456 - mae: 7.1456\n",
      "Epoch 55/100\n",
      "1/1 [==============================] - 0s 3ms/step - loss: 7.1400 - mae: 7.1400\n",
      "Epoch 56/100\n",
      "1/1 [==============================] - 0s 5ms/step - loss: 7.1344 - mae: 7.1344\n",
      "Epoch 57/100\n",
      "1/1 [==============================] - 0s 3ms/step - loss: 7.1287 - mae: 7.1287\n",
      "Epoch 58/100\n",
      "1/1 [==============================] - 0s 4ms/step - loss: 7.1231 - mae: 7.1231\n",
      "Epoch 59/100\n",
      "1/1 [==============================] - 0s 3ms/step - loss: 7.1175 - mae: 7.1175\n",
      "Epoch 60/100\n",
      "1/1 [==============================] - 0s 6ms/step - loss: 7.1119 - mae: 7.1119\n",
      "Epoch 61/100\n",
      "1/1 [==============================] - 0s 4ms/step - loss: 7.1062 - mae: 7.1062\n",
      "Epoch 62/100\n",
      "1/1 [==============================] - 0s 9ms/step - loss: 7.1006 - mae: 7.1006\n",
      "Epoch 63/100\n",
      "1/1 [==============================] - 0s 4ms/step - loss: 7.0950 - mae: 7.0950\n",
      "Epoch 64/100\n",
      "1/1 [==============================] - 0s 4ms/step - loss: 7.0894 - mae: 7.0894\n",
      "Epoch 65/100\n",
      "1/1 [==============================] - 0s 5ms/step - loss: 7.0838 - mae: 7.0838\n",
      "Epoch 66/100\n",
      "1/1 [==============================] - 0s 3ms/step - loss: 7.0781 - mae: 7.0781\n",
      "Epoch 67/100\n",
      "1/1 [==============================] - 0s 3ms/step - loss: 7.0725 - mae: 7.0725\n",
      "Epoch 68/100\n",
      "1/1 [==============================] - 0s 4ms/step - loss: 7.0669 - mae: 7.0669\n",
      "Epoch 69/100\n",
      "1/1 [==============================] - 0s 3ms/step - loss: 7.0613 - mae: 7.0613\n",
      "Epoch 70/100\n",
      "1/1 [==============================] - 0s 5ms/step - loss: 7.0556 - mae: 7.0556\n",
      "Epoch 71/100\n",
      "1/1 [==============================] - 0s 3ms/step - loss: 7.0500 - mae: 7.0500\n",
      "Epoch 72/100\n",
      "1/1 [==============================] - 0s 4ms/step - loss: 7.0444 - mae: 7.0444\n",
      "Epoch 73/100\n",
      "1/1 [==============================] - 0s 4ms/step - loss: 7.0388 - mae: 7.0388\n",
      "Epoch 74/100\n",
      "1/1 [==============================] - 0s 3ms/step - loss: 7.0331 - mae: 7.0331\n",
      "Epoch 75/100\n",
      "1/1 [==============================] - 0s 5ms/step - loss: 7.0275 - mae: 7.0275\n",
      "Epoch 76/100\n",
      "1/1 [==============================] - 0s 4ms/step - loss: 7.0219 - mae: 7.0219\n",
      "Epoch 77/100\n",
      "1/1 [==============================] - 0s 3ms/step - loss: 7.0163 - mae: 7.0163\n",
      "Epoch 78/100\n",
      "1/1 [==============================] - 0s 3ms/step - loss: 7.0106 - mae: 7.0106\n",
      "Epoch 79/100\n",
      "1/1 [==============================] - 0s 4ms/step - loss: 7.0050 - mae: 7.0050\n",
      "Epoch 80/100\n",
      "1/1 [==============================] - 0s 3ms/step - loss: 6.9994 - mae: 6.9994\n",
      "Epoch 81/100\n",
      "1/1 [==============================] - 0s 3ms/step - loss: 6.9938 - mae: 6.9938\n",
      "Epoch 82/100\n",
      "1/1 [==============================] - 0s 4ms/step - loss: 6.9881 - mae: 6.9881\n",
      "Epoch 83/100\n",
      "1/1 [==============================] - 0s 2ms/step - loss: 6.9825 - mae: 6.9825\n",
      "Epoch 84/100\n",
      "1/1 [==============================] - 0s 6ms/step - loss: 6.9769 - mae: 6.9769\n",
      "Epoch 85/100\n",
      "1/1 [==============================] - 0s 4ms/step - loss: 6.9713 - mae: 6.9713\n",
      "Epoch 86/100\n",
      "1/1 [==============================] - 0s 4ms/step - loss: 6.9656 - mae: 6.9656\n",
      "Epoch 87/100\n",
      "1/1 [==============================] - 0s 3ms/step - loss: 6.9600 - mae: 6.9600\n",
      "Epoch 88/100\n",
      "1/1 [==============================] - 0s 6ms/step - loss: 6.9544 - mae: 6.9544\n"
     ]
    },
    {
     "name": "stdout",
     "output_type": "stream",
     "text": [
      "Epoch 89/100\n",
      "1/1 [==============================] - 0s 2ms/step - loss: 6.9488 - mae: 6.9488\n",
      "Epoch 90/100\n",
      "1/1 [==============================] - 0s 7ms/step - loss: 6.9431 - mae: 6.9431\n",
      "Epoch 91/100\n",
      "1/1 [==============================] - 0s 4ms/step - loss: 6.9375 - mae: 6.9375\n",
      "Epoch 92/100\n",
      "1/1 [==============================] - 0s 5ms/step - loss: 6.9319 - mae: 6.9319\n",
      "Epoch 93/100\n",
      "1/1 [==============================] - 0s 3ms/step - loss: 6.9263 - mae: 6.9263\n",
      "Epoch 94/100\n",
      "1/1 [==============================] - 0s 3ms/step - loss: 6.9206 - mae: 6.9206\n",
      "Epoch 95/100\n",
      "1/1 [==============================] - 0s 5ms/step - loss: 6.9150 - mae: 6.9150\n",
      "Epoch 96/100\n",
      "1/1 [==============================] - 0s 6ms/step - loss: 6.9094 - mae: 6.9094\n",
      "Epoch 97/100\n",
      "1/1 [==============================] - 0s 3ms/step - loss: 6.9038 - mae: 6.9038\n",
      "Epoch 98/100\n",
      "1/1 [==============================] - 0s 4ms/step - loss: 6.8981 - mae: 6.8981\n",
      "Epoch 99/100\n",
      "1/1 [==============================] - 0s 3ms/step - loss: 6.8925 - mae: 6.8925\n",
      "Epoch 100/100\n",
      "1/1 [==============================] - 0s 6ms/step - loss: 6.8869 - mae: 6.8869\n"
     ]
    },
    {
     "data": {
      "text/plain": [
       "<tensorflow.python.keras.callbacks.History at 0x2ab9bc20898>"
      ]
     },
     "execution_count": 31,
     "metadata": {},
     "output_type": "execute_result"
    }
   ],
   "source": [
    "# Let's rebuild our model\n",
    "\n",
    "# 1. Created the model\n",
    "model = tf.keras.Sequential([\n",
    "    tf.keras.layers.Dense(1)\n",
    "])\n",
    "\n",
    "# 2. Compile the model\n",
    "\n",
    "model.compile(loss=tf.keras.losses.mae,\n",
    "              optimizer = tf.keras.optimizers.SGD(),\n",
    "              metrics = [\"mae\"])\n",
    "\n",
    "# 3. fit the model ( this time we'll train for longer)\n",
    "model.fit(X,y, epochs=100)\n",
    "\n"
   ]
  },
  {
   "cell_type": "code",
   "execution_count": 32,
   "id": "reasonable-summer",
   "metadata": {},
   "outputs": [
    {
     "data": {
      "text/plain": [
       "(<tf.Tensor: shape=(8,), dtype=float32, numpy=array([-7., -4., -1.,  2.,  5.,  8., 11., 14.], dtype=float32)>,\n",
       " <tf.Tensor: shape=(8,), dtype=float32, numpy=array([ 3.,  6.,  9., 12., 15., 18., 21., 24.], dtype=float32)>)"
      ]
     },
     "execution_count": 32,
     "metadata": {},
     "output_type": "execute_result"
    }
   ],
   "source": [
    "# Remind ourselves of the data\n",
    "X, y"
   ]
  },
  {
   "cell_type": "code",
   "execution_count": 33,
   "id": "banned-nylon",
   "metadata": {},
   "outputs": [
    {
     "data": {
      "text/plain": [
       "array([[29.739855]], dtype=float32)"
      ]
     },
     "execution_count": 33,
     "metadata": {},
     "output_type": "execute_result"
    }
   ],
   "source": [
    "# Let's see if our model's prediction has imrproved \n",
    "model.predict([17.0])"
   ]
  },
  {
   "cell_type": "code",
   "execution_count": 43,
   "id": "going-limit",
   "metadata": {},
   "outputs": [
    {
     "name": "stdout",
     "output_type": "stream",
     "text": [
      "Epoch 1/100\n",
      "1/1 [==============================] - 0s 366ms/step - loss: 12.0125 - mae: 12.0125\n",
      "Epoch 2/100\n",
      "1/1 [==============================] - 0s 3ms/step - loss: 11.2511 - mae: 11.2511\n",
      "Epoch 3/100\n",
      "1/1 [==============================] - 0s 6ms/step - loss: 10.4828 - mae: 10.4828\n",
      "Epoch 4/100\n",
      "1/1 [==============================] - 0s 3ms/step - loss: 9.7066 - mae: 9.7066\n",
      "Epoch 5/100\n",
      "1/1 [==============================] - 0s 10ms/step - loss: 8.9205 - mae: 8.9205\n",
      "Epoch 6/100\n",
      "1/1 [==============================] - 0s 3ms/step - loss: 8.1219 - mae: 8.1219\n",
      "Epoch 7/100\n",
      "1/1 [==============================] - 0s 4ms/step - loss: 7.3079 - mae: 7.3079\n",
      "Epoch 8/100\n",
      "1/1 [==============================] - 0s 7ms/step - loss: 6.9190 - mae: 6.9190\n",
      "Epoch 9/100\n",
      "1/1 [==============================] - 0s 3ms/step - loss: 7.2155 - mae: 7.2155\n",
      "Epoch 10/100\n",
      "1/1 [==============================] - 0s 11ms/step - loss: 7.4987 - mae: 7.4987\n",
      "Epoch 11/100\n",
      "1/1 [==============================] - 0s 3ms/step - loss: 7.7691 - mae: 7.7691\n",
      "Epoch 12/100\n",
      "1/1 [==============================] - 0s 5ms/step - loss: 7.8018 - mae: 7.8018\n",
      "Epoch 13/100\n",
      "1/1 [==============================] - 0s 5ms/step - loss: 7.6250 - mae: 7.6250\n",
      "Epoch 14/100\n",
      "1/1 [==============================] - 0s 7ms/step - loss: 7.2964 - mae: 7.2964\n",
      "Epoch 15/100\n",
      "1/1 [==============================] - 0s 3ms/step - loss: 7.0056 - mae: 7.0056\n",
      "Epoch 16/100\n",
      "1/1 [==============================] - 0s 5ms/step - loss: 6.7079 - mae: 6.7079\n",
      "Epoch 17/100\n",
      "1/1 [==============================] - 0s 3ms/step - loss: 6.3952 - mae: 6.3952\n",
      "Epoch 18/100\n",
      "1/1 [==============================] - 0s 6ms/step - loss: 6.2693 - mae: 6.2693\n",
      "Epoch 19/100\n",
      "1/1 [==============================] - 0s 3ms/step - loss: 6.2202 - mae: 6.2202\n",
      "Epoch 20/100\n",
      "1/1 [==============================] - 0s 7ms/step - loss: 6.4360 - mae: 6.4360\n",
      "Epoch 21/100\n",
      "1/1 [==============================] - 0s 6ms/step - loss: 6.5282 - mae: 6.5282\n",
      "Epoch 22/100\n",
      "1/1 [==============================] - 0s 3ms/step - loss: 6.5113 - mae: 6.5113\n",
      "Epoch 23/100\n",
      "1/1 [==============================] - 0s 6ms/step - loss: 6.3993 - mae: 6.3993\n",
      "Epoch 24/100\n",
      "1/1 [==============================] - 0s 3ms/step - loss: 6.2026 - mae: 6.2026\n",
      "Epoch 25/100\n",
      "1/1 [==============================] - 0s 5ms/step - loss: 5.9291 - mae: 5.9291\n",
      "Epoch 26/100\n",
      "1/1 [==============================] - 0s 4ms/step - loss: 5.6556 - mae: 5.6556\n",
      "Epoch 27/100\n",
      "1/1 [==============================] - 0s 6ms/step - loss: 5.5464 - mae: 5.5464\n",
      "Epoch 28/100\n",
      "1/1 [==============================] - 0s 3ms/step - loss: 5.4514 - mae: 5.4514\n",
      "Epoch 29/100\n",
      "1/1 [==============================] - 0s 4ms/step - loss: 5.4639 - mae: 5.4639\n",
      "Epoch 30/100\n",
      "1/1 [==============================] - 0s 4ms/step - loss: 5.4262 - mae: 5.4262\n",
      "Epoch 31/100\n",
      "1/1 [==============================] - 0s 5ms/step - loss: 5.3422 - mae: 5.3422\n",
      "Epoch 32/100\n",
      "1/1 [==============================] - 0s 4ms/step - loss: 5.2158 - mae: 5.2158\n",
      "Epoch 33/100\n",
      "1/1 [==============================] - 0s 7ms/step - loss: 5.0506 - mae: 5.0506\n",
      "Epoch 34/100\n",
      "1/1 [==============================] - 0s 4ms/step - loss: 4.8499 - mae: 4.8499\n",
      "Epoch 35/100\n",
      "1/1 [==============================] - 0s 5ms/step - loss: 4.7463 - mae: 4.7463\n",
      "Epoch 36/100\n",
      "1/1 [==============================] - 0s 5ms/step - loss: 4.6486 - mae: 4.6486\n",
      "Epoch 37/100\n",
      "1/1 [==============================] - 0s 7ms/step - loss: 4.5831 - mae: 4.5831\n",
      "Epoch 38/100\n",
      "1/1 [==============================] - 0s 3ms/step - loss: 4.4921 - mae: 4.4921\n",
      "Epoch 39/100\n",
      "1/1 [==============================] - 0s 5ms/step - loss: 4.2850 - mae: 4.2850\n",
      "Epoch 40/100\n",
      "1/1 [==============================] - 0s 4ms/step - loss: 4.1312 - mae: 4.1312\n",
      "Epoch 41/100\n",
      "1/1 [==============================] - 0s 4ms/step - loss: 3.9721 - mae: 3.9721\n",
      "Epoch 42/100\n",
      "1/1 [==============================] - 0s 4ms/step - loss: 3.9133 - mae: 3.9133\n",
      "Epoch 43/100\n",
      "1/1 [==============================] - 0s 4ms/step - loss: 3.8266 - mae: 3.8266\n",
      "Epoch 44/100\n",
      "1/1 [==============================] - 0s 3ms/step - loss: 3.6842 - mae: 3.6842\n",
      "Epoch 45/100\n",
      "1/1 [==============================] - 0s 3ms/step - loss: 3.4891 - mae: 3.4891\n",
      "Epoch 46/100\n",
      "1/1 [==============================] - 0s 3ms/step - loss: 3.2445 - mae: 3.2445\n",
      "Epoch 47/100\n",
      "1/1 [==============================] - 0s 4ms/step - loss: 3.0204 - mae: 3.0204\n",
      "Epoch 48/100\n",
      "1/1 [==============================] - 0s 4ms/step - loss: 2.8555 - mae: 2.8555\n",
      "Epoch 49/100\n",
      "1/1 [==============================] - 0s 4ms/step - loss: 2.7955 - mae: 2.7955\n",
      "Epoch 50/100\n",
      "1/1 [==============================] - 0s 5ms/step - loss: 2.5993 - mae: 2.5993\n",
      "Epoch 51/100\n",
      "1/1 [==============================] - 0s 4ms/step - loss: 2.2617 - mae: 2.2617\n",
      "Epoch 52/100\n",
      "1/1 [==============================] - 0s 3ms/step - loss: 2.0326 - mae: 2.0326\n",
      "Epoch 53/100\n",
      "1/1 [==============================] - 0s 3ms/step - loss: 1.8759 - mae: 1.8759\n",
      "Epoch 54/100\n",
      "1/1 [==============================] - 0s 5ms/step - loss: 1.6839 - mae: 1.6839\n",
      "Epoch 55/100\n",
      "1/1 [==============================] - 0s 4ms/step - loss: 1.4214 - mae: 1.4214\n",
      "Epoch 56/100\n",
      "1/1 [==============================] - 0s 5ms/step - loss: 1.0921 - mae: 1.0921\n",
      "Epoch 57/100\n",
      "1/1 [==============================] - 0s 3ms/step - loss: 0.9739 - mae: 0.9739\n",
      "Epoch 58/100\n",
      "1/1 [==============================] - 0s 4ms/step - loss: 0.7648 - mae: 0.7648\n",
      "Epoch 59/100\n",
      "1/1 [==============================] - 0s 5ms/step - loss: 0.3743 - mae: 0.3743\n",
      "Epoch 60/100\n",
      "1/1 [==============================] - 0s 4ms/step - loss: 0.3348 - mae: 0.3348\n",
      "Epoch 61/100\n",
      "1/1 [==============================] - 0s 3ms/step - loss: 0.4252 - mae: 0.4252\n",
      "Epoch 62/100\n",
      "1/1 [==============================] - 0s 6ms/step - loss: 0.4527 - mae: 0.4527\n",
      "Epoch 63/100\n",
      "1/1 [==============================] - 0s 2ms/step - loss: 0.7220 - mae: 0.7220\n",
      "Epoch 64/100\n",
      "1/1 [==============================] - 0s 3ms/step - loss: 0.7803 - mae: 0.7803\n",
      "Epoch 65/100\n",
      "1/1 [==============================] - 0s 3ms/step - loss: 0.7589 - mae: 0.7589\n",
      "Epoch 66/100\n",
      "1/1 [==============================] - 0s 5ms/step - loss: 0.9387 - mae: 0.9387\n",
      "Epoch 67/100\n",
      "1/1 [==============================] - 0s 3ms/step - loss: 0.8943 - mae: 0.8943\n",
      "Epoch 68/100\n",
      "1/1 [==============================] - 0s 4ms/step - loss: 0.6813 - mae: 0.6813\n",
      "Epoch 69/100\n",
      "1/1 [==============================] - 0s 4ms/step - loss: 0.6981 - mae: 0.6981\n",
      "Epoch 70/100\n",
      "1/1 [==============================] - 0s 5ms/step - loss: 0.5888 - mae: 0.5888\n",
      "Epoch 71/100\n",
      "1/1 [==============================] - 0s 3ms/step - loss: 0.3600 - mae: 0.3600\n",
      "Epoch 72/100\n",
      "1/1 [==============================] - 0s 3ms/step - loss: 0.2299 - mae: 0.2299\n",
      "Epoch 73/100\n",
      "1/1 [==============================] - 0s 3ms/step - loss: 0.2045 - mae: 0.2045\n",
      "Epoch 74/100\n",
      "1/1 [==============================] - 0s 3ms/step - loss: 0.1078 - mae: 0.1078\n",
      "Epoch 75/100\n",
      "1/1 [==============================] - 0s 5ms/step - loss: 0.4368 - mae: 0.4368\n",
      "Epoch 76/100\n",
      "1/1 [==============================] - 0s 4ms/step - loss: 0.4919 - mae: 0.4919\n",
      "Epoch 77/100\n",
      "1/1 [==============================] - 0s 4ms/step - loss: 0.3329 - mae: 0.3329\n",
      "Epoch 78/100\n",
      "1/1 [==============================] - 0s 3ms/step - loss: 0.5316 - mae: 0.5316\n",
      "Epoch 79/100\n",
      "1/1 [==============================] - 0s 4ms/step - loss: 0.6009 - mae: 0.6009\n",
      "Epoch 80/100\n",
      "1/1 [==============================] - 0s 4ms/step - loss: 0.5059 - mae: 0.5059\n",
      "Epoch 81/100\n",
      "1/1 [==============================] - 0s 4ms/step - loss: 0.2630 - mae: 0.2630\n",
      "Epoch 82/100\n",
      "1/1 [==============================] - 0s 4ms/step - loss: 0.4308 - mae: 0.4308\n",
      "Epoch 83/100\n",
      "1/1 [==============================] - 0s 3ms/step - loss: 0.4873 - mae: 0.4873\n",
      "Epoch 84/100\n",
      "1/1 [==============================] - 0s 4ms/step - loss: 0.2249 - mae: 0.2249\n",
      "Epoch 85/100\n",
      "1/1 [==============================] - 0s 7ms/step - loss: 0.3554 - mae: 0.3554\n",
      "Epoch 86/100\n",
      "1/1 [==============================] - 0s 5ms/step - loss: 0.5614 - mae: 0.5614\n",
      "Epoch 87/100\n",
      "1/1 [==============================] - 0s 2ms/step - loss: 0.4587 - mae: 0.4587\n",
      "Epoch 88/100\n",
      "1/1 [==============================] - 0s 5ms/step - loss: 0.2498 - mae: 0.2498\n",
      "Epoch 89/100\n"
     ]
    },
    {
     "name": "stdout",
     "output_type": "stream",
     "text": [
      "1/1 [==============================] - 0s 2ms/step - loss: 0.3358 - mae: 0.3358\n",
      "Epoch 90/100\n",
      "1/1 [==============================] - 0s 5ms/step - loss: 0.2589 - mae: 0.2589\n",
      "Epoch 91/100\n",
      "1/1 [==============================] - 0s 3ms/step - loss: 0.1354 - mae: 0.1354\n",
      "Epoch 92/100\n",
      "1/1 [==============================] - 0s 3ms/step - loss: 0.0939 - mae: 0.0939\n",
      "Epoch 93/100\n",
      "1/1 [==============================] - 0s 3ms/step - loss: 0.2230 - mae: 0.2230\n",
      "Epoch 94/100\n",
      "1/1 [==============================] - 0s 4ms/step - loss: 0.2548 - mae: 0.2548\n",
      "Epoch 95/100\n",
      "1/1 [==============================] - 0s 5ms/step - loss: 0.2268 - mae: 0.2268\n",
      "Epoch 96/100\n",
      "1/1 [==============================] - 0s 3ms/step - loss: 0.2665 - mae: 0.2665\n",
      "Epoch 97/100\n",
      "1/1 [==============================] - 0s 3ms/step - loss: 0.1667 - mae: 0.1667\n",
      "Epoch 98/100\n",
      "1/1 [==============================] - 0s 3ms/step - loss: 0.2063 - mae: 0.2063\n",
      "Epoch 99/100\n",
      "1/1 [==============================] - 0s 4ms/step - loss: 0.0644 - mae: 0.0644\n",
      "Epoch 100/100\n",
      "1/1 [==============================] - 0s 3ms/step - loss: 0.2832 - mae: 0.2832\n"
     ]
    },
    {
     "data": {
      "text/plain": [
       "<tensorflow.python.keras.callbacks.History at 0x2aba0345668>"
      ]
     },
     "execution_count": 43,
     "metadata": {},
     "output_type": "execute_result"
    }
   ],
   "source": [
    "# Let's see if we can make another change to improve our model\n",
    "# 1. create the model (this time with an extra hidden layer with 100 hidden units)\n",
    "model = tf.keras.Sequential([\n",
    "    tf.keras.layers.Dense(50, activation=None),\n",
    "    tf.keras.layers.Dense(1)\n",
    "    \n",
    "])\n",
    "\n",
    "# 2. Compile the model\n",
    "model.compile(loss=\"mae\",\n",
    "              # uno de los hiperparametros mas importantes es el learning rating\n",
    "              optimizer=tf.keras.optimizers.Adam(lr=0.01),\n",
    "              metrics=[\"mae\"])\n",
    "\n",
    "# 3. Fit the model\n",
    "model.fit(X,y, epochs=100)"
   ]
  },
  {
   "cell_type": "code",
   "execution_count": 44,
   "id": "economic-swift",
   "metadata": {},
   "outputs": [
    {
     "data": {
      "text/plain": [
       "(<tf.Tensor: shape=(8,), dtype=float32, numpy=array([-7., -4., -1.,  2.,  5.,  8., 11., 14.], dtype=float32)>,\n",
       " <tf.Tensor: shape=(8,), dtype=float32, numpy=array([ 3.,  6.,  9., 12., 15., 18., 21., 24.], dtype=float32)>)"
      ]
     },
     "execution_count": 44,
     "metadata": {},
     "output_type": "execute_result"
    }
   ],
   "source": [
    "#  Let's remind ourselves of the data\n",
    "X, y"
   ]
  },
  {
   "cell_type": "code",
   "execution_count": 45,
   "id": "honest-integral",
   "metadata": {},
   "outputs": [
    {
     "name": "stdout",
     "output_type": "stream",
     "text": [
      "WARNING:tensorflow:6 out of the last 7 calls to <function Model.make_predict_function.<locals>.predict_function at 0x000002ABA02E9510> triggered tf.function retracing. Tracing is expensive and the excessive number of tracings could be due to (1) creating @tf.function repeatedly in a loop, (2) passing tensors with different shapes, (3) passing Python objects instead of tensors. For (1), please define your @tf.function outside of the loop. For (2), @tf.function has experimental_relax_shapes=True option that relaxes argument shapes that can avoid unnecessary retracing. For (3), please refer to https://www.tensorflow.org/guide/function#controlling_retracing and https://www.tensorflow.org/api_docs/python/tf/function for  more details.\n"
     ]
    },
    {
     "data": {
      "text/plain": [
       "array([[26.260729]], dtype=float32)"
      ]
     },
     "execution_count": 45,
     "metadata": {},
     "output_type": "execute_result"
    }
   ],
   "source": [
    "# Let's try to make a prediction\n",
    "model.predict([17.0])"
   ]
  },
  {
   "cell_type": "markdown",
   "id": "impossible-holly",
   "metadata": {},
   "source": [
    "## Evaluating a model\n",
    "In practice, a typical workflow you'll go through when building neural networks is:\n",
    "```\n",
    "Build a model -> fit it -> evaluate it -> tweak a model ->\n",
    "fit it -> evaluate it --> fit it --> evaluate it ....```"
   ]
  },
  {
   "cell_type": "markdown",
   "id": "frank-course",
   "metadata": {},
   "source": [
    "When it comes to evaluation ... there are 3 words you shoudl memorize:\n",
    "\"Visualize, visualize, visualize\"\n",
    "It's a good idea to visualize:\n",
    "* The data - what data are we working with? what does it look like?\n",
    "* The model itself - what does our model look like?\n",
    "* The training of a model - how does a model perform while it learns?\n",
    "* The prediction of the model - how do the predictions of a model line up againt the grond truth, (the original labels)?\n"
   ]
  },
  {
   "cell_type": "code",
   "execution_count": 47,
   "id": "separate-workshop",
   "metadata": {},
   "outputs": [
    {
     "data": {
      "text/plain": [
       "<tf.Tensor: shape=(50,), dtype=int32, numpy=\n",
       "array([-100,  -96,  -92,  -88,  -84,  -80,  -76,  -72,  -68,  -64,  -60,\n",
       "        -56,  -52,  -48,  -44,  -40,  -36,  -32,  -28,  -24,  -20,  -16,\n",
       "        -12,   -8,   -4,    0,    4,    8,   12,   16,   20,   24,   28,\n",
       "         32,   36,   40,   44,   48,   52,   56,   60,   64,   68,   72,\n",
       "         76,   80,   84,   88,   92,   96])>"
      ]
     },
     "execution_count": 47,
     "metadata": {},
     "output_type": "execute_result"
    }
   ],
   "source": [
    "# Make a bigger dataset\n",
    "\n",
    "X = tf.range(-100, 100, 4)\n",
    "X "
   ]
  },
  {
   "cell_type": "code",
   "execution_count": 50,
   "id": "loose-elevation",
   "metadata": {},
   "outputs": [
    {
     "data": {
      "text/plain": [
       "<tf.Tensor: shape=(50,), dtype=int32, numpy=\n",
       "array([-90, -86, -82, -78, -74, -70, -66, -62, -58, -54, -50, -46, -42,\n",
       "       -38, -34, -30, -26, -22, -18, -14, -10,  -6,  -2,   2,   6,  10,\n",
       "        14,  18,  22,  26,  30,  34,  38,  42,  46,  50,  54,  58,  62,\n",
       "        66,  70,  74,  78,  82,  86,  90,  94,  98, 102, 106])>"
      ]
     },
     "execution_count": 50,
     "metadata": {},
     "output_type": "execute_result"
    }
   ],
   "source": [
    "# Make labels for the dataset\n",
    "\n",
    "y = X + 10\n",
    "y"
   ]
  },
  {
   "cell_type": "code",
   "execution_count": 52,
   "id": "preceding-public",
   "metadata": {},
   "outputs": [
    {
     "data": {
      "text/plain": [
       "<matplotlib.collections.PathCollection at 0x2ab9ef9e940>"
      ]
     },
     "execution_count": 52,
     "metadata": {},
     "output_type": "execute_result"
    },
    {
     "data": {
      "image/png": "[encoded data removed]",
      "text/plain": [
       "<Figure size 432x288 with 1 Axes>"
      ]
     },
     "metadata": {
      "needs_background": "light"
     },
     "output_type": "display_data"
    }
   ],
   "source": [
    "# Visualize the data \n",
    "import matplotlib.pyplot as plt\n",
    "\n",
    "plt.scatter(X, y)"
   ]
  },
  {
   "cell_type": "markdown",
   "id": "purple-intervention",
   "metadata": {},
   "source": [
    "### The 3 set ...\n",
    "\n",
    "* **Training set** - the model learns from this data, which is typically 70-80% of the total data you hava available.\n",
    "\n",
    "* **Validation set** - the model gets tuned on  this data, which is typically 10 - 15% of the data available.\n",
    "\n",
    "* **Test set** - the model gets evaluated on this  data to test what is has learned, this set is typically 10-15% of the total data available.\n"
   ]
  },
  {
   "cell_type": "code",
   "execution_count": 53,
   "id": "gentle-format",
   "metadata": {},
   "outputs": [
    {
     "data": {
      "text/plain": [
       "50"
      ]
     },
     "execution_count": 53,
     "metadata": {},
     "output_type": "execute_result"
    }
   ],
   "source": [
    "# Check the length of how many samples we have\n",
    "len(X)"
   ]
  },
  {
   "cell_type": "code",
   "execution_count": 55,
   "id": "artistic-beatles",
   "metadata": {},
   "outputs": [
    {
     "data": {
      "text/plain": [
       "(40, 10, 40, 10)"
      ]
     },
     "execution_count": 55,
     "metadata": {},
     "output_type": "execute_result"
    }
   ],
   "source": [
    "# Split the data into train and test sets\n",
    "X_train = X[:40] # first 40 are training samples(80% of the  data)\n",
    "y_train = y[:40]\n",
    "\n",
    "X_test = X[40:] # last 10 are testing samples(20% of the data)\n",
    "y_test = y[40:]\n",
    "\n",
    "len(X_train), len(X_test), len(y_train), len(y_test)\n"
   ]
  },
  {
   "cell_type": "markdown",
   "id": "lucky-stupid",
   "metadata": {},
   "source": [
    "### Visualizing the data\n",
    "Now we've got our data in training and test sets ... let's visualize it againg!\n"
   ]
  },
  {
   "cell_type": "code",
   "execution_count": 57,
   "id": "optimum-inflation",
   "metadata": {},
   "outputs": [
    {
     "data": {
      "image/png": "[encoded data removed]",
      "text/plain": [
       "<Figure size 720x504 with 1 Axes>"
      ]
     },
     "metadata": {
      "needs_background": "light"
     },
     "output_type": "display_data"
    }
   ],
   "source": [
    "plt.figure(figsize=(10, 7))\n",
    "# plot training data in blue\n",
    "plt.scatter(X_train, y_train, c=\"b\", label=\"training data\")# our model will learn on this\n",
    "# plot test data in green\n",
    "plt.scatter(X_test, y_test, c=\"g\", label=\"testing data\")# want our model to be able to predict this(given X, what's y?)\n",
    "#Show a legend\n",
    "plt.legend();\n"
   ]
  },
  {
   "cell_type": "code",
   "execution_count": 58,
   "id": "broken-intro",
   "metadata": {},
   "outputs": [],
   "source": [
    "# let's have a look at how to build a neural network for our data\n",
    "# 1. Create a model\n",
    "model = tf.keras.Sequential([\n",
    "    tf.keras.layers.Dense(1)\n",
    "])\n",
    "\n",
    "# 2. Compile the model\n",
    "model.compile(loss=tf.keras.losses.mae,\n",
    "              optimizer=tf.keras.optimizers.SGD(),\n",
    "              metrics=[\"mae\"])\n",
    "# 3. Fit the model\n",
    "\n",
    "##model.fit(X_train, y_train, epochs = 100)\n"
   ]
  },
  {
   "cell_type": "markdown",
   "id": "orange-adobe",
   "metadata": {},
   "source": [
    "### Visualizing the model"
   ]
  },
  {
   "cell_type": "code",
   "execution_count": 60,
   "id": "alert-czech",
   "metadata": {},
   "outputs": [
    {
     "ename": "ValueError",
     "evalue": "This model has not yet been built. Build the model first by calling `build()` or calling `fit()` with some data, or specify an `input_shape` argument in the first layer(s) for automatic build.",
     "output_type": "error",
     "traceback": [
      "\u001b[1;31m---------------------------------------------------------------------------\u001b[0m",
      "\u001b[1;31mValueError\u001b[0m                                Traceback (most recent call last)",
      "\u001b[1;32m<ipython-input-60-5f15418b3570>\u001b[0m in \u001b[0;36m<module>\u001b[1;34m\u001b[0m\n\u001b[1;32m----> 1\u001b[1;33m \u001b[0mmodel\u001b[0m\u001b[1;33m.\u001b[0m\u001b[0msummary\u001b[0m\u001b[1;33m(\u001b[0m\u001b[1;33m)\u001b[0m\u001b[1;33m\u001b[0m\u001b[1;33m\u001b[0m\u001b[0m\n\u001b[0m",
      "\u001b[1;32m~\\Desktop\\buldozer-price-prediction-project\\env\\lib\\site-packages\\tensorflow\\python\\keras\\engine\\training.py\u001b[0m in \u001b[0;36msummary\u001b[1;34m(self, line_length, positions, print_fn)\u001b[0m\n\u001b[0;32m   2374\u001b[0m     \"\"\"\n\u001b[0;32m   2375\u001b[0m     \u001b[1;32mif\u001b[0m \u001b[1;32mnot\u001b[0m \u001b[0mself\u001b[0m\u001b[1;33m.\u001b[0m\u001b[0mbuilt\u001b[0m\u001b[1;33m:\u001b[0m\u001b[1;33m\u001b[0m\u001b[1;33m\u001b[0m\u001b[0m\n\u001b[1;32m-> 2376\u001b[1;33m       raise ValueError('This model has not yet been built. '\n\u001b[0m\u001b[0;32m   2377\u001b[0m                        \u001b[1;34m'Build the model first by calling `build()` or calling '\u001b[0m\u001b[1;33m\u001b[0m\u001b[1;33m\u001b[0m\u001b[0m\n\u001b[0;32m   2378\u001b[0m                        \u001b[1;34m'`fit()` with some data, or specify '\u001b[0m\u001b[1;33m\u001b[0m\u001b[1;33m\u001b[0m\u001b[0m\n",
      "\u001b[1;31mValueError\u001b[0m: This model has not yet been built. Build the model first by calling `build()` or calling `fit()` with some data, or specify an `input_shape` argument in the first layer(s) for automatic build."
     ]
    }
   ],
   "source": [
    "model.summary()"
   ]
  },
  {
   "cell_type": "code",
   "execution_count": 63,
   "id": "personalized-attendance",
   "metadata": {},
   "outputs": [
    {
     "data": {
      "text/plain": [
       "(<tf.Tensor: shape=(), dtype=int32, numpy=-100>,\n",
       " <tf.Tensor: shape=(), dtype=int32, numpy=-90>)"
      ]
     },
     "execution_count": 63,
     "metadata": {},
     "output_type": "execute_result"
    }
   ],
   "source": [
    "X[0], y[0]"
   ]
  },
  {
   "cell_type": "code",
   "execution_count": 89,
   "id": "rational-yacht",
   "metadata": {},
   "outputs": [],
   "source": [
    "# Let's create a model which build automatically by definning the input_shape argument in the first layers\n",
    "tf.random.set_seed(42)\n",
    "\n",
    "# 1. Create a model (same as above)\n",
    "# recordar que el modo secuencial se ejecuta de arriba abajo\n",
    "# el input_shape a veces hace falta especificarlo, y es el numero de features\n",
    "model = tf.keras.Sequential([\n",
    "    \n",
    "    tf.keras.layers.Dense(10, input_shape=[1], name=\"input_layer\"),\n",
    "    tf.keras.layers.Dense(1, name =\"output_layer\")\n",
    "    \n",
    "], name = \"model_1\")\n",
    "\n",
    "# 2. Compile the model(same as above)\n",
    "# dense = fully conecteda, se refiere a las neuronas conectdas\n",
    "model.compile(loss=tf.keras.losses.mae,\n",
    "              optimizer= tf.keras.optimizers.SGD(),\n",
    "              metrics=[\"mae\"])\n"
   ]
  },
  {
   "cell_type": "code",
   "execution_count": 90,
   "id": "supposed-brazil",
   "metadata": {},
   "outputs": [
    {
     "name": "stdout",
     "output_type": "stream",
     "text": [
      "Model: \"model_1\"\n",
      "_________________________________________________________________\n",
      "Layer (type)                 Output Shape              Param #   \n",
      "=================================================================\n",
      "input_layer (Dense)          (None, 10)                20        \n",
      "_________________________________________________________________\n",
      "output_layer (Dense)         (None, 1)                 11        \n",
      "=================================================================\n",
      "Total params: 31\n",
      "Trainable params: 31\n",
      "Non-trainable params: 0\n",
      "_________________________________________________________________\n"
     ]
    }
   ],
   "source": [
    "model.summary()"
   ]
  },
  {
   "cell_type": "markdown",
   "id": "meaning-suspect",
   "metadata": {},
   "source": [
    "* Total params- tota number of parameters in the model.(cantidad de patrones que el modelo intenta aprender dentro de la relacion entre x e y\n",
    "\n",
    "\n",
    "* Trainable parameters - these are the parameters (patterns) the model can update as it trains.\n",
    "\n",
    "* Non-trainable params - these parameters aren't updated during training\n",
    "(this is typical when you bring in already learn patterns or parameteres from other model during transfer learning)\n",
    "\n",
    "* los parametros que encontramos tambien se les dice pesos y bias\n",
    "**Resource:** for a more in-depth overview of the trainable parameters whitin a layer, check out MIT's introduction to deeplearning video."
   ]
  },
  {
   "cell_type": "code",
   "execution_count": 91,
   "id": "incorporate-certificate",
   "metadata": {},
   "outputs": [
    {
     "data": {
      "text/plain": [
       "<tensorflow.python.keras.callbacks.History at 0x2aba19069e8>"
      ]
     },
     "execution_count": 91,
     "metadata": {},
     "output_type": "execute_result"
    }
   ],
   "source": [
    "# Ler's fit our model to the training data\n",
    "\n",
    "model.fit(X_train, y_train, epochs=100, verbose=0)"
   ]
  },
  {
   "cell_type": "code",
   "execution_count": 92,
   "id": "dependent-performer",
   "metadata": {},
   "outputs": [
    {
     "name": "stdout",
     "output_type": "stream",
     "text": [
      "Model: \"model_1\"\n",
      "_________________________________________________________________\n",
      "Layer (type)                 Output Shape              Param #   \n",
      "=================================================================\n",
      "input_layer (Dense)          (None, 10)                20        \n",
      "_________________________________________________________________\n",
      "output_layer (Dense)         (None, 1)                 11        \n",
      "=================================================================\n",
      "Total params: 31\n",
      "Trainable params: 31\n",
      "Non-trainable params: 0\n",
      "_________________________________________________________________\n"
     ]
    }
   ],
   "source": [
    "## Get a  summary of our model\n",
    "model.summary()"
   ]
  },
  {
   "cell_type": "code",
   "execution_count": 93,
   "id": "portable-layout",
   "metadata": {},
   "outputs": [],
   "source": [
    "from tensorflow.keras.utils import plot_model"
   ]
  },
  {
   "cell_type": "code",
   "execution_count": 83,
   "id": "analyzed-hanging",
   "metadata": {},
   "outputs": [
    {
     "name": "stdout",
     "output_type": "stream",
     "text": [
      "('Failed to import pydot. You must `pip install pydot` and install graphviz (https://graphviz.gitlab.io/download/), ', 'for `pydotprint` to work.')\n"
     ]
    }
   ],
   "source": [
    "plot_model(model=model)\n",
    "# para solucionar este error revisar el cuaderno de random forest"
   ]
  },
  {
   "cell_type": "markdown",
   "id": "according-usage",
   "metadata": {},
   "source": [
    "### Visualizing our model's predictions\n",
    "\n",
    "To visualize predictions, it's a good idea to plot them against te ground truth labels.\n",
    "\n",
    "Often you'll see this in the form of `y_test` or `y_true` vs`y_pred`(ground truth versus your model's predictions\n",
    "\n"
   ]
  },
  {
   "cell_type": "code",
   "execution_count": 94,
   "id": "verbal-genre",
   "metadata": {},
   "outputs": [
    {
     "name": "stdout",
     "output_type": "stream",
     "text": [
      "WARNING:tensorflow:7 out of the last 8 calls to <function Model.make_predict_function.<locals>.predict_function at 0x000002ABA1961840> triggered tf.function retracing. Tracing is expensive and the excessive number of tracings could be due to (1) creating @tf.function repeatedly in a loop, (2) passing tensors with different shapes, (3) passing Python objects instead of tensors. For (1), please define your @tf.function outside of the loop. For (2), @tf.function has experimental_relax_shapes=True option that relaxes argument shapes that can avoid unnecessary retracing. For (3), please refer to https://www.tensorflow.org/guide/function#controlling_retracing and https://www.tensorflow.org/api_docs/python/tf/function for  more details.\n"
     ]
    },
    {
     "data": {
      "text/plain": [
       "array([[ 70.552185],\n",
       "       [ 75.13991 ],\n",
       "       [ 79.72764 ],\n",
       "       [ 84.315346],\n",
       "       [ 88.90308 ],\n",
       "       [ 93.49081 ],\n",
       "       [ 98.07852 ],\n",
       "       [102.666245],\n",
       "       [107.253975],\n",
       "       [111.84169 ]], dtype=float32)"
      ]
     },
     "execution_count": 94,
     "metadata": {},
     "output_type": "execute_result"
    }
   ],
   "source": [
    "# Make some predictions\n",
    "y_preds = model.predict(X_test)\n",
    "y_preds"
   ]
  },
  {
   "cell_type": "code",
   "execution_count": 95,
   "id": "smoking-tracker",
   "metadata": {},
   "outputs": [
    {
     "data": {
      "text/plain": [
       "<tf.Tensor: shape=(10,), dtype=int32, numpy=array([ 70,  74,  78,  82,  86,  90,  94,  98, 102, 106])>"
      ]
     },
     "execution_count": 95,
     "metadata": {},
     "output_type": "execute_result"
    }
   ],
   "source": [
    "y_test"
   ]
  },
  {
   "cell_type": "markdown",
   "id": "endless-taste",
   "metadata": {},
   "source": [
    "**Note:** If you feel like you're going to reuse some kind of functionality in the future, it's a good idea to turn it into a function"
   ]
  },
  {
   "cell_type": "code",
   "execution_count": 100,
   "id": "working-criticism",
   "metadata": {},
   "outputs": [],
   "source": [
    "# Let's create a plotting function\n",
    "def plot_predictions(train_data= X_train,\n",
    "                     train_labels= y_train,\n",
    "                     test_data=X_test,\n",
    "                     test_labels=y_test,\n",
    "                     predictions=y_preds):\n",
    "    \"\"\"\n",
    "    \n",
    "    Plot training data, test data and compares predictions to ground truht Labels.\n",
    "    \n",
    "    \"\"\"\n",
    "    \n",
    "    plt.figure(figsize=(10, 7))\n",
    "    # Plot training data in blue\n",
    "    \n",
    "    plt.scatter(train_data, train_labels, c=\"b\", label =\"Training data\")\n",
    "    # Plot testing data in green\n",
    "    \n",
    "    plt.scatter(test_data, test_labels, c=\"g\", label =\"Testing data\")\n",
    "    \n",
    "    # PLot model's predictions in red\n",
    "    \n",
    "    plt.scatter(test_data, predictions, c=\"r\", label=\"Predictions\")\n",
    "    # Show the legend\n",
    "    plt.legend();\n",
    "    \n",
    "    "
   ]
  },
  {
   "cell_type": "code",
   "execution_count": 101,
   "id": "martial-kitchen",
   "metadata": {},
   "outputs": [
    {
     "data": {
      "image/png": "[encoded data removed]",
      "text/plain": [
       "<Figure size 720x504 with 1 Axes>"
      ]
     },
     "metadata": {
      "needs_background": "light"
     },
     "output_type": "display_data"
    }
   ],
   "source": [
    "plot_predictions()"
   ]
  },
  {
   "cell_type": "code",
   "execution_count": 102,
   "id": "excited-mobility",
   "metadata": {},
   "outputs": [
    {
     "data": {
      "image/png": "[encoded data removed]",
      "text/plain": [
       "<Figure size 720x504 with 1 Axes>"
      ]
     },
     "metadata": {
      "needs_background": "light"
     },
     "output_type": "display_data"
    }
   ],
   "source": [
    "# for completeness.. also\n",
    "plot_predictions(train_data = X_train,\n",
    "                 train_labels = y_train,\n",
    "                 test_data = X_test,\n",
    "                 test_labels = y_test,\n",
    "                 predictions = y_preds)"
   ]
  },
  {
   "cell_type": "markdown",
   "id": "median-franklin",
   "metadata": {},
   "source": [
    "### Evaluating our model's predictions with regression evaluation metrics\n",
    "\n",
    "\n",
    "Depending on the problem you're working on, there will be different evaluation metrics to evaluate your model's performance.\n",
    "\n",
    "Since we're working on a regression, two of the main metrics:\n",
    "* MAE- mean absolute error,\"on average, how wrong is each of my model's predictions\"\n",
    "\n",
    "* MSE- mean square error, \"square the average errors\""
   ]
  },
  {
   "cell_type": "code",
   "execution_count": 103,
   "id": "brave-provincial",
   "metadata": {},
   "outputs": [
    {
     "name": "stdout",
     "output_type": "stream",
     "text": [
      "1/1 [==============================] - 0s 253ms/step - loss: 3.1969 - mae: 3.1969\n"
     ]
    },
    {
     "data": {
      "text/plain": [
       "[3.196941375732422, 3.196941375732422]"
      ]
     },
     "execution_count": 103,
     "metadata": {},
     "output_type": "execute_result"
    }
   ],
   "source": [
    "# Evaluate the model on the test\n",
    "model.evaluate(X_test, y_test)"
   ]
  },
  {
   "cell_type": "code",
   "execution_count": 110,
   "id": "bridal-workshop",
   "metadata": {},
   "outputs": [
    {
     "data": {
      "text/plain": [
       "<tf.Tensor: shape=(10, 1), dtype=float32, numpy=\n",
       "array([[ 70.552185],\n",
       "       [ 75.13991 ],\n",
       "       [ 79.72764 ],\n",
       "       [ 84.315346],\n",
       "       [ 88.90308 ],\n",
       "       [ 93.49081 ],\n",
       "       [ 98.07852 ],\n",
       "       [102.666245],\n",
       "       [107.253975],\n",
       "       [111.84169 ]], dtype=float32)>"
      ]
     },
     "execution_count": 110,
     "metadata": {},
     "output_type": "execute_result"
    }
   ],
   "source": [
    "tf.constant(y_preds)"
   ]
  },
  {
   "cell_type": "code",
   "execution_count": 105,
   "id": "hawaiian-cancer",
   "metadata": {},
   "outputs": [
    {
     "data": {
      "text/plain": [
       "<tf.Tensor: shape=(10,), dtype=int32, numpy=array([ 70,  74,  78,  82,  86,  90,  94,  98, 102, 106])>"
      ]
     },
     "execution_count": 105,
     "metadata": {},
     "output_type": "execute_result"
    }
   ],
   "source": [
    "y_test"
   ]
  },
  {
   "cell_type": "code",
   "execution_count": 108,
   "id": "artificial-intervention",
   "metadata": {},
   "outputs": [
    {
     "data": {
      "text/plain": [
       "<tf.Tensor: shape=(10,), dtype=float32, numpy=\n",
       "array([17.558252 , 14.1160555, 11.708944 , 10.336931 , 10.       ,\n",
       "       10.698161 , 12.447113 , 15.332995 , 19.253971 , 23.84169  ],\n",
       "      dtype=float32)>"
      ]
     },
     "execution_count": 108,
     "metadata": {},
     "output_type": "execute_result"
    }
   ],
   "source": [
    "# Calculate the mean absolute error\n",
    "mae = tf.metrics.mean_absolute_error(y_true=y_test, y_pred= tf.constant(y_preds))\n",
    "mae"
   ]
  },
  {
   "cell_type": "code",
   "execution_count": 112,
   "id": "editorial-minute",
   "metadata": {},
   "outputs": [
    {
     "data": {
      "text/plain": [
       "<tf.Tensor: shape=(10,), dtype=float32, numpy=\n",
       "array([ 70.552185,  75.13991 ,  79.72764 ,  84.315346,  88.90308 ,\n",
       "        93.49081 ,  98.07852 , 102.666245, 107.253975, 111.84169 ],\n",
       "      dtype=float32)>"
      ]
     },
     "execution_count": 112,
     "metadata": {},
     "output_type": "execute_result"
    }
   ],
   "source": [
    "# Nos damos cuenta que y_preds tiene una dimension adicional que y_test, procedemos a retirarla\n",
    "tf.squeeze(y_preds)\n"
   ]
  },
  {
   "cell_type": "code",
   "execution_count": 114,
   "id": "sacred-center",
   "metadata": {},
   "outputs": [
    {
     "data": {
      "text/plain": [
       "<tf.Tensor: shape=(), dtype=float32, numpy=3.19694>"
      ]
     },
     "execution_count": 114,
     "metadata": {},
     "output_type": "execute_result"
    }
   ],
   "source": [
    "# ahora que estan en la misma forma calculamos el MAE\n",
    "\n",
    "mae = tf.metrics.mean_absolute_error(y_true = y_test,\n",
    "                                     y_pred = tf.squeeze(y_preds))\n",
    "mae\n"
   ]
  },
  {
   "cell_type": "code",
   "execution_count": 117,
   "id": "exposed-lightweight",
   "metadata": {},
   "outputs": [
    {
     "data": {
      "text/plain": [
       "<tf.Tensor: shape=(), dtype=float32, numpy=13.070127>"
      ]
     },
     "execution_count": 117,
     "metadata": {},
     "output_type": "execute_result"
    }
   ],
   "source": [
    "# recuerda joel que estas trabajando con \"y_preds\"\n",
    "# Calculate the mean square error\n",
    "mse = tf.metrics.mean_squared_error(y_true=y_test,\n",
    "                                    y_pred=tf.squeeze(y_preds))\n",
    "mse"
   ]
  },
  {
   "cell_type": "code",
   "execution_count": 180,
   "id": "vulnerable-yeast",
   "metadata": {},
   "outputs": [],
   "source": [
    "# Make some functions to reuse MAE and MSE\n",
    "def mae(y_true, y_pred):\n",
    "    return tf.metrics.mean_absolute_error(y_true=y_test,\n",
    "                                          y_pred=tf.squeeze(y_preds))\n",
    "\n",
    "def mse(y_true, y_pred):\n",
    "    return tf.metrics.mean_squared_error(y_true=y_test,\n",
    "                                         y_pred=tf.squeeze(y_preds))\n",
    "    \n",
    "    \n",
    "    "
   ]
  },
  {
   "cell_type": "markdown",
   "id": "subject-waters",
   "metadata": {},
   "source": [
    "### Running experiments to improve our model\n",
    "\n",
    "```\n",
    "Build a model -> fit it -> evaluate it -> tweak it -> fit it \n",
    "\n",
    "--> evaluate it --> tweak it --> evaluate it ...\n",
    "```\n",
    "1. Get more data - get more examples for your model to train on (more opportunities to learn patterns or relationships between features and labels).\n",
    "\n",
    "2. Make your model larger (using a more complex model)- this might come in the form of more layers or more hidden units in each layer.\n",
    "\n",
    "3. Train for longer- give your model more of a chance to find patterns in the data.\n",
    "\n",
    "Let's do 3 modelling experiments:\n",
    "1.`model_1` - same as the original model, 1 layer, trained for 100 epochs.\n",
    "\n",
    "2.`model_2`- 2 layers, trained for 100 epochs\n",
    "\n",
    "3. `model_3`- 2 layers, trained for 500 epochs\n",
    "\n",
    "**Build`model_1`**\n",
    "\n",
    "\n"
   ]
  },
  {
   "cell_type": "code",
   "execution_count": 125,
   "id": "nasty-python",
   "metadata": {},
   "outputs": [
    {
     "name": "stdout",
     "output_type": "stream",
     "text": [
      "Epoch 1/100\n",
      "2/2 [==============================] - 0s 2ms/step - loss: 16.4124 - mae: 16.4124\n",
      "Epoch 2/100\n",
      "2/2 [==============================] - 0s 5ms/step - loss: 11.0829 - mae: 11.0829\n",
      "Epoch 3/100\n",
      "2/2 [==============================] - 0s 4ms/step - loss: 11.1242 - mae: 11.1242\n",
      "Epoch 4/100\n",
      "2/2 [==============================] - 0s 3ms/step - loss: 8.6945 - mae: 8.6945\n",
      "Epoch 5/100\n",
      "2/2 [==============================] - 0s 2ms/step - loss: 9.8003 - mae: 9.8003\n",
      "Epoch 6/100\n",
      "2/2 [==============================] - 0s 4ms/step - loss: 9.5263 - mae: 9.5263\n",
      "Epoch 7/100\n",
      "2/2 [==============================] - 0s 2ms/step - loss: 8.4102 - mae: 8.4102\n",
      "Epoch 8/100\n",
      "2/2 [==============================] - 0s 4ms/step - loss: 9.1449 - mae: 9.1449\n",
      "Epoch 9/100\n",
      "2/2 [==============================] - 0s 3ms/step - loss: 19.4932 - mae: 19.4932\n",
      "Epoch 10/100\n",
      "2/2 [==============================] - 0s 3ms/step - loss: 9.6061 - mae: 9.6061\n",
      "Epoch 11/100\n",
      "2/2 [==============================] - 0s 5ms/step - loss: 8.5992 - mae: 8.5992\n",
      "Epoch 12/100\n",
      "2/2 [==============================] - 0s 3ms/step - loss: 10.9324 - mae: 10.9324\n",
      "Epoch 13/100\n",
      "2/2 [==============================] - 0s 4ms/step - loss: 10.0574 - mae: 10.0574\n",
      "Epoch 14/100\n",
      "2/2 [==============================] - 0s 5ms/step - loss: 16.5679 - mae: 16.5679\n",
      "Epoch 15/100\n",
      "2/2 [==============================] - 0s 3ms/step - loss: 11.4537 - mae: 11.4537\n",
      "Epoch 16/100\n",
      "2/2 [==============================] - 0s 3ms/step - loss: 8.4056 - mae: 8.4056\n",
      "Epoch 17/100\n",
      "2/2 [==============================] - 0s 3ms/step - loss: 13.8417 - mae: 13.8417\n",
      "Epoch 18/100\n",
      "2/2 [==============================] - 0s 3ms/step - loss: 11.6621 - mae: 11.6621\n",
      "Epoch 19/100\n",
      "2/2 [==============================] - 0s 2ms/step - loss: 18.7623 - mae: 18.7623\n",
      "Epoch 20/100\n",
      "2/2 [==============================] - 0s 2ms/step - loss: 15.5702 - mae: 15.5702\n",
      "Epoch 21/100\n",
      "2/2 [==============================] - 0s 2ms/step - loss: 10.9959 - mae: 10.9959\n",
      "Epoch 22/100\n",
      "2/2 [==============================] - 0s 5ms/step - loss: 8.0023 - mae: 8.0023\n",
      "Epoch 23/100\n",
      "2/2 [==============================] - 0s 3ms/step - loss: 9.8593 - mae: 9.8593\n",
      "Epoch 24/100\n",
      "2/2 [==============================] - 0s 4ms/step - loss: 7.5796 - mae: 7.5796\n",
      "Epoch 25/100\n",
      "2/2 [==============================] - 0s 4ms/step - loss: 13.7226 - mae: 13.7226\n",
      "Epoch 26/100\n",
      "2/2 [==============================] - 0s 5ms/step - loss: 17.1740 - mae: 17.1740\n",
      "Epoch 27/100\n",
      "2/2 [==============================] - 0s 6ms/step - loss: 13.4233 - mae: 13.4233\n",
      "Epoch 28/100\n",
      "2/2 [==============================] - 0s 3ms/step - loss: 14.5473 - mae: 14.5473\n",
      "Epoch 29/100\n",
      "2/2 [==============================] - 0s 5ms/step - loss: 9.8753 - mae: 9.8753\n",
      "Epoch 30/100\n",
      "2/2 [==============================] - 0s 4ms/step - loss: 17.1187 - mae: 17.1187\n",
      "Epoch 31/100\n",
      "2/2 [==============================] - 0s 4ms/step - loss: 24.5949 - mae: 24.5949\n",
      "Epoch 32/100\n",
      "2/2 [==============================] - 0s 6ms/step - loss: 7.6765 - mae: 7.6765\n",
      "Epoch 33/100\n",
      "2/2 [==============================] - 0s 4ms/step - loss: 9.2971 - mae: 9.2971\n",
      "Epoch 34/100\n",
      "2/2 [==============================] - ETA: 0s - loss: 15.0483 - mae: 15.048 - 0s 5ms/step - loss: 14.1703 - mae: 14.1703\n",
      "Epoch 35/100\n",
      "2/2 [==============================] - 0s 3ms/step - loss: 10.8635 - mae: 10.8635\n",
      "Epoch 36/100\n",
      "2/2 [==============================] - 0s 3ms/step - loss: 13.5690 - mae: 13.5690\n",
      "Epoch 37/100\n",
      "2/2 [==============================] - ETA: 0s - loss: 9.0820 - mae: 9.082 - 0s 5ms/step - loss: 9.3448 - mae: 9.3448\n",
      "Epoch 38/100\n",
      "2/2 [==============================] - 0s 6ms/step - loss: 10.4804 - mae: 10.4804\n",
      "Epoch 39/100\n",
      "2/2 [==============================] - 0s 3ms/step - loss: 10.0178 - mae: 10.0178\n",
      "Epoch 40/100\n",
      "2/2 [==============================] - 0s 3ms/step - loss: 10.8005 - mae: 10.8005\n",
      "Epoch 41/100\n",
      "2/2 [==============================] - 0s 6ms/step - loss: 7.7789 - mae: 7.7789\n",
      "Epoch 42/100\n",
      "2/2 [==============================] - 0s 3ms/step - loss: 10.2844 - mae: 10.2844\n",
      "Epoch 43/100\n",
      "2/2 [==============================] - 0s 4ms/step - loss: 8.9628 - mae: 8.9628\n",
      "Epoch 44/100\n",
      "2/2 [==============================] - 0s 4ms/step - loss: 12.6243 - mae: 12.6243\n",
      "Epoch 45/100\n",
      "2/2 [==============================] - 0s 5ms/step - loss: 14.1236 - mae: 14.1236\n",
      "Epoch 46/100\n",
      "2/2 [==============================] - 0s 3ms/step - loss: 8.2681 - mae: 8.2681\n",
      "Epoch 47/100\n",
      "2/2 [==============================] - 0s 3ms/step - loss: 9.0126 - mae: 9.0126\n",
      "Epoch 48/100\n",
      "2/2 [==============================] - 0s 3ms/step - loss: 10.6882 - mae: 10.6882\n",
      "Epoch 49/100\n",
      "2/2 [==============================] - 0s 4ms/step - loss: 7.7431 - mae: 7.7431\n",
      "Epoch 50/100\n",
      "2/2 [==============================] - 0s 3ms/step - loss: 9.3950 - mae: 9.3950\n",
      "Epoch 51/100\n",
      "2/2 [==============================] - 0s 2ms/step - loss: 8.9267 - mae: 8.9267\n",
      "Epoch 52/100\n",
      "2/2 [==============================] - 0s 3ms/step - loss: 16.9818 - mae: 16.9818\n",
      "Epoch 53/100\n",
      "2/2 [==============================] - 0s 3ms/step - loss: 14.8677 - mae: 14.8677\n",
      "Epoch 54/100\n",
      "2/2 [==============================] - 0s 3ms/step - loss: 22.0413 - mae: 22.0413\n",
      "Epoch 55/100\n",
      "2/2 [==============================] - 0s 2ms/step - loss: 17.0640 - mae: 17.0640\n",
      "Epoch 56/100\n",
      "2/2 [==============================] - 0s 8ms/step - loss: 9.9520 - mae: 9.9520\n",
      "Epoch 57/100\n",
      "2/2 [==============================] - 0s 3ms/step - loss: 9.7522 - mae: 9.7522\n",
      "Epoch 58/100\n",
      "2/2 [==============================] - 0s 4ms/step - loss: 9.4378 - mae: 9.4378\n",
      "Epoch 59/100\n",
      "2/2 [==============================] - 0s 3ms/step - loss: 8.3373 - mae: 8.3373\n",
      "Epoch 60/100\n",
      "2/2 [==============================] - 0s 3ms/step - loss: 9.6425 - mae: 9.6425\n",
      "Epoch 61/100\n",
      "2/2 [==============================] - 0s 2ms/step - loss: 11.7590 - mae: 11.7590\n",
      "Epoch 62/100\n",
      "2/2 [==============================] - 0s 3ms/step - loss: 11.7187 - mae: 11.7187\n",
      "Epoch 63/100\n",
      "2/2 [==============================] - 0s 3ms/step - loss: 7.2316 - mae: 7.2316\n",
      "Epoch 64/100\n",
      "2/2 [==============================] - 0s 5ms/step - loss: 17.7848 - mae: 17.7848\n",
      "Epoch 65/100\n",
      "2/2 [==============================] - 0s 3ms/step - loss: 12.6256 - mae: 12.6256\n",
      "Epoch 66/100\n",
      "2/2 [==============================] - 0s 3ms/step - loss: 13.2840 - mae: 13.2840\n",
      "Epoch 67/100\n",
      "2/2 [==============================] - 0s 3ms/step - loss: 7.8471 - mae: 7.8471\n",
      "Epoch 68/100\n",
      "2/2 [==============================] - 0s 4ms/step - loss: 9.9708 - mae: 9.9708\n",
      "Epoch 69/100\n",
      "2/2 [==============================] - 0s 4ms/step - loss: 12.4903 - mae: 12.4903\n",
      "Epoch 70/100\n",
      "2/2 [==============================] - 0s 2ms/step - loss: 8.5001 - mae: 8.5001\n",
      "Epoch 71/100\n",
      "2/2 [==============================] - 0s 6ms/step - loss: 9.9996 - mae: 9.9996\n",
      "Epoch 72/100\n",
      "2/2 [==============================] - 0s 3ms/step - loss: 10.1797 - mae: 10.1797\n",
      "Epoch 73/100\n",
      "2/2 [==============================] - 0s 6ms/step - loss: 13.0024 - mae: 13.0024\n",
      "Epoch 74/100\n",
      "2/2 [==============================] - 0s 4ms/step - loss: 10.3812 - mae: 10.3812\n",
      "Epoch 75/100\n",
      "2/2 [==============================] - 0s 3ms/step - loss: 9.7621 - mae: 9.7621\n",
      "Epoch 76/100\n",
      "2/2 [==============================] - 0s 5ms/step - loss: 11.5186 - mae: 11.5186\n",
      "Epoch 77/100\n",
      "2/2 [==============================] - 0s 2ms/step - loss: 8.3070 - mae: 8.3070\n",
      "Epoch 78/100\n",
      "2/2 [==============================] - 0s 4ms/step - loss: 9.4436 - mae: 9.4436\n",
      "Epoch 79/100\n",
      "2/2 [==============================] - 0s 3ms/step - loss: 20.3897 - mae: 20.3897\n",
      "Epoch 80/100\n",
      "2/2 [==============================] - 0s 6ms/step - loss: 15.4751 - mae: 15.4751\n",
      "Epoch 81/100\n",
      "2/2 [==============================] - 0s 6ms/step - loss: 9.0208 - mae: 9.0208\n",
      "Epoch 82/100\n",
      "2/2 [==============================] - 0s 5ms/step - loss: 13.3869 - mae: 13.3869\n",
      "Epoch 83/100\n",
      "2/2 [==============================] - 0s 4ms/step - loss: 7.9649 - mae: 7.9649\n",
      "Epoch 84/100\n",
      "2/2 [==============================] - 0s 5ms/step - loss: 7.5702 - mae: 7.5702\n",
      "Epoch 85/100\n",
      "2/2 [==============================] - 0s 4ms/step - loss: 9.9706 - mae: 9.9706\n",
      "Epoch 86/100\n",
      "2/2 [==============================] - 0s 4ms/step - loss: 9.0533 - mae: 9.0533\n",
      "Epoch 87/100\n"
     ]
    },
    {
     "name": "stdout",
     "output_type": "stream",
     "text": [
      "2/2 [==============================] - 0s 3ms/step - loss: 12.2670 - mae: 12.2670\n",
      "Epoch 88/100\n",
      "2/2 [==============================] - 0s 3ms/step - loss: 10.6052 - mae: 10.6052\n",
      "Epoch 89/100\n",
      "2/2 [==============================] - 0s 2ms/step - loss: 7.1986 - mae: 7.1986\n",
      "Epoch 90/100\n",
      "2/2 [==============================] - 0s 2ms/step - loss: 13.0379 - mae: 13.0379\n",
      "Epoch 91/100\n",
      "2/2 [==============================] - 0s 3ms/step - loss: 7.1968 - mae: 7.1968\n",
      "Epoch 92/100\n",
      "2/2 [==============================] - 0s 4ms/step - loss: 7.5386 - mae: 7.5386\n",
      "Epoch 93/100\n",
      "2/2 [==============================] - 0s 2ms/step - loss: 7.0932 - mae: 7.0932\n",
      "Epoch 94/100\n",
      "2/2 [==============================] - 0s 9ms/step - loss: 12.8860 - mae: 12.8860\n",
      "Epoch 95/100\n",
      "2/2 [==============================] - 0s 2ms/step - loss: 9.9620 - mae: 9.9620\n",
      "Epoch 96/100\n",
      "2/2 [==============================] - 0s 3ms/step - loss: 8.7739 - mae: 8.7739\n",
      "Epoch 97/100\n",
      "2/2 [==============================] - 0s 4ms/step - loss: 13.0861 - mae: 13.0861\n",
      "Epoch 98/100\n",
      "2/2 [==============================] - 0s 6ms/step - loss: 8.3848 - mae: 8.3848\n",
      "Epoch 99/100\n",
      "2/2 [==============================] - 0s 2ms/step - loss: 9.7828 - mae: 9.7828\n",
      "Epoch 100/100\n",
      "2/2 [==============================] - 0s 4ms/step - loss: 8.5252 - mae: 8.5252\n"
     ]
    },
    {
     "data": {
      "text/plain": [
       "<tensorflow.python.keras.callbacks.History at 0x2aba19eb9b0>"
      ]
     },
     "execution_count": 125,
     "metadata": {},
     "output_type": "execute_result"
    }
   ],
   "source": [
    "# Set random seed\n",
    "\n",
    "tf.random.set_seed(42)\n",
    "\n",
    "# 1. Create the model\n",
    "model_1 = tf.keras.Sequential([\n",
    "    \n",
    "    tf.keras.layers.Dense(1)\n",
    "])\n",
    "\n",
    "# 2. Compile the model\n",
    "model_1.compile(loss=tf.keras.losses.mae,\n",
    "                optimizer=tf.keras.optimizers.SGD(),\n",
    "                metrics =[\"mae\"])\n",
    "\n",
    "# 3. Fit the model\n",
    "\n",
    "model_1.fit(X_train, y_train, epochs=100)\n",
    "\n"
   ]
  },
  {
   "cell_type": "code",
   "execution_count": 121,
   "id": "brief-cinema",
   "metadata": {},
   "outputs": [
    {
     "name": "stdout",
     "output_type": "stream",
     "text": [
      "WARNING:tensorflow:8 out of the last 9 calls to <function Model.make_predict_function.<locals>.predict_function at 0x000002ABA059C598> triggered tf.function retracing. Tracing is expensive and the excessive number of tracings could be due to (1) creating @tf.function repeatedly in a loop, (2) passing tensors with different shapes, (3) passing Python objects instead of tensors. For (1), please define your @tf.function outside of the loop. For (2), @tf.function has experimental_relax_shapes=True option that relaxes argument shapes that can avoid unnecessary retracing. For (3), please refer to https://www.tensorflow.org/guide/function#controlling_retracing and https://www.tensorflow.org/api_docs/python/tf/function for  more details.\n"
     ]
    },
    {
     "data": {
      "image/png": "[encoded data removed]",
      "text/plain": [
       "<Figure size 720x504 with 1 Axes>"
      ]
     },
     "metadata": {
      "needs_background": "light"
     },
     "output_type": "display_data"
    }
   ],
   "source": [
    "# Make and plot predictions for model_1\n",
    "y_preds_1 = model_1.predict(X_test)\n",
    "plot_predictions(predictions=y_preds_1)"
   ]
  },
  {
   "cell_type": "code",
   "execution_count": 135,
   "id": "behavioral-aquarium",
   "metadata": {},
   "outputs": [
    {
     "data": {
      "text/plain": [
       "(<tf.Tensor: shape=(10, 1), dtype=float32, numpy=\n",
       " array([[53.57109 ],\n",
       "        [57.05633 ],\n",
       "        [60.541573],\n",
       "        [64.02681 ],\n",
       "        [67.512054],\n",
       "        [70.99729 ],\n",
       "        [74.48254 ],\n",
       "        [77.96777 ],\n",
       "        [81.45301 ],\n",
       "        [84.938255]], dtype=float32)>,\n",
       " <tf.Tensor: shape=(10,), dtype=float32, numpy=\n",
       " array([53.57109 , 57.05633 , 60.541573, 64.02681 , 67.512054, 70.99729 ,\n",
       "        74.48254 , 77.96777 , 81.45301 , 84.938255], dtype=float32)>)"
      ]
     },
     "execution_count": 135,
     "metadata": {},
     "output_type": "execute_result"
    }
   ],
   "source": [
    "tf.constant(y_preds_1), tf.squeeze(y_preds_1)"
   ]
  },
  {
   "cell_type": "code",
   "execution_count": 137,
   "id": "handled-adrian",
   "metadata": {},
   "outputs": [
    {
     "data": {
      "text/plain": [
       "<tf.Tensor: shape=(10,), dtype=int32, numpy=array([ 70,  74,  78,  82,  86,  90,  94,  98, 102, 106])>"
      ]
     },
     "execution_count": 137,
     "metadata": {},
     "output_type": "execute_result"
    }
   ],
   "source": [
    "y_test"
   ]
  },
  {
   "cell_type": "code",
   "execution_count": 148,
   "id": "thermal-enclosure",
   "metadata": {},
   "outputs": [
    {
     "data": {
      "text/plain": [
       "(<tf.Tensor: shape=(), dtype=float32, numpy=18.745327>,\n",
       " <tf.Tensor: shape=(), dtype=float32, numpy=353.57336>)"
      ]
     },
     "execution_count": 148,
     "metadata": {},
     "output_type": "execute_result"
    }
   ],
   "source": [
    "# Calculate model_2 evaluation metrics\n",
    "# con la vieja funcion\n",
    "#mae_1 = mae(y_test, tf.squeeze(y_preds_1))\n",
    "#mse_1 = mse(y_test, tf.squeeze(y_preds_1))\n",
    "# con la nueva funcion\n",
    "mae_1 = mae(y_test, y_preds_1)\n",
    "\n",
    "mse_1 = mse(y_test, y_preds_1)\n",
    "\n",
    "mae_1, mse_1"
   ]
  },
  {
   "cell_type": "markdown",
   "id": "damaged-abortion",
   "metadata": {},
   "source": [
    "**Build `model_2`**\n",
    "* 2  dense layers, trained for 100 epochs"
   ]
  },
  {
   "cell_type": "code",
   "execution_count": 151,
   "id": "exceptional-audio",
   "metadata": {},
   "outputs": [
    {
     "data": {
      "text/plain": [
       "<tf.Tensor: shape=(40,), dtype=int32, numpy=\n",
       "array([-90, -86, -82, -78, -74, -70, -66, -62, -58, -54, -50, -46, -42,\n",
       "       -38, -34, -30, -26, -22, -18, -14, -10,  -6,  -2,   2,   6,  10,\n",
       "        14,  18,  22,  26,  30,  34,  38,  42,  46,  50,  54,  58,  62,\n",
       "        66])>"
      ]
     },
     "execution_count": 151,
     "metadata": {},
     "output_type": "execute_result"
    }
   ],
   "source": [
    "y_train"
   ]
  },
  {
   "cell_type": "code",
   "execution_count": 150,
   "id": "interstate-eleven",
   "metadata": {},
   "outputs": [
    {
     "name": "stdout",
     "output_type": "stream",
     "text": [
      "Epoch 1/100\n",
      "2/2 [==============================] - 0s 2ms/step - loss: 26.8627 - mse: 1015.8977\n",
      "Epoch 2/100\n",
      "2/2 [==============================] - 0s 3ms/step - loss: 24.4175 - mse: 767.5334\n",
      "Epoch 3/100\n",
      "2/2 [==============================] - 0s 3ms/step - loss: 31.5187 - mse: 1433.3078\n",
      "Epoch 4/100\n",
      "2/2 [==============================] - 0s 3ms/step - loss: 27.8490 - mse: 1141.6672\n",
      "Epoch 5/100\n",
      "2/2 [==============================] - 0s 3ms/step - loss: 14.6465 - mse: 267.4540\n",
      "Epoch 6/100\n",
      "2/2 [==============================] - 0s 2ms/step - loss: 11.9682 - mse: 169.5529\n",
      "Epoch 7/100\n",
      "2/2 [==============================] - 0s 3ms/step - loss: 11.0874 - mse: 141.6589\n",
      "Epoch 8/100\n",
      "2/2 [==============================] - 0s 5ms/step - loss: 11.3978 - mse: 167.3422\n",
      "Epoch 9/100\n",
      "2/2 [==============================] - 0s 4ms/step - loss: 42.4087 - mse: 2772.5432\n",
      "Epoch 10/100\n",
      "2/2 [==============================] - 0s 3ms/step - loss: 28.3537 - mse: 1129.8181\n",
      "Epoch 11/100\n",
      "2/2 [==============================] - 0s 5ms/step - loss: 9.6590 - mse: 132.9751\n",
      "Epoch 12/100\n",
      "2/2 [==============================] - 0s 3ms/step - loss: 25.8820 - mse: 933.4347\n",
      "Epoch 13/100\n",
      "2/2 [==============================] - 0s 3ms/step - loss: 16.7682 - mse: 398.1734\n",
      "Epoch 14/100\n",
      "2/2 [==============================] - 0s 2ms/step - loss: 26.6019 - mse: 1102.2358\n",
      "Epoch 15/100\n",
      "2/2 [==============================] - 0s 5ms/step - loss: 17.7361 - mse: 441.0351\n",
      "Epoch 16/100\n",
      "2/2 [==============================] - 0s 3ms/step - loss: 7.4550 - mse: 81.2729\n",
      "Epoch 17/100\n",
      "2/2 [==============================] - 0s 3ms/step - loss: 10.6974 - mse: 163.8850\n",
      "Epoch 18/100\n",
      "2/2 [==============================] - 0s 3ms/step - loss: 20.7691 - mse: 610.4133\n",
      "Epoch 19/100\n",
      "2/2 [==============================] - 0s 4ms/step - loss: 9.6535 - mse: 146.6566\n",
      "Epoch 20/100\n",
      "2/2 [==============================] - 0s 2ms/step - loss: 18.4600 - mse: 487.0985\n",
      "Epoch 21/100\n",
      "2/2 [==============================] - 0s 2ms/step - loss: 16.2352 - mse: 362.8490\n",
      "Epoch 22/100\n",
      "2/2 [==============================] - 0s 2ms/step - loss: 14.5012 - mse: 290.6680\n",
      "Epoch 23/100\n",
      "2/2 [==============================] - 0s 3ms/step - loss: 8.6493 - mse: 88.0710\n",
      "Epoch 24/100\n",
      "2/2 [==============================] - 0s 4ms/step - loss: 10.4430 - mse: 131.0228\n",
      "Epoch 25/100\n",
      "2/2 [==============================] - 0s 3ms/step - loss: 12.8060 - mse: 237.9438\n",
      "Epoch 26/100\n",
      "2/2 [==============================] - 0s 3ms/step - loss: 26.8011 - mse: 1075.4351\n",
      "Epoch 27/100\n",
      "2/2 [==============================] - 0s 2ms/step - loss: 12.0333 - mse: 202.1000\n",
      "Epoch 28/100\n",
      "2/2 [==============================] - 0s 3ms/step - loss: 23.4573 - mse: 871.2021\n",
      "Epoch 29/100\n",
      "2/2 [==============================] - 0s 3ms/step - loss: 9.1266 - mse: 92.4710\n",
      "Epoch 30/100\n",
      "2/2 [==============================] - 0s 3ms/step - loss: 31.1804 - mse: 1657.8941\n",
      "Epoch 31/100\n",
      "2/2 [==============================] - 0s 2ms/step - loss: 56.8211 - mse: 5441.4541\n",
      "Epoch 32/100\n",
      "2/2 [==============================] - 0s 3ms/step - loss: 12.2909 - mse: 221.1291\n",
      "Epoch 33/100\n",
      "2/2 [==============================] - 0s 2ms/step - loss: 15.3303 - mse: 330.0117\n",
      "Epoch 34/100\n",
      "2/2 [==============================] - 0s 3ms/step - loss: 12.8145 - mse: 215.9795\n",
      "Epoch 35/100\n",
      "2/2 [==============================] - 0s 2ms/step - loss: 9.4721 - mse: 95.5154\n",
      "Epoch 36/100\n",
      "2/2 [==============================] - 0s 2ms/step - loss: 16.6526 - mse: 404.8036\n",
      "Epoch 37/100\n",
      "2/2 [==============================] - 0s 2ms/step - loss: 10.4634 - mse: 169.1310\n",
      "Epoch 38/100\n",
      "2/2 [==============================] - 0s 5ms/step - loss: 18.7760 - mse: 459.8315\n",
      "Epoch 39/100\n",
      "2/2 [==============================] - 0s 2ms/step - loss: 20.1198 - mse: 569.0894\n",
      "Epoch 40/100\n",
      "2/2 [==============================] - 0s 2ms/step - loss: 21.4944 - mse: 654.6216\n",
      "Epoch 41/100\n",
      "2/2 [==============================] - 0s 2ms/step - loss: 14.5667 - mse: 268.1429\n",
      "Epoch 42/100\n",
      "2/2 [==============================] - 0s 2ms/step - loss: 12.2999 - mse: 188.8544\n",
      "Epoch 43/100\n",
      "2/2 [==============================] - 0s 5ms/step - loss: 11.1115 - mse: 175.7055\n",
      "Epoch 44/100\n",
      "2/2 [==============================] - 0s 2ms/step - loss: 23.5895 - mse: 869.7923\n",
      "Epoch 45/100\n",
      "2/2 [==============================] - 0s 4ms/step - loss: 9.9461 - mse: 113.3929\n",
      "Epoch 46/100\n",
      "2/2 [==============================] - 0s 3ms/step - loss: 12.0273 - mse: 188.4639\n",
      "Epoch 47/100\n",
      "2/2 [==============================] - 0s 2ms/step - loss: 9.0557 - mse: 132.7937\n",
      "Epoch 48/100\n",
      "2/2 [==============================] - 0s 4ms/step - loss: 17.8711 - mse: 427.6239\n",
      "Epoch 49/100\n",
      "2/2 [==============================] - 0s 3ms/step - loss: 9.5485 - mse: 96.8224\n",
      "Epoch 50/100\n",
      "2/2 [==============================] - 0s 3ms/step - loss: 13.7912 - mse: 256.8744\n",
      "Epoch 51/100\n",
      "2/2 [==============================] - 0s 3ms/step - loss: 11.2969 - mse: 145.4000\n",
      "Epoch 52/100\n",
      "2/2 [==============================] - 0s 4ms/step - loss: 32.1753 - mse: 1732.7581\n",
      "Epoch 53/100\n",
      "2/2 [==============================] - 0s 4ms/step - loss: 14.1257 - mse: 300.5091\n",
      "Epoch 54/100\n",
      "2/2 [==============================] - 0s 3ms/step - loss: 24.3921 - mse: 897.0252\n",
      "Epoch 55/100\n",
      "2/2 [==============================] - 0s 3ms/step - loss: 23.5967 - mse: 834.7570\n",
      "Epoch 56/100\n",
      "2/2 [==============================] - 0s 5ms/step - loss: 10.0101 - mse: 137.5419\n",
      "Epoch 57/100\n",
      "2/2 [==============================] - 0s 4ms/step - loss: 12.4333 - mse: 186.3946\n",
      "Epoch 58/100\n",
      "2/2 [==============================] - 0s 3ms/step - loss: 9.4491 - mse: 96.3008\n",
      "Epoch 59/100\n",
      "2/2 [==============================] - 0s 3ms/step - loss: 12.6438 - mse: 218.5184\n",
      "Epoch 60/100\n",
      "2/2 [==============================] - 0s 3ms/step - loss: 12.3168 - mse: 208.3238\n",
      "Epoch 61/100\n",
      "2/2 [==============================] - 0s 4ms/step - loss: 17.1832 - mse: 422.8595\n",
      "Epoch 62/100\n",
      "2/2 [==============================] - 0s 4ms/step - loss: 10.4860 - mse: 128.6799\n",
      "Epoch 63/100\n",
      "2/2 [==============================] - 0s 7ms/step - loss: 10.8072 - mse: 160.7222\n",
      "Epoch 64/100\n",
      "2/2 [==============================] - 0s 6ms/step - loss: 25.2892 - mse: 945.1683\n",
      "Epoch 65/100\n",
      "2/2 [==============================] - 0s 3ms/step - loss: 10.7923 - mse: 145.3387\n",
      "Epoch 66/100\n",
      "2/2 [==============================] - 0s 3ms/step - loss: 22.0328 - mse: 725.3457\n",
      "Epoch 67/100\n",
      "2/2 [==============================] - 0s 3ms/step - loss: 10.6505 - mse: 132.1475\n",
      "Epoch 68/100\n",
      "2/2 [==============================] - 0s 2ms/step - loss: 10.8455 - mse: 155.3464\n",
      "Epoch 69/100\n",
      "2/2 [==============================] - 0s 3ms/step - loss: 23.0960 - mse: 770.1599\n",
      "Epoch 70/100\n",
      "2/2 [==============================] - 0s 2ms/step - loss: 8.7402 - mse: 139.4086\n",
      "Epoch 71/100\n",
      "2/2 [==============================] - 0s 2ms/step - loss: 15.8968 - mse: 339.6098\n",
      "Epoch 72/100\n",
      "2/2 [==============================] - 0s 5ms/step - loss: 6.7092 - mse: 66.6670\n",
      "Epoch 73/100\n",
      "2/2 [==============================] - 0s 3ms/step - loss: 10.6475 - mse: 146.9911\n",
      "Epoch 74/100\n",
      "2/2 [==============================] - 0s 2ms/step - loss: 24.6152 - mse: 948.2736\n",
      "Epoch 75/100\n",
      "2/2 [==============================] - 0s 2ms/step - loss: 8.7602 - mse: 119.7264\n",
      "Epoch 76/100\n",
      "2/2 [==============================] - 0s 3ms/step - loss: 11.9799 - mse: 172.5532\n",
      "Epoch 77/100\n",
      "2/2 [==============================] - 0s 3ms/step - loss: 16.6488 - mse: 432.3294\n",
      "Epoch 78/100\n",
      "2/2 [==============================] - 0s 3ms/step - loss: 9.2784 - mse: 98.6556\n",
      "Epoch 79/100\n",
      "2/2 [==============================] - 0s 6ms/step - loss: 24.4604 - mse: 902.0720\n",
      "Epoch 80/100\n",
      "2/2 [==============================] - 0s 3ms/step - loss: 27.4405 - mse: 1158.6081\n",
      "Epoch 81/100\n",
      "2/2 [==============================] - 0s 5ms/step - loss: 11.7139 - mse: 170.4367\n",
      "Epoch 82/100\n",
      "2/2 [==============================] - 0s 3ms/step - loss: 11.6757 - mse: 196.1246\n",
      "Epoch 83/100\n",
      "2/2 [==============================] - 0s 4ms/step - loss: 17.9045 - mse: 414.3998\n",
      "Epoch 84/100\n",
      "2/2 [==============================] - 0s 3ms/step - loss: 7.0376 - mse: 70.0241\n",
      "Epoch 85/100\n",
      "2/2 [==============================] - 0s 3ms/step - loss: 15.1558 - mse: 321.1297\n",
      "Epoch 86/100\n"
     ]
    },
    {
     "name": "stdout",
     "output_type": "stream",
     "text": [
      "2/2 [==============================] - 0s 3ms/step - loss: 15.1583 - mse: 311.4819\n",
      "Epoch 87/100\n",
      "2/2 [==============================] - 0s 4ms/step - loss: 19.8683 - mse: 554.4751\n",
      "Epoch 88/100\n",
      "2/2 [==============================] - 0s 3ms/step - loss: 30.7657 - mse: 1357.5448\n",
      "Epoch 89/100\n",
      "2/2 [==============================] - 0s 2ms/step - loss: 9.7059 - mse: 108.4962\n",
      "Epoch 90/100\n",
      "2/2 [==============================] - 0s 5ms/step - loss: 21.5531 - mse: 674.2963\n",
      "Epoch 91/100\n",
      "2/2 [==============================] - 0s 2ms/step - loss: 9.5827 - mse: 128.0420\n",
      "Epoch 92/100\n",
      "2/2 [==============================] - 0s 4ms/step - loss: 18.2158 - mse: 463.7710\n",
      "Epoch 93/100\n",
      "2/2 [==============================] - 0s 2ms/step - loss: 7.1935 - mse: 75.5075\n",
      "Epoch 94/100\n",
      "2/2 [==============================] - 0s 3ms/step - loss: 17.4261 - mse: 438.1328\n",
      "Epoch 95/100\n",
      "2/2 [==============================] - 0s 3ms/step - loss: 11.1722 - mse: 164.3355\n",
      "Epoch 96/100\n",
      "2/2 [==============================] - 0s 3ms/step - loss: 18.9207 - mse: 491.7021\n",
      "Epoch 97/100\n",
      "2/2 [==============================] - 0s 3ms/step - loss: 12.2012 - mse: 208.9877\n",
      "Epoch 98/100\n",
      "2/2 [==============================] - 0s 4ms/step - loss: 11.2931 - mse: 158.5947\n",
      "Epoch 99/100\n",
      "2/2 [==============================] - 0s 3ms/step - loss: 13.4562 - mse: 254.5623\n",
      "Epoch 100/100\n",
      "2/2 [==============================] - 0s 3ms/step - loss: 20.1754 - mse: 612.1692\n"
     ]
    },
    {
     "data": {
      "text/plain": [
       "<tensorflow.python.keras.callbacks.History at 0x2aba23fd390>"
      ]
     },
     "execution_count": 150,
     "metadata": {},
     "output_type": "execute_result"
    }
   ],
   "source": [
    "# Set the random seed\n",
    "tf.random.set_seed(42)\n",
    "\n",
    "\n",
    "# 1. Create the model\n",
    "model_2 = tf.keras.Sequential([\n",
    "    \n",
    "    tf.keras.layers.Dense(10),\n",
    "    tf.keras.layers.Dense(1)\n",
    "])\n",
    "\n",
    "# 2. Compile the model\n",
    "model_2.compile(loss=tf.keras.losses.mae,\n",
    "                optimizer =tf.keras.optimizers.SGD(),\n",
    "                metrics=[\"mse\"])\n",
    "\n",
    "#  3. Fit the model\n",
    "\n",
    "model_2.fit(X_train, y_train, epochs=100)\n",
    "\n"
   ]
  },
  {
   "cell_type": "code",
   "execution_count": 154,
   "id": "crude-brass",
   "metadata": {},
   "outputs": [
    {
     "data": {
      "image/png": "[encoded data removed]",
      "text/plain": [
       "<Figure size 720x504 with 1 Axes>"
      ]
     },
     "metadata": {
      "needs_background": "light"
     },
     "output_type": "display_data"
    }
   ],
   "source": [
    "y_preds_2 = model_2.predict(X_test)\n",
    "\n",
    "plot_predictions(predictions=y_preds_2)\n"
   ]
  },
  {
   "cell_type": "code",
   "execution_count": 181,
   "id": "heard-designer",
   "metadata": {},
   "outputs": [
    {
     "data": {
      "text/plain": [
       "(<tf.Tensor: shape=(), dtype=float32, numpy=3.19694>,\n",
       " <tf.Tensor: shape=(), dtype=float32, numpy=13.070127>)"
      ]
     },
     "execution_count": 181,
     "metadata": {},
     "output_type": "execute_result"
    }
   ],
   "source": [
    "# Calculate model_2 evaluation metrics\n",
    "mae_2 = mae(y_test, y_preds_2)\n",
    "\n",
    "mse_2 = mse(y_test, y_preds_2)\n",
    "\n",
    "mae_2,mse_2\n"
   ]
  },
  {
   "cell_type": "markdown",
   "id": "honest-oxygen",
   "metadata": {},
   "source": [
    "**Build `model_3`**\n",
    "* 2 layers, trainet for 500 epochs"
   ]
  },
  {
   "cell_type": "code",
   "execution_count": 157,
   "id": "russian-garlic",
   "metadata": {},
   "outputs": [
    {
     "name": "stdout",
     "output_type": "stream",
     "text": [
      "Epoch 1/500\n",
      "2/2 [==============================] - 0s 3ms/step - loss: 26.8627 - mae: 26.8627\n",
      "Epoch 2/500\n",
      "2/2 [==============================] - 0s 5ms/step - loss: 24.4175 - mae: 24.4175\n",
      "Epoch 3/500\n",
      "2/2 [==============================] - 0s 5ms/step - loss: 31.5187 - mae: 31.5187\n",
      "Epoch 4/500\n",
      "2/2 [==============================] - 0s 2ms/step - loss: 27.8490 - mae: 27.8490\n",
      "Epoch 5/500\n",
      "2/2 [==============================] - 0s 3ms/step - loss: 14.6465 - mae: 14.6465\n",
      "Epoch 6/500\n",
      "2/2 [==============================] - 0s 4ms/step - loss: 11.9682 - mae: 11.9682\n",
      "Epoch 7/500\n",
      "2/2 [==============================] - 0s 6ms/step - loss: 11.0874 - mae: 11.0874\n",
      "Epoch 8/500\n",
      "2/2 [==============================] - 0s 2ms/step - loss: 11.3978 - mae: 11.3978\n",
      "Epoch 9/500\n",
      "2/2 [==============================] - 0s 2ms/step - loss: 42.4087 - mae: 42.4087\n",
      "Epoch 10/500\n",
      "2/2 [==============================] - 0s 3ms/step - loss: 28.3537 - mae: 28.3537\n",
      "Epoch 11/500\n",
      "2/2 [==============================] - 0s 5ms/step - loss: 9.6590 - mae: 9.6590\n",
      "Epoch 12/500\n",
      "2/2 [==============================] - 0s 4ms/step - loss: 25.8820 - mae: 25.8820\n",
      "Epoch 13/500\n",
      "2/2 [==============================] - 0s 3ms/step - loss: 16.7682 - mae: 16.7682\n",
      "Epoch 14/500\n",
      "2/2 [==============================] - 0s 4ms/step - loss: 26.6019 - mae: 26.6019\n",
      "Epoch 15/500\n",
      "2/2 [==============================] - 0s 3ms/step - loss: 17.7361 - mae: 17.7361\n",
      "Epoch 16/500\n",
      "2/2 [==============================] - 0s 3ms/step - loss: 7.4550 - mae: 7.4550\n",
      "Epoch 17/500\n",
      "2/2 [==============================] - 0s 4ms/step - loss: 10.6974 - mae: 10.6974\n",
      "Epoch 18/500\n",
      "2/2 [==============================] - 0s 5ms/step - loss: 20.7691 - mae: 20.7691\n",
      "Epoch 19/500\n",
      "2/2 [==============================] - 0s 3ms/step - loss: 9.6535 - mae: 9.6535\n",
      "Epoch 20/500\n",
      "2/2 [==============================] - 0s 4ms/step - loss: 18.4600 - mae: 18.4600\n",
      "Epoch 21/500\n",
      "2/2 [==============================] - 0s 6ms/step - loss: 16.2352 - mae: 16.2352\n",
      "Epoch 22/500\n",
      "2/2 [==============================] - 0s 3ms/step - loss: 14.5012 - mae: 14.5012\n",
      "Epoch 23/500\n",
      "2/2 [==============================] - 0s 5ms/step - loss: 8.6493 - mae: 8.6493\n",
      "Epoch 24/500\n",
      "2/2 [==============================] - 0s 8ms/step - loss: 10.4430 - mae: 10.4430\n",
      "Epoch 25/500\n",
      "2/2 [==============================] - 0s 7ms/step - loss: 12.8060 - mae: 12.8060\n",
      "Epoch 26/500\n",
      "2/2 [==============================] - 0s 3ms/step - loss: 26.8011 - mae: 26.8011\n",
      "Epoch 27/500\n",
      "2/2 [==============================] - 0s 4ms/step - loss: 12.0333 - mae: 12.0333\n",
      "Epoch 28/500\n",
      "2/2 [==============================] - 0s 3ms/step - loss: 23.4573 - mae: 23.4573\n",
      "Epoch 29/500\n",
      "2/2 [==============================] - 0s 4ms/step - loss: 9.1266 - mae: 9.1266\n",
      "Epoch 30/500\n",
      "2/2 [==============================] - 0s 6ms/step - loss: 31.1804 - mae: 31.1804\n",
      "Epoch 31/500\n",
      "2/2 [==============================] - 0s 3ms/step - loss: 56.8211 - mae: 56.8211\n",
      "Epoch 32/500\n",
      "2/2 [==============================] - 0s 3ms/step - loss: 12.2909 - mae: 12.2909\n",
      "Epoch 33/500\n",
      "2/2 [==============================] - 0s 3ms/step - loss: 15.3303 - mae: 15.3303\n",
      "Epoch 34/500\n",
      "2/2 [==============================] - 0s 3ms/step - loss: 12.8145 - mae: 12.8145\n",
      "Epoch 35/500\n",
      "2/2 [==============================] - 0s 6ms/step - loss: 9.4721 - mae: 9.4721\n",
      "Epoch 36/500\n",
      "2/2 [==============================] - 0s 5ms/step - loss: 16.6526 - mae: 16.6526\n",
      "Epoch 37/500\n",
      "2/2 [==============================] - 0s 2ms/step - loss: 10.4634 - mae: 10.4634\n",
      "Epoch 38/500\n",
      "2/2 [==============================] - 0s 4ms/step - loss: 18.7760 - mae: 18.7760\n",
      "Epoch 39/500\n",
      "2/2 [==============================] - 0s 3ms/step - loss: 20.1198 - mae: 20.1198\n",
      "Epoch 40/500\n",
      "2/2 [==============================] - 0s 6ms/step - loss: 21.4944 - mae: 21.4944\n",
      "Epoch 41/500\n",
      "2/2 [==============================] - 0s 5ms/step - loss: 14.5667 - mae: 14.5667\n",
      "Epoch 42/500\n",
      "2/2 [==============================] - 0s 4ms/step - loss: 12.2999 - mae: 12.2999\n",
      "Epoch 43/500\n",
      "2/2 [==============================] - 0s 3ms/step - loss: 11.1115 - mae: 11.1115\n",
      "Epoch 44/500\n",
      "2/2 [==============================] - 0s 7ms/step - loss: 23.5895 - mae: 23.5895\n",
      "Epoch 45/500\n",
      "2/2 [==============================] - 0s 4ms/step - loss: 9.9461 - mae: 9.9461\n",
      "Epoch 46/500\n",
      "2/2 [==============================] - 0s 4ms/step - loss: 12.0273 - mae: 12.0273\n",
      "Epoch 47/500\n",
      "2/2 [==============================] - 0s 5ms/step - loss: 9.0557 - mae: 9.0557\n",
      "Epoch 48/500\n",
      "2/2 [==============================] - 0s 4ms/step - loss: 17.8711 - mae: 17.8711\n",
      "Epoch 49/500\n",
      "2/2 [==============================] - 0s 3ms/step - loss: 9.5485 - mae: 9.5485\n",
      "Epoch 50/500\n",
      "2/2 [==============================] - 0s 4ms/step - loss: 13.7912 - mae: 13.7912\n",
      "Epoch 51/500\n",
      "2/2 [==============================] - 0s 3ms/step - loss: 11.2969 - mae: 11.2969\n",
      "Epoch 52/500\n",
      "2/2 [==============================] - 0s 5ms/step - loss: 32.1753 - mae: 32.1753\n",
      "Epoch 53/500\n",
      "2/2 [==============================] - 0s 2ms/step - loss: 14.1257 - mae: 14.1257\n",
      "Epoch 54/500\n",
      "2/2 [==============================] - 0s 3ms/step - loss: 24.3921 - mae: 24.3921\n",
      "Epoch 55/500\n",
      "2/2 [==============================] - 0s 7ms/step - loss: 23.5967 - mae: 23.5967\n",
      "Epoch 56/500\n",
      "2/2 [==============================] - 0s 2ms/step - loss: 10.0101 - mae: 10.0101\n",
      "Epoch 57/500\n",
      "2/2 [==============================] - 0s 4ms/step - loss: 12.4333 - mae: 12.4333\n",
      "Epoch 58/500\n",
      "2/2 [==============================] - 0s 4ms/step - loss: 9.4491 - mae: 9.4491\n",
      "Epoch 59/500\n",
      "2/2 [==============================] - 0s 6ms/step - loss: 12.6438 - mae: 12.6438\n",
      "Epoch 60/500\n",
      "2/2 [==============================] - 0s 6ms/step - loss: 12.3168 - mae: 12.3168\n",
      "Epoch 61/500\n",
      "2/2 [==============================] - 0s 5ms/step - loss: 17.1832 - mae: 17.1832\n",
      "Epoch 62/500\n",
      "2/2 [==============================] - 0s 4ms/step - loss: 10.4860 - mae: 10.4860\n",
      "Epoch 63/500\n",
      "2/2 [==============================] - 0s 4ms/step - loss: 10.8072 - mae: 10.8072\n",
      "Epoch 64/500\n",
      "2/2 [==============================] - 0s 3ms/step - loss: 25.2892 - mae: 25.2892\n",
      "Epoch 65/500\n",
      "2/2 [==============================] - 0s 3ms/step - loss: 10.7923 - mae: 10.7923\n",
      "Epoch 66/500\n",
      "2/2 [==============================] - 0s 5ms/step - loss: 22.0328 - mae: 22.0328\n",
      "Epoch 67/500\n",
      "2/2 [==============================] - 0s 3ms/step - loss: 10.6505 - mae: 10.6505\n",
      "Epoch 68/500\n",
      "2/2 [==============================] - 0s 9ms/step - loss: 10.8455 - mae: 10.8455\n",
      "Epoch 69/500\n",
      "2/2 [==============================] - 0s 4ms/step - loss: 23.0960 - mae: 23.0960\n",
      "Epoch 70/500\n",
      "2/2 [==============================] - 0s 3ms/step - loss: 8.7402 - mae: 8.7402\n",
      "Epoch 71/500\n",
      "2/2 [==============================] - 0s 5ms/step - loss: 15.8968 - mae: 15.8968\n",
      "Epoch 72/500\n",
      "2/2 [==============================] - 0s 7ms/step - loss: 6.7092 - mae: 6.7092\n",
      "Epoch 73/500\n",
      "2/2 [==============================] - 0s 5ms/step - loss: 10.6475 - mae: 10.6475\n",
      "Epoch 74/500\n",
      "2/2 [==============================] - 0s 3ms/step - loss: 24.6152 - mae: 24.6152\n",
      "Epoch 75/500\n",
      "2/2 [==============================] - 0s 4ms/step - loss: 8.7602 - mae: 8.7602\n",
      "Epoch 76/500\n",
      "2/2 [==============================] - 0s 5ms/step - loss: 11.9799 - mae: 11.9799\n",
      "Epoch 77/500\n",
      "2/2 [==============================] - 0s 3ms/step - loss: 16.6488 - mae: 16.6488\n",
      "Epoch 78/500\n",
      "2/2 [==============================] - 0s 4ms/step - loss: 9.2784 - mae: 9.2784\n",
      "Epoch 79/500\n",
      "2/2 [==============================] - 0s 3ms/step - loss: 24.4604 - mae: 24.4604\n",
      "Epoch 80/500\n",
      "2/2 [==============================] - 0s 3ms/step - loss: 27.4405 - mae: 27.4405\n",
      "Epoch 81/500\n",
      "2/2 [==============================] - 0s 4ms/step - loss: 11.7139 - mae: 11.7139\n",
      "Epoch 82/500\n",
      "2/2 [==============================] - 0s 8ms/step - loss: 11.6757 - mae: 11.6757\n",
      "Epoch 83/500\n",
      "2/2 [==============================] - 0s 5ms/step - loss: 17.9045 - mae: 17.9045\n",
      "Epoch 84/500\n",
      "2/2 [==============================] - 0s 4ms/step - loss: 7.0376 - mae: 7.0376\n",
      "Epoch 85/500\n",
      "2/2 [==============================] - 0s 6ms/step - loss: 15.1558 - mae: 15.1558\n",
      "Epoch 86/500\n",
      "2/2 [==============================] - 0s 3ms/step - loss: 15.1583 - mae: 15.1583\n",
      "Epoch 87/500\n"
     ]
    },
    {
     "name": "stdout",
     "output_type": "stream",
     "text": [
      "2/2 [==============================] - 0s 5ms/step - loss: 19.8683 - mae: 19.8683\n",
      "Epoch 88/500\n",
      "2/2 [==============================] - 0s 3ms/step - loss: 30.7657 - mae: 30.7657\n",
      "Epoch 89/500\n",
      "2/2 [==============================] - 0s 4ms/step - loss: 9.7059 - mae: 9.7059\n",
      "Epoch 90/500\n",
      "2/2 [==============================] - 0s 2ms/step - loss: 21.5531 - mae: 21.5531\n",
      "Epoch 91/500\n",
      "2/2 [==============================] - 0s 3ms/step - loss: 9.5827 - mae: 9.5827\n",
      "Epoch 92/500\n",
      "2/2 [==============================] - 0s 2ms/step - loss: 18.2158 - mae: 18.2158\n",
      "Epoch 93/500\n",
      "2/2 [==============================] - 0s 2ms/step - loss: 7.1935 - mae: 7.1935\n",
      "Epoch 94/500\n",
      "2/2 [==============================] - 0s 3ms/step - loss: 17.4261 - mae: 17.4261\n",
      "Epoch 95/500\n",
      "2/2 [==============================] - 0s 5ms/step - loss: 11.1722 - mae: 11.1722\n",
      "Epoch 96/500\n",
      "2/2 [==============================] - 0s 6ms/step - loss: 18.9207 - mae: 18.9207\n",
      "Epoch 97/500\n",
      "2/2 [==============================] - 0s 4ms/step - loss: 12.2012 - mae: 12.2012\n",
      "Epoch 98/500\n",
      "2/2 [==============================] - 0s 3ms/step - loss: 11.2931 - mae: 11.2931\n",
      "Epoch 99/500\n",
      "2/2 [==============================] - 0s 4ms/step - loss: 13.4562 - mae: 13.4562\n",
      "Epoch 100/500\n",
      "2/2 [==============================] - 0s 3ms/step - loss: 20.1754 - mae: 20.1754\n",
      "Epoch 101/500\n",
      "2/2 [==============================] - 0s 3ms/step - loss: 11.4395 - mae: 11.4395\n",
      "Epoch 102/500\n",
      "2/2 [==============================] - 0s 3ms/step - loss: 17.0888 - mae: 17.0888\n",
      "Epoch 103/500\n",
      "2/2 [==============================] - 0s 3ms/step - loss: 6.9455 - mae: 6.9455\n",
      "Epoch 104/500\n",
      "2/2 [==============================] - 0s 3ms/step - loss: 24.3779 - mae: 24.3779\n",
      "Epoch 105/500\n",
      "2/2 [==============================] - 0s 4ms/step - loss: 16.8800 - mae: 16.8800\n",
      "Epoch 106/500\n",
      "2/2 [==============================] - 0s 5ms/step - loss: 8.5557 - mae: 8.5557\n",
      "Epoch 107/500\n",
      "2/2 [==============================] - 0s 4ms/step - loss: 26.5426 - mae: 26.5426\n",
      "Epoch 108/500\n",
      "2/2 [==============================] - 0s 2ms/step - loss: 13.2375 - mae: 13.2375\n",
      "Epoch 109/500\n",
      "2/2 [==============================] - 0s 2ms/step - loss: 9.1284 - mae: 9.1284\n",
      "Epoch 110/500\n",
      "2/2 [==============================] - 0s 3ms/step - loss: 8.9256 - mae: 8.9256\n",
      "Epoch 111/500\n",
      "2/2 [==============================] - 0s 4ms/step - loss: 14.0550 - mae: 14.0550\n",
      "Epoch 112/500\n",
      "2/2 [==============================] - 0s 2ms/step - loss: 9.7418 - mae: 9.7418\n",
      "Epoch 113/500\n",
      "2/2 [==============================] - 0s 3ms/step - loss: 17.5151 - mae: 17.5151\n",
      "Epoch 114/500\n",
      "2/2 [==============================] - 0s 6ms/step - loss: 17.0304 - mae: 17.0304\n",
      "Epoch 115/500\n",
      "2/2 [==============================] - 0s 6ms/step - loss: 10.9228 - mae: 10.9228\n",
      "Epoch 116/500\n",
      "2/2 [==============================] - 0s 5ms/step - loss: 23.5453 - mae: 23.5453\n",
      "Epoch 117/500\n",
      "2/2 [==============================] - 0s 2ms/step - loss: 8.8340 - mae: 8.8340\n",
      "Epoch 118/500\n",
      "2/2 [==============================] - 0s 4ms/step - loss: 10.2978 - mae: 10.2978\n",
      "Epoch 119/500\n",
      "2/2 [==============================] - 0s 3ms/step - loss: 8.3192 - mae: 8.3192\n",
      "Epoch 120/500\n",
      "2/2 [==============================] - 0s 4ms/step - loss: 30.7265 - mae: 30.7265\n",
      "Epoch 121/500\n",
      "2/2 [==============================] - 0s 3ms/step - loss: 8.1436 - mae: 8.1436\n",
      "Epoch 122/500\n",
      "2/2 [==============================] - 0s 2ms/step - loss: 29.4327 - mae: 29.4327\n",
      "Epoch 123/500\n",
      "2/2 [==============================] - 0s 2ms/step - loss: 34.2183 - mae: 34.2183\n",
      "Epoch 124/500\n",
      "2/2 [==============================] - 0s 3ms/step - loss: 19.6697 - mae: 19.6697\n",
      "Epoch 125/500\n",
      "2/2 [==============================] - 0s 3ms/step - loss: 6.5959 - mae: 6.5959\n",
      "Epoch 126/500\n",
      "2/2 [==============================] - 0s 3ms/step - loss: 21.8683 - mae: 21.8683\n",
      "Epoch 127/500\n",
      "2/2 [==============================] - 0s 3ms/step - loss: 8.0892 - mae: 8.0892\n",
      "Epoch 128/500\n",
      "2/2 [==============================] - 0s 3ms/step - loss: 21.1329 - mae: 21.1329\n",
      "Epoch 129/500\n",
      "2/2 [==============================] - 0s 5ms/step - loss: 9.3481 - mae: 9.3481\n",
      "Epoch 130/500\n",
      "2/2 [==============================] - 0s 3ms/step - loss: 24.2633 - mae: 24.2633\n",
      "Epoch 131/500\n",
      "2/2 [==============================] - 0s 2ms/step - loss: 9.9302 - mae: 9.9302\n",
      "Epoch 132/500\n",
      "2/2 [==============================] - 0s 3ms/step - loss: 18.3634 - mae: 18.3634\n",
      "Epoch 133/500\n",
      "2/2 [==============================] - 0s 4ms/step - loss: 7.2677 - mae: 7.2677\n",
      "Epoch 134/500\n",
      "2/2 [==============================] - 0s 3ms/step - loss: 18.4166 - mae: 18.4166\n",
      "Epoch 135/500\n",
      "2/2 [==============================] - 0s 4ms/step - loss: 9.7401 - mae: 9.7401\n",
      "Epoch 136/500\n",
      "2/2 [==============================] - 0s 4ms/step - loss: 17.8516 - mae: 17.8516\n",
      "Epoch 137/500\n",
      "2/2 [==============================] - 0s 3ms/step - loss: 22.9936 - mae: 22.9936\n",
      "Epoch 138/500\n",
      "2/2 [==============================] - 0s 2ms/step - loss: 8.2013 - mae: 8.2013\n",
      "Epoch 139/500\n",
      "2/2 [==============================] - 0s 3ms/step - loss: 8.0097 - mae: 8.0097\n",
      "Epoch 140/500\n",
      "2/2 [==============================] - 0s 4ms/step - loss: 15.9624 - mae: 15.9624\n",
      "Epoch 141/500\n",
      "2/2 [==============================] - 0s 4ms/step - loss: 8.6422 - mae: 8.6422\n",
      "Epoch 142/500\n",
      "2/2 [==============================] - 0s 5ms/step - loss: 39.2127 - mae: 39.2127\n",
      "Epoch 143/500\n",
      "2/2 [==============================] - 0s 5ms/step - loss: 25.9599 - mae: 25.9599\n",
      "Epoch 144/500\n",
      "2/2 [==============================] - 0s 3ms/step - loss: 8.6134 - mae: 8.6134\n",
      "Epoch 145/500\n",
      "2/2 [==============================] - 0s 3ms/step - loss: 27.7680 - mae: 27.7680\n",
      "Epoch 146/500\n",
      "2/2 [==============================] - 0s 2ms/step - loss: 8.3428 - mae: 8.3428\n",
      "Epoch 147/500\n",
      "2/2 [==============================] - 0s 3ms/step - loss: 15.0730 - mae: 15.0730\n",
      "Epoch 148/500\n",
      "2/2 [==============================] - 0s 3ms/step - loss: 19.1933 - mae: 19.1933\n",
      "Epoch 149/500\n",
      "2/2 [==============================] - 0s 2ms/step - loss: 7.4993 - mae: 7.4993\n",
      "Epoch 150/500\n",
      "2/2 [==============================] - 0s 4ms/step - loss: 7.4097 - mae: 7.4097\n",
      "Epoch 151/500\n",
      "2/2 [==============================] - 0s 3ms/step - loss: 18.1762 - mae: 18.1762\n",
      "Epoch 152/500\n",
      "2/2 [==============================] - 0s 2ms/step - loss: 9.9065 - mae: 9.9065\n",
      "Epoch 153/500\n",
      "2/2 [==============================] - 0s 3ms/step - loss: 30.6868 - mae: 30.6868\n",
      "Epoch 154/500\n",
      "2/2 [==============================] - 0s 2ms/step - loss: 9.6497 - mae: 9.6497\n",
      "Epoch 155/500\n",
      "2/2 [==============================] - 0s 4ms/step - loss: 16.0886 - mae: 16.0886\n",
      "Epoch 156/500\n",
      "2/2 [==============================] - 0s 3ms/step - loss: 18.0462 - mae: 18.0462\n",
      "Epoch 157/500\n",
      "2/2 [==============================] - 0s 3ms/step - loss: 34.4868 - mae: 34.4868\n",
      "Epoch 158/500\n",
      "2/2 [==============================] - ETA: 0s - loss: 9.4928 - mae: 9.492 - 0s 4ms/step - loss: 10.3002 - mae: 10.3002\n",
      "Epoch 159/500\n",
      "2/2 [==============================] - 0s 4ms/step - loss: 8.5289 - mae: 8.5289\n",
      "Epoch 160/500\n",
      "2/2 [==============================] - 0s 2ms/step - loss: 22.2562 - mae: 22.2562\n",
      "Epoch 161/500\n",
      "2/2 [==============================] - 0s 3ms/step - loss: 11.2986 - mae: 11.2986\n",
      "Epoch 162/500\n",
      "2/2 [==============================] - 0s 4ms/step - loss: 21.5576 - mae: 21.5576\n",
      "Epoch 163/500\n",
      "2/2 [==============================] - 0s 4ms/step - loss: 18.8924 - mae: 18.8924\n",
      "Epoch 164/500\n",
      "2/2 [==============================] - 0s 3ms/step - loss: 10.9458 - mae: 10.9458\n",
      "Epoch 165/500\n",
      "2/2 [==============================] - 0s 4ms/step - loss: 8.7489 - mae: 8.7489\n",
      "Epoch 166/500\n",
      "2/2 [==============================] - 0s 3ms/step - loss: 22.6552 - mae: 22.6552\n",
      "Epoch 167/500\n",
      "2/2 [==============================] - 0s 4ms/step - loss: 26.9724 - mae: 26.9724\n",
      "Epoch 168/500\n",
      "2/2 [==============================] - 0s 4ms/step - loss: 9.2709 - mae: 9.2709\n",
      "Epoch 169/500\n",
      "2/2 [==============================] - 0s 4ms/step - loss: 23.1678 - mae: 23.1678\n",
      "Epoch 170/500\n",
      "2/2 [==============================] - 0s 2ms/step - loss: 9.3051 - mae: 9.3051\n",
      "Epoch 171/500\n",
      "2/2 [==============================] - 0s 4ms/step - loss: 18.9237 - mae: 18.9237\n",
      "Epoch 172/500\n"
     ]
    },
    {
     "name": "stdout",
     "output_type": "stream",
     "text": [
      "2/2 [==============================] - 0s 4ms/step - loss: 29.9900 - mae: 29.9900\n",
      "Epoch 173/500\n",
      "2/2 [==============================] - 0s 6ms/step - loss: 16.4918 - mae: 16.4918\n",
      "Epoch 174/500\n",
      "2/2 [==============================] - 0s 2ms/step - loss: 10.2796 - mae: 10.2796\n",
      "Epoch 175/500\n",
      "2/2 [==============================] - 0s 4ms/step - loss: 28.8074 - mae: 28.8074\n",
      "Epoch 176/500\n",
      "2/2 [==============================] - 0s 3ms/step - loss: 8.1042 - mae: 8.1042\n",
      "Epoch 177/500\n",
      "2/2 [==============================] - 0s 3ms/step - loss: 8.8722 - mae: 8.8722\n",
      "Epoch 178/500\n",
      "2/2 [==============================] - 0s 2ms/step - loss: 17.8721 - mae: 17.8721\n",
      "Epoch 179/500\n",
      "2/2 [==============================] - 0s 4ms/step - loss: 10.4428 - mae: 10.4428\n",
      "Epoch 180/500\n",
      "2/2 [==============================] - 0s 2ms/step - loss: 7.2716 - mae: 7.2716\n",
      "Epoch 181/500\n",
      "2/2 [==============================] - 0s 3ms/step - loss: 17.0166 - mae: 17.0166\n",
      "Epoch 182/500\n",
      "2/2 [==============================] - 0s 3ms/step - loss: 10.3910 - mae: 10.3910\n",
      "Epoch 183/500\n",
      "2/2 [==============================] - 0s 5ms/step - loss: 11.1568 - mae: 11.1568\n",
      "Epoch 184/500\n",
      "2/2 [==============================] - 0s 2ms/step - loss: 31.6483 - mae: 31.6483\n",
      "Epoch 185/500\n",
      "2/2 [==============================] - 0s 5ms/step - loss: 7.0154 - mae: 7.0154\n",
      "Epoch 186/500\n",
      "2/2 [==============================] - 0s 3ms/step - loss: 16.6843 - mae: 16.6843\n",
      "Epoch 187/500\n",
      "2/2 [==============================] - 0s 4ms/step - loss: 8.1126 - mae: 8.1126\n",
      "Epoch 188/500\n",
      "2/2 [==============================] - 0s 3ms/step - loss: 29.6995 - mae: 29.6995\n",
      "Epoch 189/500\n",
      "2/2 [==============================] - 0s 2ms/step - loss: 12.3776 - mae: 12.3776\n",
      "Epoch 190/500\n",
      "2/2 [==============================] - 0s 2ms/step - loss: 19.3024 - mae: 19.3024\n",
      "Epoch 191/500\n",
      "2/2 [==============================] - 0s 3ms/step - loss: 13.9023 - mae: 13.9023\n",
      "Epoch 192/500\n",
      "2/2 [==============================] - 0s 2ms/step - loss: 12.9346 - mae: 12.9346\n",
      "Epoch 193/500\n",
      "2/2 [==============================] - 0s 2ms/step - loss: 29.5007 - mae: 29.5007\n",
      "Epoch 194/500\n",
      "2/2 [==============================] - 0s 3ms/step - loss: 6.6526 - mae: 6.6526\n",
      "Epoch 195/500\n",
      "2/2 [==============================] - 0s 3ms/step - loss: 6.6620 - mae: 6.6620\n",
      "Epoch 196/500\n",
      "2/2 [==============================] - 0s 2ms/step - loss: 22.8540 - mae: 22.8540\n",
      "Epoch 197/500\n",
      "2/2 [==============================] - 0s 3ms/step - loss: 20.7492 - mae: 20.7492\n",
      "Epoch 198/500\n",
      "2/2 [==============================] - 0s 3ms/step - loss: 11.8978 - mae: 11.8978\n",
      "Epoch 199/500\n",
      "2/2 [==============================] - 0s 4ms/step - loss: 17.4221 - mae: 17.4221\n",
      "Epoch 200/500\n",
      "2/2 [==============================] - 0s 4ms/step - loss: 13.4876 - mae: 13.4876\n",
      "Epoch 201/500\n",
      "2/2 [==============================] - 0s 3ms/step - loss: 5.6035 - mae: 5.6035\n",
      "Epoch 202/500\n",
      "2/2 [==============================] - 0s 4ms/step - loss: 13.1062 - mae: 13.1062\n",
      "Epoch 203/500\n",
      "2/2 [==============================] - 0s 4ms/step - loss: 8.4001 - mae: 8.4001\n",
      "Epoch 204/500\n",
      "2/2 [==============================] - 0s 3ms/step - loss: 21.0158 - mae: 21.0158\n",
      "Epoch 205/500\n",
      "2/2 [==============================] - 0s 3ms/step - loss: 8.7459 - mae: 8.7459\n",
      "Epoch 206/500\n",
      "2/2 [==============================] - 0s 4ms/step - loss: 11.0638 - mae: 11.0638\n",
      "Epoch 207/500\n",
      "2/2 [==============================] - 0s 2ms/step - loss: 13.8665 - mae: 13.8665\n",
      "Epoch 208/500\n",
      "2/2 [==============================] - 0s 3ms/step - loss: 13.9839 - mae: 13.9839\n",
      "Epoch 209/500\n",
      "2/2 [==============================] - 0s 3ms/step - loss: 14.2824 - mae: 14.2824\n",
      "Epoch 210/500\n",
      "2/2 [==============================] - 0s 4ms/step - loss: 17.6257 - mae: 17.6257\n",
      "Epoch 211/500\n",
      "2/2 [==============================] - 0s 4ms/step - loss: 8.8540 - mae: 8.8540\n",
      "Epoch 212/500\n",
      "2/2 [==============================] - 0s 3ms/step - loss: 18.6211 - mae: 18.6211\n",
      "Epoch 213/500\n",
      "2/2 [==============================] - 0s 4ms/step - loss: 15.0631 - mae: 15.0631\n",
      "Epoch 214/500\n",
      "2/2 [==============================] - 0s 3ms/step - loss: 14.8075 - mae: 14.8075\n",
      "Epoch 215/500\n",
      "2/2 [==============================] - 0s 4ms/step - loss: 24.6706 - mae: 24.6706\n",
      "Epoch 216/500\n",
      "2/2 [==============================] - 0s 3ms/step - loss: 12.8053 - mae: 12.8053\n",
      "Epoch 217/500\n",
      "2/2 [==============================] - 0s 3ms/step - loss: 9.7938 - mae: 9.7938\n",
      "Epoch 218/500\n",
      "2/2 [==============================] - 0s 4ms/step - loss: 12.3979 - mae: 12.3979\n",
      "Epoch 219/500\n",
      "2/2 [==============================] - 0s 4ms/step - loss: 5.0245 - mae: 5.0245\n",
      "Epoch 220/500\n",
      "2/2 [==============================] - 0s 2ms/step - loss: 6.8297 - mae: 6.8297\n",
      "Epoch 221/500\n",
      "2/2 [==============================] - 0s 3ms/step - loss: 37.3269 - mae: 37.3269\n",
      "Epoch 222/500\n",
      "2/2 [==============================] - 0s 2ms/step - loss: 36.7870 - mae: 36.7870\n",
      "Epoch 223/500\n",
      "2/2 [==============================] - 0s 3ms/step - loss: 7.3082 - mae: 7.3082\n",
      "Epoch 224/500\n",
      "2/2 [==============================] - 0s 2ms/step - loss: 15.3583 - mae: 15.3583\n",
      "Epoch 225/500\n",
      "2/2 [==============================] - 0s 3ms/step - loss: 16.9646 - mae: 16.9646\n",
      "Epoch 226/500\n",
      "2/2 [==============================] - 0s 2ms/step - loss: 16.5040 - mae: 16.5040\n",
      "Epoch 227/500\n",
      "2/2 [==============================] - 0s 4ms/step - loss: 16.8008 - mae: 16.8008\n",
      "Epoch 228/500\n",
      "2/2 [==============================] - 0s 3ms/step - loss: 14.3646 - mae: 14.3646\n",
      "Epoch 229/500\n",
      "2/2 [==============================] - 0s 3ms/step - loss: 18.9498 - mae: 18.9498\n",
      "Epoch 230/500\n",
      "2/2 [==============================] - 0s 4ms/step - loss: 15.3734 - mae: 15.3734\n",
      "Epoch 231/500\n",
      "2/2 [==============================] - 0s 3ms/step - loss: 22.2855 - mae: 22.2855\n",
      "Epoch 232/500\n",
      "2/2 [==============================] - 0s 2ms/step - loss: 25.6766 - mae: 25.6766\n",
      "Epoch 233/500\n",
      "2/2 [==============================] - 0s 2ms/step - loss: 15.8456 - mae: 15.8456\n",
      "Epoch 234/500\n",
      "2/2 [==============================] - 0s 2ms/step - loss: 7.1198 - mae: 7.1198\n",
      "Epoch 235/500\n",
      "2/2 [==============================] - 0s 6ms/step - loss: 16.5358 - mae: 16.5358\n",
      "Epoch 236/500\n",
      "2/2 [==============================] - 0s 2ms/step - loss: 6.8411 - mae: 6.8411\n",
      "Epoch 237/500\n",
      "2/2 [==============================] - 0s 2ms/step - loss: 8.4977 - mae: 8.4977\n",
      "Epoch 238/500\n",
      "2/2 [==============================] - 0s 2ms/step - loss: 7.6219 - mae: 7.6219\n",
      "Epoch 239/500\n",
      "2/2 [==============================] - 0s 3ms/step - loss: 16.6737 - mae: 16.6737\n",
      "Epoch 240/500\n",
      "2/2 [==============================] - 0s 2ms/step - loss: 8.1090 - mae: 8.1090\n",
      "Epoch 241/500\n",
      "2/2 [==============================] - 0s 3ms/step - loss: 12.2173 - mae: 12.2173\n",
      "Epoch 242/500\n",
      "2/2 [==============================] - 0s 3ms/step - loss: 8.4286 - mae: 8.4286\n",
      "Epoch 243/500\n",
      "2/2 [==============================] - 0s 3ms/step - loss: 19.0474 - mae: 19.0474\n",
      "Epoch 244/500\n",
      "2/2 [==============================] - 0s 8ms/step - loss: 13.8906 - mae: 13.8906\n",
      "Epoch 245/500\n",
      "2/2 [==============================] - 0s 2ms/step - loss: 14.9766 - mae: 14.9766\n",
      "Epoch 246/500\n",
      "2/2 [==============================] - 0s 4ms/step - loss: 16.5221 - mae: 16.5221\n",
      "Epoch 247/500\n",
      "2/2 [==============================] - 0s 4ms/step - loss: 18.3671 - mae: 18.3671\n",
      "Epoch 248/500\n",
      "2/2 [==============================] - 0s 3ms/step - loss: 12.7968 - mae: 12.7968\n",
      "Epoch 249/500\n",
      "2/2 [==============================] - 0s 2ms/step - loss: 14.6663 - mae: 14.6663\n",
      "Epoch 250/500\n",
      "2/2 [==============================] - 0s 3ms/step - loss: 24.6626 - mae: 24.6626\n",
      "Epoch 251/500\n",
      "2/2 [==============================] - 0s 4ms/step - loss: 8.8291 - mae: 8.8291\n",
      "Epoch 252/500\n",
      "2/2 [==============================] - 0s 4ms/step - loss: 38.5682 - mae: 38.5682\n",
      "Epoch 253/500\n",
      "2/2 [==============================] - 0s 5ms/step - loss: 21.8404 - mae: 21.8404\n",
      "Epoch 254/500\n",
      "2/2 [==============================] - 0s 3ms/step - loss: 6.6485 - mae: 6.6485\n",
      "Epoch 255/500\n",
      "2/2 [==============================] - 0s 4ms/step - loss: 24.9959 - mae: 24.9959\n",
      "Epoch 256/500\n",
      "2/2 [==============================] - 0s 4ms/step - loss: 11.5965 - mae: 11.5965\n",
      "Epoch 257/500\n",
      "2/2 [==============================] - 0s 4ms/step - loss: 10.0635 - mae: 10.0635\n"
     ]
    },
    {
     "name": "stdout",
     "output_type": "stream",
     "text": [
      "Epoch 258/500\n",
      "2/2 [==============================] - 0s 4ms/step - loss: 13.8021 - mae: 13.8021\n",
      "Epoch 259/500\n",
      "2/2 [==============================] - 0s 3ms/step - loss: 8.3765 - mae: 8.3765\n",
      "Epoch 260/500\n",
      "2/2 [==============================] - 0s 5ms/step - loss: 45.7482 - mae: 45.7482\n",
      "Epoch 261/500\n",
      "2/2 [==============================] - 0s 4ms/step - loss: 18.1356 - mae: 18.1356\n",
      "Epoch 262/500\n",
      "2/2 [==============================] - 0s 5ms/step - loss: 6.3169 - mae: 6.3169\n",
      "Epoch 263/500\n",
      "2/2 [==============================] - 0s 3ms/step - loss: 13.7269 - mae: 13.7269\n",
      "Epoch 264/500\n",
      "2/2 [==============================] - 0s 4ms/step - loss: 22.1387 - mae: 22.1387\n",
      "Epoch 265/500\n",
      "2/2 [==============================] - 0s 3ms/step - loss: 19.3150 - mae: 19.3150\n",
      "Epoch 266/500\n",
      "2/2 [==============================] - 0s 2ms/step - loss: 10.9408 - mae: 10.9408\n",
      "Epoch 267/500\n",
      "2/2 [==============================] - 0s 3ms/step - loss: 6.7507 - mae: 6.7507\n",
      "Epoch 268/500\n",
      "2/2 [==============================] - 0s 3ms/step - loss: 22.1636 - mae: 22.1636\n",
      "Epoch 269/500\n",
      "2/2 [==============================] - 0s 3ms/step - loss: 34.7302 - mae: 34.7302\n",
      "Epoch 270/500\n",
      "2/2 [==============================] - 0s 2ms/step - loss: 9.6729 - mae: 9.6729\n",
      "Epoch 271/500\n",
      "2/2 [==============================] - 0s 17ms/step - loss: 10.5268 - mae: 10.5268\n",
      "Epoch 272/500\n",
      "2/2 [==============================] - 0s 4ms/step - loss: 26.9760 - mae: 26.9760\n",
      "Epoch 273/500\n",
      "2/2 [==============================] - 0s 5ms/step - loss: 11.6137 - mae: 11.6137\n",
      "Epoch 274/500\n",
      "2/2 [==============================] - 0s 5ms/step - loss: 12.0721 - mae: 12.0721\n",
      "Epoch 275/500\n",
      "2/2 [==============================] - 0s 4ms/step - loss: 30.5160 - mae: 30.5160\n",
      "Epoch 276/500\n",
      "2/2 [==============================] - 0s 2ms/step - loss: 6.5488 - mae: 6.5488\n",
      "Epoch 277/500\n",
      "2/2 [==============================] - 0s 3ms/step - loss: 31.9636 - mae: 31.9636\n",
      "Epoch 278/500\n",
      "2/2 [==============================] - 0s 8ms/step - loss: 11.5564 - mae: 11.5564\n",
      "Epoch 279/500\n",
      "2/2 [==============================] - 0s 4ms/step - loss: 17.3607 - mae: 17.3607\n",
      "Epoch 280/500\n",
      "2/2 [==============================] - 0s 4ms/step - loss: 23.1189 - mae: 23.1189\n",
      "Epoch 281/500\n",
      "2/2 [==============================] - 0s 4ms/step - loss: 22.5077 - mae: 22.5077\n",
      "Epoch 282/500\n",
      "2/2 [==============================] - 0s 3ms/step - loss: 7.2140 - mae: 7.2140\n",
      "Epoch 283/500\n",
      "2/2 [==============================] - 0s 4ms/step - loss: 7.7724 - mae: 7.7724\n",
      "Epoch 284/500\n",
      "2/2 [==============================] - 0s 5ms/step - loss: 25.4832 - mae: 25.4832\n",
      "Epoch 285/500\n",
      "2/2 [==============================] - 0s 3ms/step - loss: 13.3877 - mae: 13.3877\n",
      "Epoch 286/500\n",
      "2/2 [==============================] - 0s 5ms/step - loss: 6.2528 - mae: 6.2528\n",
      "Epoch 287/500\n",
      "2/2 [==============================] - 0s 3ms/step - loss: 25.2020 - mae: 25.2020\n",
      "Epoch 288/500\n",
      "2/2 [==============================] - 0s 5ms/step - loss: 20.5697 - mae: 20.5697\n",
      "Epoch 289/500\n",
      "2/2 [==============================] - 0s 3ms/step - loss: 11.0907 - mae: 11.0907\n",
      "Epoch 290/500\n",
      "2/2 [==============================] - 0s 3ms/step - loss: 17.0029 - mae: 17.0029\n",
      "Epoch 291/500\n",
      "2/2 [==============================] - 0s 2ms/step - loss: 17.6342 - mae: 17.6342\n",
      "Epoch 292/500\n",
      "2/2 [==============================] - 0s 3ms/step - loss: 8.1010 - mae: 8.1010\n",
      "Epoch 293/500\n",
      "2/2 [==============================] - 0s 3ms/step - loss: 15.5974 - mae: 15.5974\n",
      "Epoch 294/500\n",
      "2/2 [==============================] - 0s 2ms/step - loss: 24.0057 - mae: 24.0057\n",
      "Epoch 295/500\n",
      "2/2 [==============================] - 0s 2ms/step - loss: 17.6288 - mae: 17.6288\n",
      "Epoch 296/500\n",
      "2/2 [==============================] - 0s 2ms/step - loss: 5.7207 - mae: 5.7207\n",
      "Epoch 297/500\n",
      "2/2 [==============================] - 0s 2ms/step - loss: 9.5090 - mae: 9.5090\n",
      "Epoch 298/500\n",
      "2/2 [==============================] - 0s 4ms/step - loss: 24.2070 - mae: 24.2070\n",
      "Epoch 299/500\n",
      "2/2 [==============================] - 0s 3ms/step - loss: 17.5093 - mae: 17.5093\n",
      "Epoch 300/500\n",
      "2/2 [==============================] - 0s 2ms/step - loss: 6.9937 - mae: 6.9937\n",
      "Epoch 301/500\n",
      "2/2 [==============================] - 0s 3ms/step - loss: 25.4316 - mae: 25.4316\n",
      "Epoch 302/500\n",
      "2/2 [==============================] - 0s 3ms/step - loss: 8.5327 - mae: 8.5327\n",
      "Epoch 303/500\n",
      "2/2 [==============================] - 0s 3ms/step - loss: 17.2889 - mae: 17.2889\n",
      "Epoch 304/500\n",
      "2/2 [==============================] - 0s 2ms/step - loss: 10.1101 - mae: 10.1101\n",
      "Epoch 305/500\n",
      "2/2 [==============================] - 0s 6ms/step - loss: 12.0683 - mae: 12.0683\n",
      "Epoch 306/500\n",
      "2/2 [==============================] - 0s 2ms/step - loss: 7.9177 - mae: 7.9177\n",
      "Epoch 307/500\n",
      "2/2 [==============================] - 0s 3ms/step - loss: 12.7052 - mae: 12.7052\n",
      "Epoch 308/500\n",
      "2/2 [==============================] - 0s 4ms/step - loss: 6.9439 - mae: 6.9439\n",
      "Epoch 309/500\n",
      "2/2 [==============================] - 0s 4ms/step - loss: 8.8822 - mae: 8.8822\n",
      "Epoch 310/500\n",
      "2/2 [==============================] - 0s 6ms/step - loss: 10.3575 - mae: 10.3575\n",
      "Epoch 311/500\n",
      "2/2 [==============================] - 0s 2ms/step - loss: 12.4583 - mae: 12.4583\n",
      "Epoch 312/500\n",
      "2/2 [==============================] - 0s 5ms/step - loss: 30.1003 - mae: 30.1003\n",
      "Epoch 313/500\n",
      "2/2 [==============================] - 0s 5ms/step - loss: 6.8146 - mae: 6.8146\n",
      "Epoch 314/500\n",
      "2/2 [==============================] - ETA: 0s - loss: 5.9248 - mae: 5.924 - 0s 2ms/step - loss: 8.5820 - mae: 8.5820\n",
      "Epoch 315/500\n",
      "2/2 [==============================] - 0s 3ms/step - loss: 24.8169 - mae: 24.8169\n",
      "Epoch 316/500\n",
      "2/2 [==============================] - 0s 7ms/step - loss: 15.7743 - mae: 15.7743\n",
      "Epoch 317/500\n",
      "2/2 [==============================] - 0s 3ms/step - loss: 20.6639 - mae: 20.6639\n",
      "Epoch 318/500\n",
      "2/2 [==============================] - 0s 3ms/step - loss: 7.6411 - mae: 7.6411\n",
      "Epoch 319/500\n",
      "2/2 [==============================] - 0s 4ms/step - loss: 17.5016 - mae: 17.5016\n",
      "Epoch 320/500\n",
      "2/2 [==============================] - 0s 2ms/step - loss: 9.6369 - mae: 9.6369\n",
      "Epoch 321/500\n",
      "2/2 [==============================] - 0s 3ms/step - loss: 7.6257 - mae: 7.6257\n",
      "Epoch 322/500\n",
      "2/2 [==============================] - 0s 3ms/step - loss: 4.7523 - mae: 4.7523\n",
      "Epoch 323/500\n",
      "2/2 [==============================] - 0s 2ms/step - loss: 23.8769 - mae: 23.8769\n",
      "Epoch 324/500\n",
      "2/2 [==============================] - 0s 3ms/step - loss: 6.5827 - mae: 6.5827\n",
      "Epoch 325/500\n",
      "2/2 [==============================] - 0s 4ms/step - loss: 15.7011 - mae: 15.7011\n",
      "Epoch 326/500\n",
      "2/2 [==============================] - 0s 4ms/step - loss: 7.0888 - mae: 7.0888\n",
      "Epoch 327/500\n",
      "2/2 [==============================] - 0s 5ms/step - loss: 20.2157 - mae: 20.2157\n",
      "Epoch 328/500\n",
      "2/2 [==============================] - 0s 3ms/step - loss: 13.8279 - mae: 13.8279\n",
      "Epoch 329/500\n",
      "2/2 [==============================] - 0s 7ms/step - loss: 17.7642 - mae: 17.7642\n",
      "Epoch 330/500\n",
      "2/2 [==============================] - 0s 3ms/step - loss: 6.3600 - mae: 6.3600\n",
      "Epoch 331/500\n",
      "2/2 [==============================] - 0s 5ms/step - loss: 21.7519 - mae: 21.7519\n",
      "Epoch 332/500\n",
      "2/2 [==============================] - 0s 4ms/step - loss: 11.2420 - mae: 11.2420\n",
      "Epoch 333/500\n",
      "2/2 [==============================] - 0s 3ms/step - loss: 11.1790 - mae: 11.1790\n",
      "Epoch 334/500\n",
      "2/2 [==============================] - 0s 3ms/step - loss: 7.5349 - mae: 7.5349\n",
      "Epoch 335/500\n",
      "2/2 [==============================] - 0s 3ms/step - loss: 11.1596 - mae: 11.1596\n",
      "Epoch 336/500\n",
      "2/2 [==============================] - 0s 5ms/step - loss: 32.2226 - mae: 32.2226\n",
      "Epoch 337/500\n",
      "2/2 [==============================] - 0s 2ms/step - loss: 9.5676 - mae: 9.5676\n",
      "Epoch 338/500\n",
      "2/2 [==============================] - 0s 7ms/step - loss: 20.4626 - mae: 20.4626\n",
      "Epoch 339/500\n",
      "2/2 [==============================] - 0s 3ms/step - loss: 36.5697 - mae: 36.5697\n",
      "Epoch 340/500\n",
      "2/2 [==============================] - 0s 3ms/step - loss: 9.4412 - mae: 9.4412\n",
      "Epoch 341/500\n",
      "2/2 [==============================] - 0s 3ms/step - loss: 9.2981 - mae: 9.2981\n",
      "Epoch 342/500\n",
      "2/2 [==============================] - 0s 3ms/step - loss: 11.7808 - mae: 11.7808\n",
      "Epoch 343/500\n"
     ]
    },
    {
     "name": "stdout",
     "output_type": "stream",
     "text": [
      "2/2 [==============================] - 0s 3ms/step - loss: 8.6574 - mae: 8.6574\n",
      "Epoch 344/500\n",
      "2/2 [==============================] - 0s 3ms/step - loss: 5.2876 - mae: 5.2876\n",
      "Epoch 345/500\n",
      "2/2 [==============================] - 0s 3ms/step - loss: 39.5019 - mae: 39.5019\n",
      "Epoch 346/500\n",
      "2/2 [==============================] - 0s 3ms/step - loss: 16.1694 - mae: 16.1694\n",
      "Epoch 347/500\n",
      "2/2 [==============================] - 0s 4ms/step - loss: 12.1610 - mae: 12.1610\n",
      "Epoch 348/500\n",
      "2/2 [==============================] - 0s 4ms/step - loss: 7.1087 - mae: 7.1087\n",
      "Epoch 349/500\n",
      "2/2 [==============================] - 0s 4ms/step - loss: 12.9491 - mae: 12.9491\n",
      "Epoch 350/500\n",
      "2/2 [==============================] - 0s 2ms/step - loss: 16.1665 - mae: 16.1665\n",
      "Epoch 351/500\n",
      "2/2 [==============================] - 0s 3ms/step - loss: 34.0546 - mae: 34.0546\n",
      "Epoch 352/500\n",
      "2/2 [==============================] - 0s 3ms/step - loss: 14.2397 - mae: 14.2397\n",
      "Epoch 353/500\n",
      "2/2 [==============================] - 0s 2ms/step - loss: 16.6958 - mae: 16.6958\n",
      "Epoch 354/500\n",
      "2/2 [==============================] - 0s 4ms/step - loss: 19.8495 - mae: 19.8495\n",
      "Epoch 355/500\n",
      "2/2 [==============================] - 0s 2ms/step - loss: 35.6263 - mae: 35.6263\n",
      "Epoch 356/500\n",
      "2/2 [==============================] - 0s 4ms/step - loss: 7.3612 - mae: 7.3612\n",
      "Epoch 357/500\n",
      "2/2 [==============================] - 0s 2ms/step - loss: 25.8732 - mae: 25.8732\n",
      "Epoch 358/500\n",
      "2/2 [==============================] - 0s 5ms/step - loss: 23.0121 - mae: 23.0121\n",
      "Epoch 359/500\n",
      "2/2 [==============================] - 0s 6ms/step - loss: 7.5922 - mae: 7.5922\n",
      "Epoch 360/500\n",
      "2/2 [==============================] - 0s 4ms/step - loss: 22.7494 - mae: 22.7494\n",
      "Epoch 361/500\n",
      "2/2 [==============================] - 0s 3ms/step - loss: 20.6563 - mae: 20.6563\n",
      "Epoch 362/500\n",
      "2/2 [==============================] - 0s 2ms/step - loss: 6.4755 - mae: 6.4755\n",
      "Epoch 363/500\n",
      "2/2 [==============================] - 0s 5ms/step - loss: 26.4406 - mae: 26.4406\n",
      "Epoch 364/500\n",
      "2/2 [==============================] - 0s 3ms/step - loss: 33.4598 - mae: 33.4598\n",
      "Epoch 365/500\n",
      "2/2 [==============================] - 0s 4ms/step - loss: 9.3624 - mae: 9.3624\n",
      "Epoch 366/500\n",
      "2/2 [==============================] - 0s 6ms/step - loss: 8.1176 - mae: 8.1176\n",
      "Epoch 367/500\n",
      "2/2 [==============================] - 0s 3ms/step - loss: 31.5796 - mae: 31.5796\n",
      "Epoch 368/500\n",
      "2/2 [==============================] - 0s 4ms/step - loss: 9.3113 - mae: 9.3113\n",
      "Epoch 369/500\n",
      "2/2 [==============================] - 0s 3ms/step - loss: 15.4731 - mae: 15.4731\n",
      "Epoch 370/500\n",
      "2/2 [==============================] - 0s 3ms/step - loss: 15.1064 - mae: 15.1064\n",
      "Epoch 371/500\n",
      "2/2 [==============================] - 0s 2ms/step - loss: 24.6474 - mae: 24.6474\n",
      "Epoch 372/500\n",
      "2/2 [==============================] - 0s 3ms/step - loss: 12.0766 - mae: 12.0766\n",
      "Epoch 373/500\n",
      "2/2 [==============================] - 0s 3ms/step - loss: 8.6626 - mae: 8.6626\n",
      "Epoch 374/500\n",
      "2/2 [==============================] - 0s 4ms/step - loss: 8.5076 - mae: 8.5076\n",
      "Epoch 375/500\n",
      "2/2 [==============================] - 0s 3ms/step - loss: 12.7401 - mae: 12.7401\n",
      "Epoch 376/500\n",
      "2/2 [==============================] - 0s 3ms/step - loss: 15.4849 - mae: 15.4849\n",
      "Epoch 377/500\n",
      "2/2 [==============================] - 0s 2ms/step - loss: 14.3770 - mae: 14.3770\n",
      "Epoch 378/500\n",
      "2/2 [==============================] - 0s 5ms/step - loss: 17.3350 - mae: 17.3350\n",
      "Epoch 379/500\n",
      "2/2 [==============================] - 0s 5ms/step - loss: 21.5410 - mae: 21.5410\n",
      "Epoch 380/500\n",
      "2/2 [==============================] - 0s 3ms/step - loss: 35.0745 - mae: 35.0745\n",
      "Epoch 381/500\n",
      "2/2 [==============================] - 0s 5ms/step - loss: 7.6949 - mae: 7.6949\n",
      "Epoch 382/500\n",
      "2/2 [==============================] - 0s 7ms/step - loss: 12.5582 - mae: 12.5582\n",
      "Epoch 383/500\n",
      "2/2 [==============================] - 0s 7ms/step - loss: 7.7018 - mae: 7.7018\n",
      "Epoch 384/500\n",
      "2/2 [==============================] - 0s 3ms/step - loss: 6.5895 - mae: 6.5895\n",
      "Epoch 385/500\n",
      "2/2 [==============================] - 0s 4ms/step - loss: 9.5069 - mae: 9.5069\n",
      "Epoch 386/500\n",
      "2/2 [==============================] - 0s 5ms/step - loss: 21.0157 - mae: 21.0157\n",
      "Epoch 387/500\n",
      "2/2 [==============================] - 0s 3ms/step - loss: 25.3280 - mae: 25.3280\n",
      "Epoch 388/500\n",
      "2/2 [==============================] - 0s 6ms/step - loss: 8.1201 - mae: 8.1201\n",
      "Epoch 389/500\n",
      "2/2 [==============================] - 0s 5ms/step - loss: 5.9262 - mae: 5.9262\n",
      "Epoch 390/500\n",
      "2/2 [==============================] - 0s 4ms/step - loss: 24.9400 - mae: 24.9400\n",
      "Epoch 391/500\n",
      "2/2 [==============================] - 0s 3ms/step - loss: 5.3383 - mae: 5.3383\n",
      "Epoch 392/500\n",
      "2/2 [==============================] - 0s 7ms/step - loss: 15.4749 - mae: 15.4749\n",
      "Epoch 393/500\n",
      "2/2 [==============================] - 0s 3ms/step - loss: 5.3155 - mae: 5.3155\n",
      "Epoch 394/500\n",
      "2/2 [==============================] - 0s 3ms/step - loss: 10.0902 - mae: 10.0902\n",
      "Epoch 395/500\n",
      "2/2 [==============================] - 0s 4ms/step - loss: 14.1821 - mae: 14.1821\n",
      "Epoch 396/500\n",
      "2/2 [==============================] - 0s 3ms/step - loss: 6.8618 - mae: 6.8618\n",
      "Epoch 397/500\n",
      "2/2 [==============================] - 0s 2ms/step - loss: 8.0388 - mae: 8.0388\n",
      "Epoch 398/500\n",
      "2/2 [==============================] - 0s 4ms/step - loss: 13.8074 - mae: 13.8074\n",
      "Epoch 399/500\n",
      "2/2 [==============================] - 0s 8ms/step - loss: 9.7530 - mae: 9.7530\n",
      "Epoch 400/500\n",
      "2/2 [==============================] - 0s 9ms/step - loss: 23.2993 - mae: 23.2993\n",
      "Epoch 401/500\n",
      "2/2 [==============================] - 0s 4ms/step - loss: 14.3731 - mae: 14.3731\n",
      "Epoch 402/500\n",
      "2/2 [==============================] - 0s 5ms/step - loss: 7.7284 - mae: 7.7284\n",
      "Epoch 403/500\n",
      "2/2 [==============================] - 0s 3ms/step - loss: 9.4205 - mae: 9.4205\n",
      "Epoch 404/500\n",
      "2/2 [==============================] - 0s 3ms/step - loss: 9.3544 - mae: 9.3544\n",
      "Epoch 405/500\n",
      "2/2 [==============================] - 0s 8ms/step - loss: 5.8138 - mae: 5.8138\n",
      "Epoch 406/500\n",
      "2/2 [==============================] - 0s 4ms/step - loss: 17.3153 - mae: 17.3153\n",
      "Epoch 407/500\n",
      "2/2 [==============================] - 0s 2ms/step - loss: 9.8933 - mae: 9.8933\n",
      "Epoch 408/500\n",
      "2/2 [==============================] - 0s 3ms/step - loss: 21.8613 - mae: 21.8613\n",
      "Epoch 409/500\n",
      "2/2 [==============================] - 0s 8ms/step - loss: 32.9579 - mae: 32.9579\n",
      "Epoch 410/500\n",
      "2/2 [==============================] - 0s 4ms/step - loss: 7.9618 - mae: 7.9618\n",
      "Epoch 411/500\n",
      "2/2 [==============================] - 0s 8ms/step - loss: 14.7364 - mae: 14.7364\n",
      "Epoch 412/500\n",
      "2/2 [==============================] - 0s 5ms/step - loss: 23.1980 - mae: 23.1980\n",
      "Epoch 413/500\n",
      "2/2 [==============================] - 0s 3ms/step - loss: 11.8725 - mae: 11.8725\n",
      "Epoch 414/500\n",
      "2/2 [==============================] - 0s 4ms/step - loss: 5.3169 - mae: 5.3169\n",
      "Epoch 415/500\n",
      "2/2 [==============================] - 0s 7ms/step - loss: 12.9844 - mae: 12.9844\n",
      "Epoch 416/500\n",
      "2/2 [==============================] - 0s 10ms/step - loss: 27.9657 - mae: 27.9657\n",
      "Epoch 417/500\n",
      "2/2 [==============================] - 0s 4ms/step - loss: 10.0398 - mae: 10.0398\n",
      "Epoch 418/500\n",
      "2/2 [==============================] - 0s 5ms/step - loss: 12.4292 - mae: 12.4292\n",
      "Epoch 419/500\n",
      "2/2 [==============================] - 0s 4ms/step - loss: 16.7570 - mae: 16.7570\n",
      "Epoch 420/500\n",
      "2/2 [==============================] - 0s 4ms/step - loss: 25.5950 - mae: 25.5950\n",
      "Epoch 421/500\n",
      "2/2 [==============================] - 0s 3ms/step - loss: 16.8935 - mae: 16.8935\n",
      "Epoch 422/500\n",
      "2/2 [==============================] - 0s 4ms/step - loss: 6.5194 - mae: 6.5194\n",
      "Epoch 423/500\n",
      "2/2 [==============================] - 0s 4ms/step - loss: 26.2627 - mae: 26.2627\n",
      "Epoch 424/500\n",
      "2/2 [==============================] - 0s 4ms/step - loss: 14.3894 - mae: 14.3894\n",
      "Epoch 425/500\n",
      "2/2 [==============================] - 0s 4ms/step - loss: 6.5461 - mae: 6.5461\n",
      "Epoch 426/500\n",
      "2/2 [==============================] - 0s 3ms/step - loss: 20.0221 - mae: 20.0221\n",
      "Epoch 427/500\n",
      "2/2 [==============================] - 0s 5ms/step - loss: 5.4675 - mae: 5.4675\n",
      "Epoch 428/500\n",
      "2/2 [==============================] - 0s 3ms/step - loss: 11.9020 - mae: 11.9020\n",
      "Epoch 429/500\n"
     ]
    },
    {
     "name": "stdout",
     "output_type": "stream",
     "text": [
      "2/2 [==============================] - 0s 3ms/step - loss: 9.7413 - mae: 9.7413\n",
      "Epoch 430/500\n",
      "2/2 [==============================] - 0s 5ms/step - loss: 10.3967 - mae: 10.3967\n",
      "Epoch 431/500\n",
      "2/2 [==============================] - 0s 4ms/step - loss: 9.5247 - mae: 9.5247\n",
      "Epoch 432/500\n",
      "2/2 [==============================] - 0s 3ms/step - loss: 10.4026 - mae: 10.4026\n",
      "Epoch 433/500\n",
      "2/2 [==============================] - 0s 3ms/step - loss: 9.5572 - mae: 9.5572\n",
      "Epoch 434/500\n",
      "2/2 [==============================] - 0s 3ms/step - loss: 31.0641 - mae: 31.0641\n",
      "Epoch 435/500\n",
      "2/2 [==============================] - 0s 3ms/step - loss: 8.7320 - mae: 8.7320\n",
      "Epoch 436/500\n",
      "2/2 [==============================] - 0s 3ms/step - loss: 30.4039 - mae: 30.4039\n",
      "Epoch 437/500\n",
      "2/2 [==============================] - 0s 5ms/step - loss: 7.2410 - mae: 7.2410\n",
      "Epoch 438/500\n",
      "2/2 [==============================] - 0s 4ms/step - loss: 11.4983 - mae: 11.4983\n",
      "Epoch 439/500\n",
      "2/2 [==============================] - ETA: 0s - loss: 34.7118 - mae: 34.711 - 0s 4ms/step - loss: 34.0209 - mae: 34.0209\n",
      "Epoch 440/500\n",
      "2/2 [==============================] - 0s 5ms/step - loss: 15.0207 - mae: 15.0207\n",
      "Epoch 441/500\n",
      "2/2 [==============================] - 0s 4ms/step - loss: 18.6827 - mae: 18.6827\n",
      "Epoch 442/500\n",
      "2/2 [==============================] - 0s 6ms/step - loss: 23.3211 - mae: 23.3211\n",
      "Epoch 443/500\n",
      "2/2 [==============================] - 0s 4ms/step - loss: 23.7391 - mae: 23.7391\n",
      "Epoch 444/500\n",
      "2/2 [==============================] - 0s 4ms/step - loss: 10.5044 - mae: 10.5044\n",
      "Epoch 445/500\n",
      "2/2 [==============================] - 0s 5ms/step - loss: 15.2148 - mae: 15.2148\n",
      "Epoch 446/500\n",
      "2/2 [==============================] - 0s 6ms/step - loss: 19.1407 - mae: 19.1407\n",
      "Epoch 447/500\n",
      "2/2 [==============================] - 0s 4ms/step - loss: 4.9130 - mae: 4.9130\n",
      "Epoch 448/500\n",
      "2/2 [==============================] - 0s 4ms/step - loss: 8.6091 - mae: 8.6091\n",
      "Epoch 449/500\n",
      "2/2 [==============================] - 0s 3ms/step - loss: 13.8472 - mae: 13.8472\n",
      "Epoch 450/500\n",
      "2/2 [==============================] - 0s 3ms/step - loss: 17.7478 - mae: 17.7478\n",
      "Epoch 451/500\n",
      "2/2 [==============================] - 0s 6ms/step - loss: 14.7602 - mae: 14.7602\n",
      "Epoch 452/500\n",
      "2/2 [==============================] - 0s 5ms/step - loss: 31.1153 - mae: 31.1153\n",
      "Epoch 453/500\n",
      "2/2 [==============================] - 0s 4ms/step - loss: 6.3488 - mae: 6.3488\n",
      "Epoch 454/500\n",
      "2/2 [==============================] - 0s 6ms/step - loss: 28.8322 - mae: 28.8322\n",
      "Epoch 455/500\n",
      "2/2 [==============================] - 0s 3ms/step - loss: 7.3912 - mae: 7.3912\n",
      "Epoch 456/500\n",
      "2/2 [==============================] - 0s 5ms/step - loss: 8.8416 - mae: 8.8416\n",
      "Epoch 457/500\n",
      "2/2 [==============================] - 0s 5ms/step - loss: 15.4993 - mae: 15.4993\n",
      "Epoch 458/500\n",
      "2/2 [==============================] - 0s 6ms/step - loss: 17.7243 - mae: 17.7243\n",
      "Epoch 459/500\n",
      "2/2 [==============================] - 0s 3ms/step - loss: 27.5770 - mae: 27.5770\n",
      "Epoch 460/500\n",
      "2/2 [==============================] - 0s 6ms/step - loss: 11.7501 - mae: 11.7501\n",
      "Epoch 461/500\n",
      "2/2 [==============================] - 0s 3ms/step - loss: 11.5889 - mae: 11.5889\n",
      "Epoch 462/500\n",
      "2/2 [==============================] - 0s 4ms/step - loss: 13.2257 - mae: 13.2257\n",
      "Epoch 463/500\n",
      "2/2 [==============================] - 0s 4ms/step - loss: 30.3476 - mae: 30.3476\n",
      "Epoch 464/500\n",
      "2/2 [==============================] - 0s 3ms/step - loss: 3.3242 - mae: 3.3242\n",
      "Epoch 465/500\n",
      "2/2 [==============================] - 0s 3ms/step - loss: 15.9370 - mae: 15.9370\n",
      "Epoch 466/500\n",
      "2/2 [==============================] - 0s 3ms/step - loss: 21.7724 - mae: 21.7724\n",
      "Epoch 467/500\n",
      "2/2 [==============================] - 0s 4ms/step - loss: 31.6821 - mae: 31.6821\n",
      "Epoch 468/500\n",
      "2/2 [==============================] - 0s 5ms/step - loss: 9.6243 - mae: 9.6243\n",
      "Epoch 469/500\n",
      "2/2 [==============================] - 0s 8ms/step - loss: 11.8263 - mae: 11.8263\n",
      "Epoch 470/500\n",
      "2/2 [==============================] - 0s 3ms/step - loss: 3.2032 - mae: 3.2032\n",
      "Epoch 471/500\n",
      "2/2 [==============================] - 0s 5ms/step - loss: 17.3217 - mae: 17.3217\n",
      "Epoch 472/500\n",
      "2/2 [==============================] - 0s 6ms/step - loss: 12.9616 - mae: 12.9616\n",
      "Epoch 473/500\n",
      "2/2 [==============================] - 0s 3ms/step - loss: 16.3344 - mae: 16.3344\n",
      "Epoch 474/500\n",
      "2/2 [==============================] - 0s 5ms/step - loss: 10.4298 - mae: 10.4298\n",
      "Epoch 475/500\n",
      "2/2 [==============================] - 0s 7ms/step - loss: 17.3095 - mae: 17.3095\n",
      "Epoch 476/500\n",
      "2/2 [==============================] - 0s 3ms/step - loss: 14.0110 - mae: 14.0110\n",
      "Epoch 477/500\n",
      "2/2 [==============================] - 0s 3ms/step - loss: 31.3851 - mae: 31.3851\n",
      "Epoch 478/500\n",
      "2/2 [==============================] - 0s 4ms/step - loss: 7.4666 - mae: 7.4666\n",
      "Epoch 479/500\n",
      "2/2 [==============================] - 0s 3ms/step - loss: 9.3610 - mae: 9.3610\n",
      "Epoch 480/500\n",
      "2/2 [==============================] - 0s 6ms/step - loss: 19.0261 - mae: 19.0261\n",
      "Epoch 481/500\n",
      "2/2 [==============================] - 0s 6ms/step - loss: 16.5661 - mae: 16.5661\n",
      "Epoch 482/500\n",
      "2/2 [==============================] - 0s 4ms/step - loss: 22.2981 - mae: 22.2981\n",
      "Epoch 483/500\n",
      "2/2 [==============================] - 0s 3ms/step - loss: 25.8888 - mae: 25.8888\n",
      "Epoch 484/500\n",
      "2/2 [==============================] - 0s 5ms/step - loss: 24.0995 - mae: 24.0995\n",
      "Epoch 485/500\n",
      "2/2 [==============================] - 0s 3ms/step - loss: 5.2883 - mae: 5.2883\n",
      "Epoch 486/500\n",
      "2/2 [==============================] - 0s 3ms/step - loss: 20.4084 - mae: 20.4084\n",
      "Epoch 487/500\n",
      "2/2 [==============================] - 0s 3ms/step - loss: 14.3825 - mae: 14.3825\n",
      "Epoch 488/500\n",
      "2/2 [==============================] - 0s 4ms/step - loss: 32.0213 - mae: 32.0213\n",
      "Epoch 489/500\n",
      "2/2 [==============================] - 0s 6ms/step - loss: 11.1841 - mae: 11.1841\n",
      "Epoch 490/500\n",
      "2/2 [==============================] - 0s 3ms/step - loss: 11.9448 - mae: 11.9448\n",
      "Epoch 491/500\n",
      "2/2 [==============================] - 0s 4ms/step - loss: 24.6860 - mae: 24.6860\n",
      "Epoch 492/500\n",
      "2/2 [==============================] - 0s 5ms/step - loss: 20.3409 - mae: 20.3409\n",
      "Epoch 493/500\n",
      "2/2 [==============================] - 0s 6ms/step - loss: 4.5806 - mae: 4.5806\n",
      "Epoch 494/500\n",
      "2/2 [==============================] - 0s 12ms/step - loss: 12.1887 - mae: 12.1887\n",
      "Epoch 495/500\n",
      "2/2 [==============================] - 0s 6ms/step - loss: 13.4238 - mae: 13.4238\n",
      "Epoch 496/500\n",
      "2/2 [==============================] - 0s 3ms/step - loss: 12.0397 - mae: 12.0397\n",
      "Epoch 497/500\n",
      "2/2 [==============================] - 0s 3ms/step - loss: 18.8880 - mae: 18.8880\n",
      "Epoch 498/500\n",
      "2/2 [==============================] - 0s 6ms/step - loss: 23.8077 - mae: 23.8077\n",
      "Epoch 499/500\n",
      "2/2 [==============================] - 0s 4ms/step - loss: 8.9942 - mae: 8.9942\n",
      "Epoch 500/500\n",
      "2/2 [==============================] - 0s 3ms/step - loss: 15.1579 - mae: 15.1579\n"
     ]
    },
    {
     "data": {
      "text/plain": [
       "<tensorflow.python.keras.callbacks.History at 0x2aba27a5390>"
      ]
     },
     "execution_count": 157,
     "metadata": {},
     "output_type": "execute_result"
    }
   ],
   "source": [
    "# Set random seed\n",
    "tf.random.set_seed(42)\n",
    "\n",
    "# 1. Create a model\n",
    "\n",
    "model_3 = tf.keras.Sequential([\n",
    "    \n",
    "    tf.keras.layers.Dense(10),\n",
    "    tf.keras.layers.Dense(1)\n",
    "])\n",
    "\n",
    "# 2. Compile  the model\n",
    "\n",
    "model_3.compile(loss=tf.keras.losses.mae,\n",
    "                optimizer=tf.optimizers.SGD(),\n",
    "                metrics=[\"mae\"] )\n",
    "\n",
    "# 3. fit the model\n",
    "\n",
    "model_3.fit(X_train, y_train, epochs = 500)\n",
    "\n",
    "\n",
    "\n"
   ]
  },
  {
   "cell_type": "code",
   "execution_count": 159,
   "id": "solved-night",
   "metadata": {},
   "outputs": [
    {
     "data": {
      "image/png": "[encoded data removed]",
      "text/plain": [
       "<Figure size 720x504 with 1 Axes>"
      ]
     },
     "metadata": {
      "needs_background": "light"
     },
     "output_type": "display_data"
    }
   ],
   "source": [
    "# Make and plot some predictions\n",
    "y_preds_3 = model_3.predict(X_test)\n",
    "plot_predictions(predictions=y_preds_3)\n",
    "\n",
    "# overfitting, the model not generalize"
   ]
  },
  {
   "cell_type": "code",
   "execution_count": 160,
   "id": "fitting-tenant",
   "metadata": {},
   "outputs": [
    {
     "data": {
      "text/plain": [
       "(<tf.Tensor: shape=(), dtype=float32, numpy=68.713615>,\n",
       " <tf.Tensor: shape=(), dtype=float32, numpy=4808.0273>)"
      ]
     },
     "execution_count": 160,
     "metadata": {},
     "output_type": "execute_result"
    }
   ],
   "source": [
    "# Calculete model_3 evaluation metrics\n",
    "mae_3 = mae(y_test, y_preds_3)\n",
    "\n",
    "mse_3 = mse(y_test, y_preds_3)\n",
    "\n",
    "mae_3, mse_3\n"
   ]
  },
  {
   "cell_type": "markdown",
   "id": "specialized-handle",
   "metadata": {},
   "source": [
    "## Comparing the results of our experiments\n",
    "\n",
    "\n",
    "**Note:** You want to start with small experiments( small models) and make sure they work and then increase their scale when necessary.\n",
    "\n",
    "We've run a few experiments, let's compare the results."
   ]
  },
  {
   "cell_type": "code",
   "execution_count": 164,
   "id": "collaborative-honolulu",
   "metadata": {},
   "outputs": [
    {
     "data": {
      "text/html": [
       "<div>\n",
       "<style scoped>\n",
       "    .dataframe tbody tr th:only-of-type {\n",
       "        vertical-align: middle;\n",
       "    }\n",
       "\n",
       "    .dataframe tbody tr th {\n",
       "        vertical-align: top;\n",
       "    }\n",
       "\n",
       "    .dataframe thead th {\n",
       "        text-align: right;\n",
       "    }\n",
       "</style>\n",
       "<table border=\"1\" class=\"dataframe\">\n",
       "  <thead>\n",
       "    <tr style=\"text-align: right;\">\n",
       "      <th></th>\n",
       "      <th>model</th>\n",
       "      <th>mae</th>\n",
       "      <th>mse</th>\n",
       "    </tr>\n",
       "  </thead>\n",
       "  <tbody>\n",
       "    <tr>\n",
       "      <th>0</th>\n",
       "      <td>model_1</td>\n",
       "      <td>18.745327</td>\n",
       "      <td>353.573364</td>\n",
       "    </tr>\n",
       "    <tr>\n",
       "      <th>1</th>\n",
       "      <td>model_2</td>\n",
       "      <td>3.196940</td>\n",
       "      <td>13.070127</td>\n",
       "    </tr>\n",
       "    <tr>\n",
       "      <th>2</th>\n",
       "      <td>model_3</td>\n",
       "      <td>68.713615</td>\n",
       "      <td>4808.027344</td>\n",
       "    </tr>\n",
       "  </tbody>\n",
       "</table>\n",
       "</div>"
      ],
      "text/plain": [
       "     model        mae          mse\n",
       "0  model_1  18.745327   353.573364\n",
       "1  model_2   3.196940    13.070127\n",
       "2  model_3  68.713615  4808.027344"
      ]
     },
     "execution_count": 164,
     "metadata": {},
     "output_type": "execute_result"
    }
   ],
   "source": [
    "# let's compare our model's results using a pandas DataFrame\n",
    "\n",
    "import pandas as pd\n",
    "# transformarmos los tensores a array para que puedan visualizarse bien dentro del data set\n",
    "\n",
    "model_results = [[\"model_1\", mae_1.numpy(), mse_1.numpy()], [\"model_2\", mae_2.numpy(), mse_2.numpy()], [\"model_3\", mae_3.numpy(), mse_3.numpy()]]\n",
    "\n",
    "all_results= pd.DataFrame(model_results, columns = [\"model\", \"mae\", \"mse\"] )\n",
    "all_results\n"
   ]
  },
  {
   "cell_type": "markdown",
   "id": "fatal-digest",
   "metadata": {},
   "source": [
    "Looks like model_2 performed the best..."
   ]
  },
  {
   "cell_type": "code",
   "execution_count": 165,
   "id": "combined-interpretation",
   "metadata": {},
   "outputs": [
    {
     "name": "stdout",
     "output_type": "stream",
     "text": [
      "Model: \"sequential_16\"\n",
      "_________________________________________________________________\n",
      "Layer (type)                 Output Shape              Param #   \n",
      "=================================================================\n",
      "dense_21 (Dense)             (None, 10)                20        \n",
      "_________________________________________________________________\n",
      "dense_22 (Dense)             (None, 1)                 11        \n",
      "=================================================================\n",
      "Total params: 31\n",
      "Trainable params: 31\n",
      "Non-trainable params: 0\n",
      "_________________________________________________________________\n"
     ]
    }
   ],
   "source": [
    "model_2.summary()"
   ]
  },
  {
   "cell_type": "markdown",
   "id": "finite-portrait",
   "metadata": {},
   "source": [
    "**Note:** One of your main goals should be to minimize the time between your experiments you do, the more things you'll figure out which don't work and in turn, get closer to figuring out what does work. Remenber the machine learning practioner's motto: \"experiment, experiment, experiment\".\n",
    "\n",
    "    "
   ]
  },
  {
   "cell_type": "markdown",
   "id": "electric-career",
   "metadata": {},
   "source": [
    "## Tracking your experiments\n",
    "\n",
    "One  really good habit in machine learning modelling is to track the result of your experiments.\n",
    "\n",
    "And when doing so, it can be tedious if you're running lots of experiments\n",
    "\n",
    "Luckily there are tools to help us!\n",
    "\n",
    "**Resource:** As you build more models, you'll want to look into using:\n",
    "* TensorBoard - a component of the TensorFlow library to help track modeling experiments(we'll see this one later).\n",
    "\n",
    "\n",
    "* Weights & Biases - a tool for tracking all of kinds of machine learning experiments ( plugs straight into TensorBoard).\n",
    "\n",
    "    \n",
    "    "
   ]
  },
  {
   "cell_type": "markdown",
   "id": "everyday-belle",
   "metadata": {},
   "source": [
    "## Saving our models\n",
    "\n",
    "Saving our models allows us to use then outside of Google Colab(or wherever they were trained) such as in a web application or mobile app.\n",
    "\n",
    "There are two main formats we can save our model's too:\n",
    "1. The SaveModel format\n",
    "\n",
    "2. The HDF5 format\n"
   ]
  },
  {
   "cell_type": "code",
   "execution_count": 166,
   "id": "bridal-recipe",
   "metadata": {},
   "outputs": [
    {
     "name": "stdout",
     "output_type": "stream",
     "text": [
      "INFO:tensorflow:Assets written to: best_model_SaveModel_format\\assets\n"
     ]
    }
   ],
   "source": [
    "# con este formato es mejor para usarlo denuevo de tensor flow\n",
    "# Save model using the SavedModel format\n",
    "model_2.save(\"best_model_SaveModel_format\")"
   ]
  },
  {
   "cell_type": "code",
   "execution_count": 167,
   "id": "guided-separate",
   "metadata": {},
   "outputs": [],
   "source": [
    "# con este formato es mejor para usarlo en aplicaciones externas\n",
    "# Save model using the HDF5 format\n",
    "model_2.save(\"best_model_HDF5_format.h5\")"
   ]
  },
  {
   "cell_type": "markdown",
   "id": "missing-pasta",
   "metadata": {},
   "source": [
    "## Loading a save model"
   ]
  },
  {
   "cell_type": "code",
   "execution_count": 168,
   "id": "leading-delicious",
   "metadata": {},
   "outputs": [
    {
     "name": "stdout",
     "output_type": "stream",
     "text": [
      "Model: \"sequential_16\"\n",
      "_________________________________________________________________\n",
      "Layer (type)                 Output Shape              Param #   \n",
      "=================================================================\n",
      "dense_21 (Dense)             (None, 10)                20        \n",
      "_________________________________________________________________\n",
      "dense_22 (Dense)             (None, 1)                 11        \n",
      "=================================================================\n",
      "Total params: 31\n",
      "Trainable params: 31\n",
      "Non-trainable params: 0\n",
      "_________________________________________________________________\n"
     ]
    }
   ],
   "source": [
    "# Load in the SaveModel format model\n",
    "\n",
    "loaded_SaveModel_format = tf.keras.models.load_model(\"best_model_SaveModel_format\")\n",
    "loaded_SaveModel_format.summary()"
   ]
  },
  {
   "cell_type": "code",
   "execution_count": 169,
   "id": "third-riverside",
   "metadata": {},
   "outputs": [
    {
     "name": "stdout",
     "output_type": "stream",
     "text": [
      "Model: \"sequential_16\"\n",
      "_________________________________________________________________\n",
      "Layer (type)                 Output Shape              Param #   \n",
      "=================================================================\n",
      "dense_21 (Dense)             (None, 10)                20        \n",
      "_________________________________________________________________\n",
      "dense_22 (Dense)             (None, 1)                 11        \n",
      "=================================================================\n",
      "Total params: 31\n",
      "Trainable params: 31\n",
      "Non-trainable params: 0\n",
      "_________________________________________________________________\n"
     ]
    }
   ],
   "source": [
    "model_2.summary()"
   ]
  },
  {
   "cell_type": "code",
   "execution_count": 171,
   "id": "adverse-reducing",
   "metadata": {},
   "outputs": [
    {
     "data": {
      "text/plain": [
       "array([[ True],\n",
       "       [ True],\n",
       "       [ True],\n",
       "       [ True],\n",
       "       [ True],\n",
       "       [ True],\n",
       "       [ True],\n",
       "       [ True],\n",
       "       [ True],\n",
       "       [ True]])"
      ]
     },
     "execution_count": 171,
     "metadata": {},
     "output_type": "execute_result"
    }
   ],
   "source": [
    "# Compare model_2 predictions with SaveModel format model predictions\n",
    "model_2_preds = model_2.predict(X_test)\n",
    "\n",
    "loaded_SaveModel_format_preds = loaded_SaveModel_format.predict(X_test)\n",
    "\n",
    "model_2_preds == loaded_SaveModel_format_preds"
   ]
  },
  {
   "cell_type": "code",
   "execution_count": 172,
   "id": "married-vision",
   "metadata": {},
   "outputs": [
    {
     "data": {
      "text/plain": [
       "(array([[ 70.552185],\n",
       "        [ 75.13991 ],\n",
       "        [ 79.72764 ],\n",
       "        [ 84.315346],\n",
       "        [ 88.90308 ],\n",
       "        [ 93.49081 ],\n",
       "        [ 98.07852 ],\n",
       "        [102.666245],\n",
       "        [107.253975],\n",
       "        [111.84169 ]], dtype=float32),\n",
       " array([[ 70.552185],\n",
       "        [ 75.13991 ],\n",
       "        [ 79.72764 ],\n",
       "        [ 84.315346],\n",
       "        [ 88.90308 ],\n",
       "        [ 93.49081 ],\n",
       "        [ 98.07852 ],\n",
       "        [102.666245],\n",
       "        [107.253975],\n",
       "        [111.84169 ]], dtype=float32))"
      ]
     },
     "execution_count": 172,
     "metadata": {},
     "output_type": "execute_result"
    }
   ],
   "source": [
    "model_2_preds, loaded_SaveModel_format_preds"
   ]
  },
  {
   "cell_type": "code",
   "execution_count": 183,
   "id": "focal-carroll",
   "metadata": {},
   "outputs": [
    {
     "data": {
      "text/plain": [
       "<tf.Tensor: shape=(), dtype=bool, numpy=True>"
      ]
     },
     "execution_count": 183,
     "metadata": {},
     "output_type": "execute_result"
    }
   ],
   "source": [
    "mae(y_true=y_test, y_pred=model_2_preds) == mae(y_true=y_test, y_pred=loaded_SaveModel_format_preds)"
   ]
  },
  {
   "cell_type": "code",
   "execution_count": 185,
   "id": "packed-barcelona",
   "metadata": {},
   "outputs": [
    {
     "name": "stdout",
     "output_type": "stream",
     "text": [
      "Model: \"sequential_16\"\n",
      "_________________________________________________________________\n",
      "Layer (type)                 Output Shape              Param #   \n",
      "=================================================================\n",
      "dense_21 (Dense)             (None, 10)                20        \n",
      "_________________________________________________________________\n",
      "dense_22 (Dense)             (None, 1)                 11        \n",
      "=================================================================\n",
      "Total params: 31\n",
      "Trainable params: 31\n",
      "Non-trainable params: 0\n",
      "_________________________________________________________________\n"
     ]
    }
   ],
   "source": [
    "# Load in a model using the .h5 format\n",
    "loaded_h5_model = tf.keras.models.load_model(\"best_model_HDF5_format.h5\")\n",
    "loaded_h5_model.summary()"
   ]
  },
  {
   "cell_type": "code",
   "execution_count": 186,
   "id": "stainless-grain",
   "metadata": {},
   "outputs": [
    {
     "name": "stdout",
     "output_type": "stream",
     "text": [
      "Model: \"sequential_16\"\n",
      "_________________________________________________________________\n",
      "Layer (type)                 Output Shape              Param #   \n",
      "=================================================================\n",
      "dense_21 (Dense)             (None, 10)                20        \n",
      "_________________________________________________________________\n",
      "dense_22 (Dense)             (None, 1)                 11        \n",
      "=================================================================\n",
      "Total params: 31\n",
      "Trainable params: 31\n",
      "Non-trainable params: 0\n",
      "_________________________________________________________________\n"
     ]
    }
   ],
   "source": [
    "model_2.summary()"
   ]
  },
  {
   "cell_type": "code",
   "execution_count": 189,
   "id": "eastern-elements",
   "metadata": {},
   "outputs": [
    {
     "data": {
      "text/plain": [
       "array([[ True],\n",
       "       [ True],\n",
       "       [ True],\n",
       "       [ True],\n",
       "       [ True],\n",
       "       [ True],\n",
       "       [ True],\n",
       "       [ True],\n",
       "       [ True],\n",
       "       [ True]])"
      ]
     },
     "execution_count": 189,
     "metadata": {},
     "output_type": "execute_result"
    }
   ],
   "source": [
    "# Check to see if loaded .h5 model predictions match model_2\n",
    "\n",
    "model_2_preds = model_2.predict(X_test)\n",
    "loaded_h5_model_preds = loaded_h5_model.predict(X_test)\n",
    "model_2_preds == loaded_h5_model_preds"
   ]
  },
  {
   "cell_type": "markdown",
   "id": "other-baseline",
   "metadata": {},
   "source": [
    "## Download a model( or any other file) from Google Colab\n",
    "\n",
    "If you want to download your files from  Google Colab:\n",
    "1. You can go to the \"files\" tab and right click on the file, you're after and click \"download\".\n",
    "\n",
    "2. Use code( see the cell below).\n",
    "\n",
    "3. Save it to Google Drive by connecting Google Drive and copying it there. ( see 2dn code cell below)."
   ]
  },
  {
   "cell_type": "code",
   "execution_count": 191,
   "id": "promising-puzzle",
   "metadata": {},
   "outputs": [],
   "source": [
    "# Download a file from Google Colab\n",
    "# from google.colab import files\n",
    "# files.download(\"ruta del archivo\")\n"
   ]
  },
  {
   "cell_type": "code",
   "execution_count": 192,
   "id": "threatened-freight",
   "metadata": {},
   "outputs": [],
   "source": [
    "# Save a file from Google Colab to Google Drive (requires mounting Goodle Drive)\n",
    "# ! cp path1 path 2"
   ]
  },
  {
   "cell_type": "markdown",
   "id": "compound-salon",
   "metadata": {},
   "source": [
    "# A larger example"
   ]
  },
  {
   "cell_type": "code",
   "execution_count": 194,
   "id": "dense-controversy",
   "metadata": {},
   "outputs": [
    {
     "data": {
      "text/html": [
       "<div>\n",
       "<style scoped>\n",
       "    .dataframe tbody tr th:only-of-type {\n",
       "        vertical-align: middle;\n",
       "    }\n",
       "\n",
       "    .dataframe tbody tr th {\n",
       "        vertical-align: top;\n",
       "    }\n",
       "\n",
       "    .dataframe thead th {\n",
       "        text-align: right;\n",
       "    }\n",
       "</style>\n",
       "<table border=\"1\" class=\"dataframe\">\n",
       "  <thead>\n",
       "    <tr style=\"text-align: right;\">\n",
       "      <th></th>\n",
       "      <th>age</th>\n",
       "      <th>sex</th>\n",
       "      <th>bmi</th>\n",
       "      <th>children</th>\n",
       "      <th>smoker</th>\n",
       "      <th>region</th>\n",
       "      <th>charges</th>\n",
       "    </tr>\n",
       "  </thead>\n",
       "  <tbody>\n",
       "    <tr>\n",
       "      <th>0</th>\n",
       "      <td>19</td>\n",
       "      <td>female</td>\n",
       "      <td>27.900</td>\n",
       "      <td>0</td>\n",
       "      <td>yes</td>\n",
       "      <td>southwest</td>\n",
       "      <td>16884.92400</td>\n",
       "    </tr>\n",
       "    <tr>\n",
       "      <th>1</th>\n",
       "      <td>18</td>\n",
       "      <td>male</td>\n",
       "      <td>33.770</td>\n",
       "      <td>1</td>\n",
       "      <td>no</td>\n",
       "      <td>southeast</td>\n",
       "      <td>1725.55230</td>\n",
       "    </tr>\n",
       "    <tr>\n",
       "      <th>2</th>\n",
       "      <td>28</td>\n",
       "      <td>male</td>\n",
       "      <td>33.000</td>\n",
       "      <td>3</td>\n",
       "      <td>no</td>\n",
       "      <td>southeast</td>\n",
       "      <td>4449.46200</td>\n",
       "    </tr>\n",
       "    <tr>\n",
       "      <th>3</th>\n",
       "      <td>33</td>\n",
       "      <td>male</td>\n",
       "      <td>22.705</td>\n",
       "      <td>0</td>\n",
       "      <td>no</td>\n",
       "      <td>northwest</td>\n",
       "      <td>21984.47061</td>\n",
       "    </tr>\n",
       "    <tr>\n",
       "      <th>4</th>\n",
       "      <td>32</td>\n",
       "      <td>male</td>\n",
       "      <td>28.880</td>\n",
       "      <td>0</td>\n",
       "      <td>no</td>\n",
       "      <td>northwest</td>\n",
       "      <td>3866.85520</td>\n",
       "    </tr>\n",
       "  </tbody>\n",
       "</table>\n",
       "</div>"
      ],
      "text/plain": [
       "   age     sex     bmi  children smoker     region      charges\n",
       "0   19  female  27.900         0    yes  southwest  16884.92400\n",
       "1   18    male  33.770         1     no  southeast   1725.55230\n",
       "2   28    male  33.000         3     no  southeast   4449.46200\n",
       "3   33    male  22.705         0     no  northwest  21984.47061\n",
       "4   32    male  28.880         0     no  northwest   3866.85520"
      ]
     },
     "execution_count": 194,
     "metadata": {},
     "output_type": "execute_result"
    }
   ],
   "source": [
    "# Read in the insurance dataset, para copiar un data set directo desde kagle usamos pandas, y le pasamos el link de los datos crudos\n",
    "# Import required libraries\n",
    "import pandas as pd\n",
    "import matplotlib.pyplot as plt\n",
    "# Read in the insurance dataset\n",
    "insurance = pd.read_csv(\"https://raw.githubusercontent.com/stedy/Machine-Learning-with-R-datasets/master/insurance.csv\")\n",
    "insurance.head()"
   ]
  },
  {
   "cell_type": "code",
   "execution_count": 196,
   "id": "another-reply",
   "metadata": {},
   "outputs": [
    {
     "data": {
      "text/plain": [
       "(0       female\n",
       " 1         male\n",
       " 2         male\n",
       " 3         male\n",
       " 4         male\n",
       "          ...  \n",
       " 1333      male\n",
       " 1334    female\n",
       " 1335    female\n",
       " 1336    female\n",
       " 1337    female\n",
       " Name: sex, Length: 1338, dtype: object,\n",
       " 0       19\n",
       " 1       18\n",
       " 2       28\n",
       " 3       33\n",
       " 4       32\n",
       "         ..\n",
       " 1333    50\n",
       " 1334    18\n",
       " 1335    18\n",
       " 1336    21\n",
       " 1337    61\n",
       " Name: age, Length: 1338, dtype: int64)"
      ]
     },
     "execution_count": 196,
     "metadata": {},
     "output_type": "execute_result"
    }
   ],
   "source": [
    "#  variables de tipo objeto\n",
    "insurance[\"sex\"], insurance[\"age\"]"
   ]
  },
  {
   "cell_type": "code",
   "execution_count": 198,
   "id": "satisfied-maintenance",
   "metadata": {},
   "outputs": [
    {
     "data": {
      "text/html": [
       "<div>\n",
       "<style scoped>\n",
       "    .dataframe tbody tr th:only-of-type {\n",
       "        vertical-align: middle;\n",
       "    }\n",
       "\n",
       "    .dataframe tbody tr th {\n",
       "        vertical-align: top;\n",
       "    }\n",
       "\n",
       "    .dataframe thead th {\n",
       "        text-align: right;\n",
       "    }\n",
       "</style>\n",
       "<table border=\"1\" class=\"dataframe\">\n",
       "  <thead>\n",
       "    <tr style=\"text-align: right;\">\n",
       "      <th></th>\n",
       "      <th>age</th>\n",
       "      <th>bmi</th>\n",
       "      <th>children</th>\n",
       "      <th>charges</th>\n",
       "      <th>sex_female</th>\n",
       "      <th>sex_male</th>\n",
       "      <th>smoker_no</th>\n",
       "      <th>smoker_yes</th>\n",
       "      <th>region_northeast</th>\n",
       "      <th>region_northwest</th>\n",
       "      <th>region_southeast</th>\n",
       "      <th>region_southwest</th>\n",
       "    </tr>\n",
       "  </thead>\n",
       "  <tbody>\n",
       "    <tr>\n",
       "      <th>0</th>\n",
       "      <td>19</td>\n",
       "      <td>27.900</td>\n",
       "      <td>0</td>\n",
       "      <td>16884.92400</td>\n",
       "      <td>1</td>\n",
       "      <td>0</td>\n",
       "      <td>0</td>\n",
       "      <td>1</td>\n",
       "      <td>0</td>\n",
       "      <td>0</td>\n",
       "      <td>0</td>\n",
       "      <td>1</td>\n",
       "    </tr>\n",
       "    <tr>\n",
       "      <th>1</th>\n",
       "      <td>18</td>\n",
       "      <td>33.770</td>\n",
       "      <td>1</td>\n",
       "      <td>1725.55230</td>\n",
       "      <td>0</td>\n",
       "      <td>1</td>\n",
       "      <td>1</td>\n",
       "      <td>0</td>\n",
       "      <td>0</td>\n",
       "      <td>0</td>\n",
       "      <td>1</td>\n",
       "      <td>0</td>\n",
       "    </tr>\n",
       "    <tr>\n",
       "      <th>2</th>\n",
       "      <td>28</td>\n",
       "      <td>33.000</td>\n",
       "      <td>3</td>\n",
       "      <td>4449.46200</td>\n",
       "      <td>0</td>\n",
       "      <td>1</td>\n",
       "      <td>1</td>\n",
       "      <td>0</td>\n",
       "      <td>0</td>\n",
       "      <td>0</td>\n",
       "      <td>1</td>\n",
       "      <td>0</td>\n",
       "    </tr>\n",
       "    <tr>\n",
       "      <th>3</th>\n",
       "      <td>33</td>\n",
       "      <td>22.705</td>\n",
       "      <td>0</td>\n",
       "      <td>21984.47061</td>\n",
       "      <td>0</td>\n",
       "      <td>1</td>\n",
       "      <td>1</td>\n",
       "      <td>0</td>\n",
       "      <td>0</td>\n",
       "      <td>1</td>\n",
       "      <td>0</td>\n",
       "      <td>0</td>\n",
       "    </tr>\n",
       "    <tr>\n",
       "      <th>4</th>\n",
       "      <td>32</td>\n",
       "      <td>28.880</td>\n",
       "      <td>0</td>\n",
       "      <td>3866.85520</td>\n",
       "      <td>0</td>\n",
       "      <td>1</td>\n",
       "      <td>1</td>\n",
       "      <td>0</td>\n",
       "      <td>0</td>\n",
       "      <td>1</td>\n",
       "      <td>0</td>\n",
       "      <td>0</td>\n",
       "    </tr>\n",
       "  </tbody>\n",
       "</table>\n",
       "</div>"
      ],
      "text/plain": [
       "   age     bmi  children      charges  sex_female  sex_male  smoker_no  \\\n",
       "0   19  27.900         0  16884.92400           1         0          0   \n",
       "1   18  33.770         1   1725.55230           0         1          1   \n",
       "2   28  33.000         3   4449.46200           0         1          1   \n",
       "3   33  22.705         0  21984.47061           0         1          1   \n",
       "4   32  28.880         0   3866.85520           0         1          1   \n",
       "\n",
       "   smoker_yes  region_northeast  region_northwest  region_southeast  \\\n",
       "0           1                 0                 0                 0   \n",
       "1           0                 0                 0                 1   \n",
       "2           0                 0                 0                 1   \n",
       "3           0                 0                 1                 0   \n",
       "4           0                 0                 1                 0   \n",
       "\n",
       "   region_southwest  \n",
       "0                 1  \n",
       "1                 0  \n",
       "2                 0  \n",
       "3                 0  \n",
       "4                 0  "
      ]
     },
     "execution_count": 198,
     "metadata": {},
     "output_type": "execute_result"
    }
   ],
   "source": [
    "# tenemos variables numericas y categoricas, para trabajar debemos transformar las categorias numeros, uno de los metodos es el one hot encoder\n",
    "# Let'w try one-hot enconde our DataFrame so it's all numbers\n",
    "insurance_one_hot = pd.get_dummies(insurance)\n",
    "insurance_one_hot.head()"
   ]
  },
  {
   "cell_type": "code",
   "execution_count": 199,
   "id": "polyphonic-credit",
   "metadata": {},
   "outputs": [
    {
     "data": {
      "text/html": [
       "<div>\n",
       "<style scoped>\n",
       "    .dataframe tbody tr th:only-of-type {\n",
       "        vertical-align: middle;\n",
       "    }\n",
       "\n",
       "    .dataframe tbody tr th {\n",
       "        vertical-align: top;\n",
       "    }\n",
       "\n",
       "    .dataframe thead th {\n",
       "        text-align: right;\n",
       "    }\n",
       "</style>\n",
       "<table border=\"1\" class=\"dataframe\">\n",
       "  <thead>\n",
       "    <tr style=\"text-align: right;\">\n",
       "      <th></th>\n",
       "      <th>age</th>\n",
       "      <th>bmi</th>\n",
       "      <th>children</th>\n",
       "      <th>sex_female</th>\n",
       "      <th>sex_male</th>\n",
       "      <th>smoker_no</th>\n",
       "      <th>smoker_yes</th>\n",
       "      <th>region_northeast</th>\n",
       "      <th>region_northwest</th>\n",
       "      <th>region_southeast</th>\n",
       "      <th>region_southwest</th>\n",
       "    </tr>\n",
       "  </thead>\n",
       "  <tbody>\n",
       "    <tr>\n",
       "      <th>0</th>\n",
       "      <td>19</td>\n",
       "      <td>27.900</td>\n",
       "      <td>0</td>\n",
       "      <td>1</td>\n",
       "      <td>0</td>\n",
       "      <td>0</td>\n",
       "      <td>1</td>\n",
       "      <td>0</td>\n",
       "      <td>0</td>\n",
       "      <td>0</td>\n",
       "      <td>1</td>\n",
       "    </tr>\n",
       "    <tr>\n",
       "      <th>1</th>\n",
       "      <td>18</td>\n",
       "      <td>33.770</td>\n",
       "      <td>1</td>\n",
       "      <td>0</td>\n",
       "      <td>1</td>\n",
       "      <td>1</td>\n",
       "      <td>0</td>\n",
       "      <td>0</td>\n",
       "      <td>0</td>\n",
       "      <td>1</td>\n",
       "      <td>0</td>\n",
       "    </tr>\n",
       "    <tr>\n",
       "      <th>2</th>\n",
       "      <td>28</td>\n",
       "      <td>33.000</td>\n",
       "      <td>3</td>\n",
       "      <td>0</td>\n",
       "      <td>1</td>\n",
       "      <td>1</td>\n",
       "      <td>0</td>\n",
       "      <td>0</td>\n",
       "      <td>0</td>\n",
       "      <td>1</td>\n",
       "      <td>0</td>\n",
       "    </tr>\n",
       "    <tr>\n",
       "      <th>3</th>\n",
       "      <td>33</td>\n",
       "      <td>22.705</td>\n",
       "      <td>0</td>\n",
       "      <td>0</td>\n",
       "      <td>1</td>\n",
       "      <td>1</td>\n",
       "      <td>0</td>\n",
       "      <td>0</td>\n",
       "      <td>1</td>\n",
       "      <td>0</td>\n",
       "      <td>0</td>\n",
       "    </tr>\n",
       "    <tr>\n",
       "      <th>4</th>\n",
       "      <td>32</td>\n",
       "      <td>28.880</td>\n",
       "      <td>0</td>\n",
       "      <td>0</td>\n",
       "      <td>1</td>\n",
       "      <td>1</td>\n",
       "      <td>0</td>\n",
       "      <td>0</td>\n",
       "      <td>1</td>\n",
       "      <td>0</td>\n",
       "      <td>0</td>\n",
       "    </tr>\n",
       "  </tbody>\n",
       "</table>\n",
       "</div>"
      ],
      "text/plain": [
       "   age     bmi  children  sex_female  sex_male  smoker_no  smoker_yes  \\\n",
       "0   19  27.900         0           1         0          0           1   \n",
       "1   18  33.770         1           0         1          1           0   \n",
       "2   28  33.000         3           0         1          1           0   \n",
       "3   33  22.705         0           0         1          1           0   \n",
       "4   32  28.880         0           0         1          1           0   \n",
       "\n",
       "   region_northeast  region_northwest  region_southeast  region_southwest  \n",
       "0                 0                 0                 0                 1  \n",
       "1                 0                 0                 1                 0  \n",
       "2                 0                 0                 1                 0  \n",
       "3                 0                 1                 0                 0  \n",
       "4                 0                 1                 0                 0  "
      ]
     },
     "execution_count": 199,
     "metadata": {},
     "output_type": "execute_result"
    }
   ],
   "source": [
    "# Create X & y values (features and labels)\n",
    "X = insurance_one_hot.drop(\"charges\", axis = 1)\n",
    "y = insurance_one_hot[\"charges\"]\n",
    "# View X\n",
    "X.head()"
   ]
  },
  {
   "cell_type": "code",
   "execution_count": 200,
   "id": "treated-disabled",
   "metadata": {},
   "outputs": [
    {
     "data": {
      "text/plain": [
       "0    16884.92400\n",
       "1     1725.55230\n",
       "2     4449.46200\n",
       "3    21984.47061\n",
       "4     3866.85520\n",
       "Name: charges, dtype: float64"
      ]
     },
     "execution_count": 200,
     "metadata": {},
     "output_type": "execute_result"
    }
   ],
   "source": [
    "# View y\n",
    "y.head()"
   ]
  },
  {
   "cell_type": "code",
   "execution_count": 202,
   "id": "changing-blend",
   "metadata": {},
   "outputs": [
    {
     "data": {
      "text/plain": [
       "(1338, 1070, 268)"
      ]
     },
     "execution_count": 202,
     "metadata": {},
     "output_type": "execute_result"
    }
   ],
   "source": [
    "# Create training and test sets\n",
    "from sklearn.model_selection import train_test_split\n",
    "X_train, X_test, y_train, y_test =  train_test_split(X,\n",
    "                                                     y,\n",
    "                                                     test_size=0.2,\n",
    "                                                     random_state = 42)\n",
    "len(X), len(X_train), len(X_test)`"
   ]
  },
  {
   "cell_type": "code",
   "execution_count": 203,
   "id": "missing-multimedia",
   "metadata": {},
   "outputs": [
    {
     "data": {
      "text/html": [
       "<div>\n",
       "<style scoped>\n",
       "    .dataframe tbody tr th:only-of-type {\n",
       "        vertical-align: middle;\n",
       "    }\n",
       "\n",
       "    .dataframe tbody tr th {\n",
       "        vertical-align: top;\n",
       "    }\n",
       "\n",
       "    .dataframe thead th {\n",
       "        text-align: right;\n",
       "    }\n",
       "</style>\n",
       "<table border=\"1\" class=\"dataframe\">\n",
       "  <thead>\n",
       "    <tr style=\"text-align: right;\">\n",
       "      <th></th>\n",
       "      <th>age</th>\n",
       "      <th>bmi</th>\n",
       "      <th>children</th>\n",
       "      <th>sex_female</th>\n",
       "      <th>sex_male</th>\n",
       "      <th>smoker_no</th>\n",
       "      <th>smoker_yes</th>\n",
       "      <th>region_northeast</th>\n",
       "      <th>region_northwest</th>\n",
       "      <th>region_southeast</th>\n",
       "      <th>region_southwest</th>\n",
       "    </tr>\n",
       "  </thead>\n",
       "  <tbody>\n",
       "    <tr>\n",
       "      <th>560</th>\n",
       "      <td>46</td>\n",
       "      <td>19.950</td>\n",
       "      <td>2</td>\n",
       "      <td>1</td>\n",
       "      <td>0</td>\n",
       "      <td>1</td>\n",
       "      <td>0</td>\n",
       "      <td>0</td>\n",
       "      <td>1</td>\n",
       "      <td>0</td>\n",
       "      <td>0</td>\n",
       "    </tr>\n",
       "    <tr>\n",
       "      <th>1285</th>\n",
       "      <td>47</td>\n",
       "      <td>24.320</td>\n",
       "      <td>0</td>\n",
       "      <td>1</td>\n",
       "      <td>0</td>\n",
       "      <td>1</td>\n",
       "      <td>0</td>\n",
       "      <td>1</td>\n",
       "      <td>0</td>\n",
       "      <td>0</td>\n",
       "      <td>0</td>\n",
       "    </tr>\n",
       "    <tr>\n",
       "      <th>1142</th>\n",
       "      <td>52</td>\n",
       "      <td>24.860</td>\n",
       "      <td>0</td>\n",
       "      <td>1</td>\n",
       "      <td>0</td>\n",
       "      <td>1</td>\n",
       "      <td>0</td>\n",
       "      <td>0</td>\n",
       "      <td>0</td>\n",
       "      <td>1</td>\n",
       "      <td>0</td>\n",
       "    </tr>\n",
       "    <tr>\n",
       "      <th>969</th>\n",
       "      <td>39</td>\n",
       "      <td>34.320</td>\n",
       "      <td>5</td>\n",
       "      <td>1</td>\n",
       "      <td>0</td>\n",
       "      <td>1</td>\n",
       "      <td>0</td>\n",
       "      <td>0</td>\n",
       "      <td>0</td>\n",
       "      <td>1</td>\n",
       "      <td>0</td>\n",
       "    </tr>\n",
       "    <tr>\n",
       "      <th>486</th>\n",
       "      <td>54</td>\n",
       "      <td>21.470</td>\n",
       "      <td>3</td>\n",
       "      <td>1</td>\n",
       "      <td>0</td>\n",
       "      <td>1</td>\n",
       "      <td>0</td>\n",
       "      <td>0</td>\n",
       "      <td>1</td>\n",
       "      <td>0</td>\n",
       "      <td>0</td>\n",
       "    </tr>\n",
       "    <tr>\n",
       "      <th>...</th>\n",
       "      <td>...</td>\n",
       "      <td>...</td>\n",
       "      <td>...</td>\n",
       "      <td>...</td>\n",
       "      <td>...</td>\n",
       "      <td>...</td>\n",
       "      <td>...</td>\n",
       "      <td>...</td>\n",
       "      <td>...</td>\n",
       "      <td>...</td>\n",
       "      <td>...</td>\n",
       "    </tr>\n",
       "    <tr>\n",
       "      <th>1095</th>\n",
       "      <td>18</td>\n",
       "      <td>31.350</td>\n",
       "      <td>4</td>\n",
       "      <td>1</td>\n",
       "      <td>0</td>\n",
       "      <td>1</td>\n",
       "      <td>0</td>\n",
       "      <td>1</td>\n",
       "      <td>0</td>\n",
       "      <td>0</td>\n",
       "      <td>0</td>\n",
       "    </tr>\n",
       "    <tr>\n",
       "      <th>1130</th>\n",
       "      <td>39</td>\n",
       "      <td>23.870</td>\n",
       "      <td>5</td>\n",
       "      <td>1</td>\n",
       "      <td>0</td>\n",
       "      <td>1</td>\n",
       "      <td>0</td>\n",
       "      <td>0</td>\n",
       "      <td>0</td>\n",
       "      <td>1</td>\n",
       "      <td>0</td>\n",
       "    </tr>\n",
       "    <tr>\n",
       "      <th>1294</th>\n",
       "      <td>58</td>\n",
       "      <td>25.175</td>\n",
       "      <td>0</td>\n",
       "      <td>0</td>\n",
       "      <td>1</td>\n",
       "      <td>1</td>\n",
       "      <td>0</td>\n",
       "      <td>1</td>\n",
       "      <td>0</td>\n",
       "      <td>0</td>\n",
       "      <td>0</td>\n",
       "    </tr>\n",
       "    <tr>\n",
       "      <th>860</th>\n",
       "      <td>37</td>\n",
       "      <td>47.600</td>\n",
       "      <td>2</td>\n",
       "      <td>1</td>\n",
       "      <td>0</td>\n",
       "      <td>0</td>\n",
       "      <td>1</td>\n",
       "      <td>0</td>\n",
       "      <td>0</td>\n",
       "      <td>0</td>\n",
       "      <td>1</td>\n",
       "    </tr>\n",
       "    <tr>\n",
       "      <th>1126</th>\n",
       "      <td>55</td>\n",
       "      <td>29.900</td>\n",
       "      <td>0</td>\n",
       "      <td>0</td>\n",
       "      <td>1</td>\n",
       "      <td>1</td>\n",
       "      <td>0</td>\n",
       "      <td>0</td>\n",
       "      <td>0</td>\n",
       "      <td>0</td>\n",
       "      <td>1</td>\n",
       "    </tr>\n",
       "  </tbody>\n",
       "</table>\n",
       "<p>1070 rows × 11 columns</p>\n",
       "</div>"
      ],
      "text/plain": [
       "      age     bmi  children  sex_female  sex_male  smoker_no  smoker_yes  \\\n",
       "560    46  19.950         2           1         0          1           0   \n",
       "1285   47  24.320         0           1         0          1           0   \n",
       "1142   52  24.860         0           1         0          1           0   \n",
       "969    39  34.320         5           1         0          1           0   \n",
       "486    54  21.470         3           1         0          1           0   \n",
       "...   ...     ...       ...         ...       ...        ...         ...   \n",
       "1095   18  31.350         4           1         0          1           0   \n",
       "1130   39  23.870         5           1         0          1           0   \n",
       "1294   58  25.175         0           0         1          1           0   \n",
       "860    37  47.600         2           1         0          0           1   \n",
       "1126   55  29.900         0           0         1          1           0   \n",
       "\n",
       "      region_northeast  region_northwest  region_southeast  region_southwest  \n",
       "560                  0                 1                 0                 0  \n",
       "1285                 1                 0                 0                 0  \n",
       "1142                 0                 0                 1                 0  \n",
       "969                  0                 0                 1                 0  \n",
       "486                  0                 1                 0                 0  \n",
       "...                ...               ...               ...               ...  \n",
       "1095                 1                 0                 0                 0  \n",
       "1130                 0                 0                 1                 0  \n",
       "1294                 1                 0                 0                 0  \n",
       "860                  0                 0                 0                 1  \n",
       "1126                 0                 0                 0                 1  \n",
       "\n",
       "[1070 rows x 11 columns]"
      ]
     },
     "execution_count": 203,
     "metadata": {},
     "output_type": "execute_result"
    }
   ],
   "source": [
    "X_train"
   ]
  },
  {
   "cell_type": "code",
   "execution_count": 204,
   "id": "mobile-papua",
   "metadata": {},
   "outputs": [
    {
     "name": "stdout",
     "output_type": "stream",
     "text": [
      "Model: \"sequential_16\"\n",
      "_________________________________________________________________\n",
      "Layer (type)                 Output Shape              Param #   \n",
      "=================================================================\n",
      "dense_21 (Dense)             (None, 10)                20        \n",
      "_________________________________________________________________\n",
      "dense_22 (Dense)             (None, 1)                 11        \n",
      "=================================================================\n",
      "Total params: 31\n",
      "Trainable params: 31\n",
      "Non-trainable params: 0\n",
      "_________________________________________________________________\n"
     ]
    }
   ],
   "source": [
    "model_2.summary()"
   ]
  },
  {
   "cell_type": "code",
   "execution_count": 205,
   "id": "distinct-neighbor",
   "metadata": {},
   "outputs": [
    {
     "name": "stdout",
     "output_type": "stream",
     "text": [
      "Epoch 1/100\n",
      "34/34 [==============================] - 1s 1ms/step - loss: 10200.7270 - mae: 10200.7270\n",
      "Epoch 2/100\n",
      "34/34 [==============================] - 0s 1ms/step - loss: 7718.1923 - mae: 7718.1923\n",
      "Epoch 3/100\n",
      "34/34 [==============================] - 0s 2ms/step - loss: 6983.7824 - mae: 6983.7824\n",
      "Epoch 4/100\n",
      "34/34 [==============================] - 0s 2ms/step - loss: 8083.4828 - mae: 8083.4828\n",
      "Epoch 5/100\n",
      "34/34 [==============================] - 0s 2ms/step - loss: 7793.8447 - mae: 7793.8447\n",
      "Epoch 6/100\n",
      "34/34 [==============================] - 0s 2ms/step - loss: 7618.4111 - mae: 7618.4111\n",
      "Epoch 7/100\n",
      "34/34 [==============================] - 0s 1ms/step - loss: 7678.4979 - mae: 7678.4979\n",
      "Epoch 8/100\n",
      "34/34 [==============================] - 0s 1ms/step - loss: 7780.4291 - mae: 7780.4291\n",
      "Epoch 9/100\n",
      "34/34 [==============================] - 0s 1ms/step - loss: 7588.8135 - mae: 7588.8135\n",
      "Epoch 10/100\n",
      "34/34 [==============================] - 0s 1ms/step - loss: 7520.6832 - mae: 7520.6832\n",
      "Epoch 11/100\n",
      "34/34 [==============================] - 0s 1ms/step - loss: 8309.7824 - mae: 8309.7824\n",
      "Epoch 12/100\n",
      "34/34 [==============================] - 0s 1ms/step - loss: 7748.0182 - mae: 7748.0182\n",
      "Epoch 13/100\n",
      "34/34 [==============================] - 0s 1ms/step - loss: 7888.3562 - mae: 7888.3562\n",
      "Epoch 14/100\n",
      "34/34 [==============================] - 0s 1ms/step - loss: 7731.1158 - mae: 7731.1158\n",
      "Epoch 15/100\n",
      "34/34 [==============================] - 0s 1ms/step - loss: 7786.1042 - mae: 7786.1042\n",
      "Epoch 16/100\n",
      "34/34 [==============================] - 0s 1ms/step - loss: 8343.8845 - mae: 8343.8845\n",
      "Epoch 17/100\n",
      "34/34 [==============================] - 0s 1ms/step - loss: 7142.3599 - mae: 7142.3599\n",
      "Epoch 18/100\n",
      "34/34 [==============================] - 0s 1ms/step - loss: 8070.0501 - mae: 8070.0501\n",
      "Epoch 19/100\n",
      "34/34 [==============================] - 0s 2ms/step - loss: 7604.8292 - mae: 7604.8292\n",
      "Epoch 20/100\n",
      "34/34 [==============================] - 0s 1ms/step - loss: 7945.1254 - mae: 7945.1254\n",
      "Epoch 21/100\n",
      "34/34 [==============================] - 0s 1ms/step - loss: 6864.6818 - mae: 6864.6818\n",
      "Epoch 22/100\n",
      "34/34 [==============================] - 0s 3ms/step - loss: 7505.7894 - mae: 7505.7894\n",
      "Epoch 23/100\n",
      "34/34 [==============================] - 0s 2ms/step - loss: 7621.7374 - mae: 7621.7374\n",
      "Epoch 24/100\n",
      "34/34 [==============================] - 0s 2ms/step - loss: 7262.7532 - mae: 7262.7532\n",
      "Epoch 25/100\n",
      "34/34 [==============================] - 0s 2ms/step - loss: 8156.1931 - mae: 8156.1931\n",
      "Epoch 26/100\n",
      "34/34 [==============================] - 0s 2ms/step - loss: 7246.2695 - mae: 7246.2695\n",
      "Epoch 27/100\n",
      "34/34 [==============================] - 0s 2ms/step - loss: 7562.7807 - mae: 7562.7807\n",
      "Epoch 28/100\n",
      "34/34 [==============================] - 0s 2ms/step - loss: 7842.6205 - mae: 7842.6205\n",
      "Epoch 29/100\n",
      "34/34 [==============================] - 0s 2ms/step - loss: 7153.8757 - mae: 7153.8757\n",
      "Epoch 30/100\n",
      "34/34 [==============================] - 0s 2ms/step - loss: 7723.4951 - mae: 7723.4951\n",
      "Epoch 31/100\n",
      "34/34 [==============================] - 0s 2ms/step - loss: 8310.0625 - mae: 8310.0625\n",
      "Epoch 32/100\n",
      "34/34 [==============================] - 0s 2ms/step - loss: 7734.9646 - mae: 7734.9646\n",
      "Epoch 33/100\n",
      "34/34 [==============================] - 0s 1ms/step - loss: 7403.4639 - mae: 7403.4639\n",
      "Epoch 34/100\n",
      "34/34 [==============================] - 0s 1ms/step - loss: 7482.6278 - mae: 7482.6278\n",
      "Epoch 35/100\n",
      "34/34 [==============================] - 0s 1ms/step - loss: 7198.8918 - mae: 7198.8918\n",
      "Epoch 36/100\n",
      "34/34 [==============================] - 0s 1ms/step - loss: 7484.1014 - mae: 7484.1014\n",
      "Epoch 37/100\n",
      "34/34 [==============================] - 0s 1ms/step - loss: 7701.6285 - mae: 7701.6285\n",
      "Epoch 38/100\n",
      "34/34 [==============================] - 0s 1ms/step - loss: 6923.6144 - mae: 6923.6144\n",
      "Epoch 39/100\n",
      "34/34 [==============================] - 0s 1ms/step - loss: 7673.7912 - mae: 7673.7912\n",
      "Epoch 40/100\n",
      "34/34 [==============================] - 0s 1ms/step - loss: 7670.9195 - mae: 7670.9195\n",
      "Epoch 41/100\n",
      "34/34 [==============================] - 0s 1ms/step - loss: 7774.5870 - mae: 7774.5870\n",
      "Epoch 42/100\n",
      "34/34 [==============================] - 0s 1ms/step - loss: 7413.0885 - mae: 7413.0885\n",
      "Epoch 43/100\n",
      "34/34 [==============================] - 0s 1ms/step - loss: 7793.8659 - mae: 7793.8659\n",
      "Epoch 44/100\n",
      "34/34 [==============================] - 0s 1ms/step - loss: 7239.3576 - mae: 7239.3576\n",
      "Epoch 45/100\n",
      "34/34 [==============================] - 0s 2ms/step - loss: 7402.6549 - mae: 7402.6549\n",
      "Epoch 46/100\n",
      "34/34 [==============================] - 0s 1ms/step - loss: 7167.7277 - mae: 7167.7277\n",
      "Epoch 47/100\n",
      "34/34 [==============================] - 0s 1ms/step - loss: 7716.9021 - mae: 7716.9021\n",
      "Epoch 48/100\n",
      "34/34 [==============================] - 0s 1ms/step - loss: 7509.9130 - mae: 7509.9130\n",
      "Epoch 49/100\n",
      "34/34 [==============================] - 0s 1ms/step - loss: 7216.6760 - mae: 7216.6760\n",
      "Epoch 50/100\n",
      "34/34 [==============================] - 0s 1ms/step - loss: 7354.2577 - mae: 7354.2577\n",
      "Epoch 51/100\n",
      "34/34 [==============================] - 0s 1ms/step - loss: 7587.3341 - mae: 7587.3341\n",
      "Epoch 52/100\n",
      "34/34 [==============================] - 0s 1ms/step - loss: 7697.7619 - mae: 7697.7619\n",
      "Epoch 53/100\n",
      "34/34 [==============================] - 0s 1ms/step - loss: 7084.7630 - mae: 7084.7630\n",
      "Epoch 54/100\n",
      "34/34 [==============================] - 0s 1ms/step - loss: 7366.1158 - mae: 7366.1158\n",
      "Epoch 55/100\n",
      "34/34 [==============================] - 0s 1ms/step - loss: 7354.5013 - mae: 7354.5013\n",
      "Epoch 56/100\n",
      "34/34 [==============================] - 0s 1ms/step - loss: 7201.4711 - mae: 7201.4711\n",
      "Epoch 57/100\n",
      "34/34 [==============================] - 0s 1ms/step - loss: 7612.1704 - mae: 7612.1704\n",
      "Epoch 58/100\n",
      "34/34 [==============================] - 0s 1ms/step - loss: 7684.3347 - mae: 7684.3347\n",
      "Epoch 59/100\n",
      "34/34 [==============================] - 0s 1ms/step - loss: 7315.3644 - mae: 7315.3644\n",
      "Epoch 60/100\n",
      "34/34 [==============================] - 0s 1ms/step - loss: 7381.6659 - mae: 7381.6659\n",
      "Epoch 61/100\n",
      "34/34 [==============================] - 0s 1ms/step - loss: 7842.5236 - mae: 7842.5236\n",
      "Epoch 62/100\n",
      "34/34 [==============================] - 0s 1ms/step - loss: 7346.2639 - mae: 7346.2639\n",
      "Epoch 63/100\n",
      "34/34 [==============================] - 0s 1ms/step - loss: 7634.5369 - mae: 7634.5369\n",
      "Epoch 64/100\n",
      "34/34 [==============================] - 0s 1ms/step - loss: 6976.2133 - mae: 6976.2133\n",
      "Epoch 65/100\n",
      "34/34 [==============================] - 0s 1ms/step - loss: 7608.7967 - mae: 7608.7967\n",
      "Epoch 66/100\n",
      "34/34 [==============================] - 0s 1ms/step - loss: 7275.7895 - mae: 7275.7895\n",
      "Epoch 67/100\n",
      "34/34 [==============================] - 0s 1ms/step - loss: 7244.1641 - mae: 7244.1641\n",
      "Epoch 68/100\n",
      "34/34 [==============================] - 0s 1ms/step - loss: 7553.0942 - mae: 7553.0942\n",
      "Epoch 69/100\n",
      "34/34 [==============================] - 0s 1ms/step - loss: 8028.1952 - mae: 8028.1952\n",
      "Epoch 70/100\n",
      "34/34 [==============================] - 0s 1ms/step - loss: 7150.7140 - mae: 7150.7140\n",
      "Epoch 71/100\n",
      "34/34 [==============================] - 0s 1ms/step - loss: 7137.5193 - mae: 7137.5193\n",
      "Epoch 72/100\n",
      "34/34 [==============================] - 0s 1ms/step - loss: 6708.9291 - mae: 6708.9291\n",
      "Epoch 73/100\n",
      "34/34 [==============================] - ETA: 0s - loss: 7991.2656 - mae: 7991.265 - 0s 1ms/step - loss: 7554.2733 - mae: 7554.2733\n",
      "Epoch 74/100\n",
      "34/34 [==============================] - 0s 1ms/step - loss: 7060.4074 - mae: 7060.4074\n",
      "Epoch 75/100\n",
      "34/34 [==============================] - 0s 1ms/step - loss: 7564.8155 - mae: 7564.8155\n",
      "Epoch 76/100\n",
      "34/34 [==============================] - 0s 1ms/step - loss: 7016.7826 - mae: 7016.7826\n",
      "Epoch 77/100\n",
      "34/34 [==============================] - 0s 1ms/step - loss: 7936.9761 - mae: 7936.9761\n",
      "Epoch 78/100\n",
      "34/34 [==============================] - 0s 1ms/step - loss: 6828.1384 - mae: 6828.1384\n",
      "Epoch 79/100\n",
      "34/34 [==============================] - 0s 1ms/step - loss: 6875.0792 - mae: 6875.0792\n",
      "Epoch 80/100\n",
      "34/34 [==============================] - 0s 1ms/step - loss: 6770.6308 - mae: 6770.6308\n",
      "Epoch 81/100\n"
     ]
    },
    {
     "name": "stdout",
     "output_type": "stream",
     "text": [
      "34/34 [==============================] - 0s 1ms/step - loss: 7216.2091 - mae: 7216.2091\n",
      "Epoch 82/100\n",
      "34/34 [==============================] - 0s 1ms/step - loss: 7774.2741 - mae: 7774.2741\n",
      "Epoch 83/100\n",
      "34/34 [==============================] - 0s 1ms/step - loss: 7156.2556 - mae: 7156.2556\n",
      "Epoch 84/100\n",
      "34/34 [==============================] - 0s 1ms/step - loss: 7436.0033 - mae: 7436.0033\n",
      "Epoch 85/100\n",
      "34/34 [==============================] - 0s 2ms/step - loss: 6855.7935 - mae: 6855.7935\n",
      "Epoch 86/100\n",
      "34/34 [==============================] - 0s 2ms/step - loss: 7768.8278 - mae: 7768.8278\n",
      "Epoch 87/100\n",
      "34/34 [==============================] - 0s 2ms/step - loss: 7014.5799 - mae: 7014.5799\n",
      "Epoch 88/100\n",
      "34/34 [==============================] - 0s 1ms/step - loss: 7525.7777 - mae: 7525.7777\n",
      "Epoch 89/100\n",
      "34/34 [==============================] - 0s 2ms/step - loss: 6994.6073 - mae: 6994.6073\n",
      "Epoch 90/100\n",
      "34/34 [==============================] - 0s 1ms/step - loss: 7677.9606 - mae: 7677.9606\n",
      "Epoch 91/100\n",
      "34/34 [==============================] - 0s 1ms/step - loss: 7210.0505 - mae: 7210.0505\n",
      "Epoch 92/100\n",
      "34/34 [==============================] - 0s 1ms/step - loss: 7335.2230 - mae: 7335.2230\n",
      "Epoch 93/100\n",
      "34/34 [==============================] - 0s 1ms/step - loss: 7235.0912 - mae: 7235.0912\n",
      "Epoch 94/100\n",
      "34/34 [==============================] - 0s 1ms/step - loss: 6728.8877 - mae: 6728.8877\n",
      "Epoch 95/100\n",
      "34/34 [==============================] - 0s 1ms/step - loss: 7811.5173 - mae: 7811.5173\n",
      "Epoch 96/100\n",
      "34/34 [==============================] - 0s 1ms/step - loss: 7430.2760 - mae: 7430.2760\n",
      "Epoch 97/100\n",
      "34/34 [==============================] - 0s 1ms/step - loss: 6876.5969 - mae: 6876.5969\n",
      "Epoch 98/100\n",
      "34/34 [==============================] - 0s 1ms/step - loss: 7070.8704 - mae: 7070.8704\n",
      "Epoch 99/100\n",
      "34/34 [==============================] - 0s 1ms/step - loss: 7118.6878 - mae: 7118.6878\n",
      "Epoch 100/100\n",
      "34/34 [==============================] - 0s 1ms/step - loss: 6880.6743 - mae: 6880.6743\n"
     ]
    },
    {
     "data": {
      "text/plain": [
       "<tensorflow.python.keras.callbacks.History at 0x2aba1b71be0>"
      ]
     },
     "execution_count": 205,
     "metadata": {},
     "output_type": "execute_result"
    }
   ],
   "source": [
    "# Build a neural network (sort of like model_2_above)\n",
    "tf.random.set_seed(42)\n",
    "# 1. Create a model\n",
    "insurance_model = tf.keras.Sequential([\n",
    "    \n",
    "    tf.keras.layers.Dense(10),\n",
    "    tf.keras.layers.Dense(1)\n",
    "])\n",
    "\n",
    "# 2. Compile the model\n",
    "\n",
    "insurance_model.compile(loss=tf.keras.losses.mae,\n",
    "                        optimizer=tf.keras.optimizers.SGD(),\n",
    "                        metrics = [\"mae\"])\n",
    "\n",
    "# 3. Fit the model\n",
    "insurance_model.fit(X_train, y_train, epochs =100)"
   ]
  },
  {
   "cell_type": "code",
   "execution_count": 207,
   "id": "sweet-attitude",
   "metadata": {},
   "outputs": [
    {
     "name": "stdout",
     "output_type": "stream",
     "text": [
      "9/9 [==============================] - 0s 1ms/step - loss: 7023.3286 - mae: 7023.3286\n"
     ]
    },
    {
     "data": {
      "text/plain": [
       "[7023.32861328125, 7023.32861328125]"
      ]
     },
     "execution_count": 207,
     "metadata": {},
     "output_type": "execute_result"
    }
   ],
   "source": [
    "# Check the result of the insurance model on the test data\n",
    "insurance_model.evaluate(X_test,y_test)"
   ]
  },
  {
   "cell_type": "code",
   "execution_count": 210,
   "id": "general-california",
   "metadata": {},
   "outputs": [
    {
     "data": {
      "text/plain": [
       "(9575.4421, 13346.089736364485)"
      ]
     },
     "execution_count": 210,
     "metadata": {},
     "output_type": "execute_result"
    }
   ],
   "source": [
    "y_train.median(), y_train.mean()"
   ]
  },
  {
   "cell_type": "markdown",
   "id": "attractive-guess",
   "metadata": {},
   "source": [
    "Right now it looks like our model isn't performing too well let's try and improve it !\n",
    "\n",
    "To (try) improve our model, we'll run 2 experments:\n",
    "1. Add an extra layer with more hidden units and use Adeam optimizer\n",
    "2. Same as above but train for longer(200 epochs)\n",
    "3. ( insert your own experiment here)"
   ]
  },
  {
   "cell_type": "code",
   "execution_count": 213,
   "id": "level-roberts",
   "metadata": {},
   "outputs": [
    {
     "data": {
      "text/plain": [
       "<tensorflow.python.keras.callbacks.History at 0x2aba52b7cc0>"
      ]
     },
     "execution_count": 213,
     "metadata": {},
     "output_type": "execute_result"
    }
   ],
   "source": [
    "# Set random seed\n",
    "\n",
    "tf.random.set_seed(42)\n",
    "\n",
    "# 1. Create the model\n",
    "\n",
    "insurance_model_2 = tf.keras.Sequential([\n",
    "    \n",
    "    tf.keras.layers.Dense(100),\n",
    "    tf.keras.layers.Dense(10),\n",
    "    tf.keras.layers.Dense(1)\n",
    "])\n",
    "\n",
    "\n",
    "# 2. Compile the model\n",
    "insurance_model_2.compile(loss=tf.keras.losses.mae,\n",
    "                          optimizer=tf.keras.optimizers.SGD(),\n",
    "                          metrics =[\"mae\"])\n",
    "# 3.Fit the model\n",
    "insurance_model_2.fit(X_train, y_train, epochs = 100, verbose = 0)"
   ]
  },
  {
   "cell_type": "code",
   "execution_count": 214,
   "id": "parallel-compilation",
   "metadata": {},
   "outputs": [
    {
     "name": "stdout",
     "output_type": "stream",
     "text": [
      "9/9 [==============================] - 0s 1ms/step - loss: nan - mae: nan\n"
     ]
    },
    {
     "data": {
      "text/plain": [
       "[nan, nan]"
      ]
     },
     "execution_count": 214,
     "metadata": {},
     "output_type": "execute_result"
    }
   ],
   "source": [
    "# Evaluate the larger model\n",
    "\n",
    "insurance_model_2.evaluate(X_test, y_test)\n",
    "\n"
   ]
  },
  {
   "cell_type": "code",
   "execution_count": 215,
   "id": "identical-gates",
   "metadata": {},
   "outputs": [
    {
     "data": {
      "text/plain": [
       "<tensorflow.python.keras.callbacks.History at 0x2aba538c8d0>"
      ]
     },
     "execution_count": 215,
     "metadata": {},
     "output_type": "execute_result"
    }
   ],
   "source": [
    "# en el codigo de arriba parece que agregar la capa con 100 unidades, nos da un problema\n",
    "# proberamos cambiando el optimizador\n",
    "# Set random seed\n",
    "\n",
    "tf.random.set_seed(42)\n",
    "\n",
    "# 1. Create the model\n",
    "\n",
    "insurance_model_2 = tf.keras.Sequential([\n",
    "    \n",
    "    tf.keras.layers.Dense(100),\n",
    "    tf.keras.layers.Dense(10),\n",
    "    tf.keras.layers.Dense(1)\n",
    "])\n",
    "\n",
    "\n",
    "# 2. Compile the model\n",
    "insurance_model_2.compile(loss=tf.keras.losses.mae,\n",
    "                          \n",
    "                          # cambiamos el optimizador a Adam()\n",
    "                          optimizer=tf.keras.optimizers.Adam(),\n",
    "                          metrics =[\"mae\"])\n",
    "# 3.Fit the model\n",
    "insurance_model_2.fit(X_train, y_train, epochs = 100, verbose = 0)"
   ]
  },
  {
   "cell_type": "code",
   "execution_count": 216,
   "id": "rough-devon",
   "metadata": {},
   "outputs": [
    {
     "name": "stdout",
     "output_type": "stream",
     "text": [
      "9/9 [==============================] - 0s 1ms/step - loss: 4924.4956 - mae: 4924.4956\n"
     ]
    },
    {
     "data": {
      "text/plain": [
       "[4924.49560546875, 4924.49560546875]"
      ]
     },
     "execution_count": 216,
     "metadata": {},
     "output_type": "execute_result"
    }
   ],
   "source": [
    "insurance_model_2.evaluate(X_test, y_test)\n"
   ]
  },
  {
   "cell_type": "code",
   "execution_count": 217,
   "id": "spatial-southeast",
   "metadata": {},
   "outputs": [
    {
     "name": "stdout",
     "output_type": "stream",
     "text": [
      "9/9 [==============================] - 0s 1ms/step - loss: 7023.3286 - mae: 7023.3286\n"
     ]
    },
    {
     "data": {
      "text/plain": [
       "[7023.32861328125, 7023.32861328125]"
      ]
     },
     "execution_count": 217,
     "metadata": {},
     "output_type": "execute_result"
    }
   ],
   "source": [
    "insurance_model.evaluate(X_test, y_test)"
   ]
  },
  {
   "cell_type": "code",
   "execution_count": 220,
   "id": "consistent-heather",
   "metadata": {},
   "outputs": [
    {
     "name": "stdout",
     "output_type": "stream",
     "text": [
      "Epoch 1/200\n",
      "34/34 [==============================] - 0s 1ms/step - loss: 13251.7400 - mae: 13251.7400\n",
      "Epoch 2/200\n",
      "34/34 [==============================] - 0s 1ms/step - loss: 12768.7726 - mae: 12768.7726\n",
      "Epoch 3/200\n",
      "34/34 [==============================] - 0s 1ms/step - loss: 12248.2855 - mae: 12248.2855\n",
      "Epoch 4/200\n",
      "34/34 [==============================] - 0s 1ms/step - loss: 12353.0241 - mae: 12353.0241\n",
      "Epoch 5/200\n",
      "34/34 [==============================] - 0s 2ms/step - loss: 11243.3973 - mae: 11243.3973\n",
      "Epoch 6/200\n",
      "34/34 [==============================] - 0s 1ms/step - loss: 9718.5255 - mae: 9718.5255\n",
      "Epoch 7/200\n",
      "34/34 [==============================] - 0s 1ms/step - loss: 8354.8474 - mae: 8354.8474\n",
      "Epoch 8/200\n",
      "34/34 [==============================] - 0s 1ms/step - loss: 7732.2963 - mae: 7732.2963\n",
      "Epoch 9/200\n",
      "34/34 [==============================] - 0s 1ms/step - loss: 7537.6738 - mae: 7537.6738\n",
      "Epoch 10/200\n",
      "34/34 [==============================] - 0s 1ms/step - loss: 7652.7184 - mae: 7652.7184\n",
      "Epoch 11/200\n",
      "34/34 [==============================] - 0s 1ms/step - loss: 7802.4482 - mae: 7802.4482\n",
      "Epoch 12/200\n",
      "34/34 [==============================] - 0s 1ms/step - loss: 7370.3453 - mae: 7370.3453\n",
      "Epoch 13/200\n",
      "34/34 [==============================] - 0s 1ms/step - loss: 7651.9583 - mae: 7651.9583\n",
      "Epoch 14/200\n",
      "34/34 [==============================] - 0s 1ms/step - loss: 7404.5587 - mae: 7404.5587\n",
      "Epoch 15/200\n",
      "34/34 [==============================] - 0s 1ms/step - loss: 7639.0614 - mae: 7639.0614\n",
      "Epoch 16/200\n",
      "34/34 [==============================] - 0s 1ms/step - loss: 7569.4714 - mae: 7569.4714\n",
      "Epoch 17/200\n",
      "34/34 [==============================] - 0s 1ms/step - loss: 6946.3936 - mae: 6946.3936\n",
      "Epoch 18/200\n",
      "34/34 [==============================] - 0s 1ms/step - loss: 7137.7242 - mae: 7137.7242\n",
      "Epoch 19/200\n",
      "34/34 [==============================] - 0s 2ms/step - loss: 7165.3119 - mae: 7165.3119\n",
      "Epoch 20/200\n",
      "34/34 [==============================] - 0s 2ms/step - loss: 7063.6225 - mae: 7063.6225\n",
      "Epoch 21/200\n",
      "34/34 [==============================] - 0s 1ms/step - loss: 6472.3188 - mae: 6472.3188\n",
      "Epoch 22/200\n",
      "34/34 [==============================] - 0s 2ms/step - loss: 6674.0546 - mae: 6674.0546\n",
      "Epoch 23/200\n",
      "34/34 [==============================] - 0s 2ms/step - loss: 7112.2982 - mae: 7112.2982\n",
      "Epoch 24/200\n",
      "34/34 [==============================] - 0s 2ms/step - loss: 6838.1526 - mae: 6838.1526\n",
      "Epoch 25/200\n",
      "34/34 [==============================] - 0s 2ms/step - loss: 7496.9556 - mae: 7496.9556\n",
      "Epoch 26/200\n",
      "34/34 [==============================] - 0s 1ms/step - loss: 6718.1686 - mae: 6718.1686\n",
      "Epoch 27/200\n",
      "34/34 [==============================] - 0s 1ms/step - loss: 7107.2977 - mae: 7107.2977\n",
      "Epoch 28/200\n",
      "34/34 [==============================] - 0s 2ms/step - loss: 7357.2011 - mae: 7357.2011\n",
      "Epoch 29/200\n",
      "34/34 [==============================] - 0s 2ms/step - loss: 6668.5722 - mae: 6668.5722\n",
      "Epoch 30/200\n",
      "34/34 [==============================] - 0s 2ms/step - loss: 7119.4991 - mae: 7119.4991\n",
      "Epoch 31/200\n",
      "34/34 [==============================] - 0s 2ms/step - loss: 7360.1235 - mae: 7360.1235\n",
      "Epoch 32/200\n",
      "34/34 [==============================] - 0s 1ms/step - loss: 6817.2565 - mae: 6817.2565\n",
      "Epoch 33/200\n",
      "34/34 [==============================] - 0s 1ms/step - loss: 6991.0288 - mae: 6991.0288\n",
      "Epoch 34/200\n",
      "34/34 [==============================] - 0s 1ms/step - loss: 6829.4905 - mae: 6829.4905\n",
      "Epoch 35/200\n",
      "34/34 [==============================] - 0s 3ms/step - loss: 6895.2916 - mae: 6895.2916\n",
      "Epoch 36/200\n",
      "34/34 [==============================] - 0s 2ms/step - loss: 6762.5129 - mae: 6762.5129\n",
      "Epoch 37/200\n",
      "34/34 [==============================] - 0s 2ms/step - loss: 6910.4815 - mae: 6910.4815\n",
      "Epoch 38/200\n",
      "34/34 [==============================] - 0s 2ms/step - loss: 6405.0325 - mae: 6405.0325\n",
      "Epoch 39/200\n",
      "34/34 [==============================] - 0s 2ms/step - loss: 6799.7921 - mae: 6799.7921\n",
      "Epoch 40/200\n",
      "34/34 [==============================] - 0s 2ms/step - loss: 6696.0553 - mae: 6696.0553\n",
      "Epoch 41/200\n",
      "34/34 [==============================] - 0s 2ms/step - loss: 6632.0477 - mae: 6632.0477\n",
      "Epoch 42/200\n",
      "34/34 [==============================] - 0s 2ms/step - loss: 6501.1589 - mae: 6501.1589\n",
      "Epoch 43/200\n",
      "34/34 [==============================] - 0s 2ms/step - loss: 6518.8887 - mae: 6518.8887\n",
      "Epoch 44/200\n",
      "34/34 [==============================] - 0s 2ms/step - loss: 6287.3744 - mae: 6287.3744\n",
      "Epoch 45/200\n",
      "34/34 [==============================] - 0s 2ms/step - loss: 6331.2562 - mae: 6331.2562\n",
      "Epoch 46/200\n",
      "34/34 [==============================] - 0s 2ms/step - loss: 6080.3169 - mae: 6080.3169\n",
      "Epoch 47/200\n",
      "34/34 [==============================] - 0s 2ms/step - loss: 6665.8195 - mae: 6665.8195\n",
      "Epoch 48/200\n",
      "34/34 [==============================] - 0s 2ms/step - loss: 6424.2352 - mae: 6424.2352\n",
      "Epoch 49/200\n",
      "34/34 [==============================] - 0s 1ms/step - loss: 6154.8288 - mae: 6154.8288\n",
      "Epoch 50/200\n",
      "34/34 [==============================] - 0s 1ms/step - loss: 6426.9840 - mae: 6426.9840\n",
      "Epoch 51/200\n",
      "34/34 [==============================] - 0s 1ms/step - loss: 6338.3254 - mae: 6338.3254\n",
      "Epoch 52/200\n",
      "34/34 [==============================] - 0s 1ms/step - loss: 6335.6011 - mae: 6335.6011\n",
      "Epoch 53/200\n",
      "34/34 [==============================] - 0s 1ms/step - loss: 5995.7961 - mae: 5995.7961\n",
      "Epoch 54/200\n",
      "34/34 [==============================] - 0s 1ms/step - loss: 6431.7964 - mae: 6431.7964\n",
      "Epoch 55/200\n",
      "34/34 [==============================] - 0s 1ms/step - loss: 6224.0664 - mae: 6224.0664\n",
      "Epoch 56/200\n",
      "34/34 [==============================] - 0s 1ms/step - loss: 6289.4112 - mae: 6289.4112\n",
      "Epoch 57/200\n",
      "34/34 [==============================] - 0s 2ms/step - loss: 6578.3138 - mae: 6578.3138\n",
      "Epoch 58/200\n",
      "34/34 [==============================] - 0s 1ms/step - loss: 6365.6013 - mae: 6365.6013\n",
      "Epoch 59/200\n",
      "34/34 [==============================] - 0s 1ms/step - loss: 5914.7983 - mae: 5914.7983\n",
      "Epoch 60/200\n",
      "34/34 [==============================] - 0s 1ms/step - loss: 6239.8723 - mae: 6239.8723\n",
      "Epoch 61/200\n",
      "34/34 [==============================] - 0s 1ms/step - loss: 6751.6415 - mae: 6751.6415\n",
      "Epoch 62/200\n",
      "34/34 [==============================] - 0s 1ms/step - loss: 6350.5861 - mae: 6350.5861\n",
      "Epoch 63/200\n",
      "34/34 [==============================] - 0s 1ms/step - loss: 6374.7376 - mae: 6374.7376\n",
      "Epoch 64/200\n",
      "34/34 [==============================] - 0s 2ms/step - loss: 5877.7620 - mae: 5877.7620\n",
      "Epoch 65/200\n",
      "34/34 [==============================] - 0s 1ms/step - loss: 6260.5318 - mae: 6260.5318\n",
      "Epoch 66/200\n",
      "34/34 [==============================] - 0s 1ms/step - loss: 6007.1747 - mae: 6007.1747\n",
      "Epoch 67/200\n",
      "34/34 [==============================] - 0s 1ms/step - loss: 6106.7938 - mae: 6106.7938\n",
      "Epoch 68/200\n",
      "34/34 [==============================] - 0s 1ms/step - loss: 6035.6668 - mae: 6035.6668\n",
      "Epoch 69/200\n",
      "34/34 [==============================] - 0s 1ms/step - loss: 6523.5435 - mae: 6523.5435\n",
      "Epoch 70/200\n",
      "34/34 [==============================] - 0s 1ms/step - loss: 5708.9527 - mae: 5708.9527\n",
      "Epoch 71/200\n",
      "34/34 [==============================] - 0s 1ms/step - loss: 6110.2172 - mae: 6110.2172\n",
      "Epoch 72/200\n",
      "34/34 [==============================] - 0s 1ms/step - loss: 5773.3155 - mae: 5773.3155\n",
      "Epoch 73/200\n",
      "34/34 [==============================] - 0s 1ms/step - loss: 6297.5176 - mae: 6297.5176\n",
      "Epoch 74/200\n",
      "34/34 [==============================] - 0s 2ms/step - loss: 6112.9394 - mae: 6112.9394\n",
      "Epoch 75/200\n",
      "34/34 [==============================] - 0s 1ms/step - loss: 6449.7251 - mae: 6449.7251\n",
      "Epoch 76/200\n",
      "34/34 [==============================] - 0s 1ms/step - loss: 5688.1440 - mae: 5688.1440\n",
      "Epoch 77/200\n",
      "34/34 [==============================] - 0s 1ms/step - loss: 6402.3398 - mae: 6402.3398\n",
      "Epoch 78/200\n",
      "34/34 [==============================] - 0s 2ms/step - loss: 5499.5554 - mae: 5499.5554\n",
      "Epoch 79/200\n",
      "34/34 [==============================] - 0s 1ms/step - loss: 5108.3478 - mae: 5108.3478\n",
      "Epoch 80/200\n",
      "34/34 [==============================] - 0s 1ms/step - loss: 5226.6397 - mae: 5226.6397\n",
      "Epoch 81/200\n",
      "34/34 [==============================] - 0s 1ms/step - loss: 5817.3262 - mae: 5817.3262\n",
      "Epoch 82/200\n"
     ]
    },
    {
     "name": "stdout",
     "output_type": "stream",
     "text": [
      "34/34 [==============================] - 0s 1ms/step - loss: 6548.7321 - mae: 6548.7321\n",
      "Epoch 83/200\n",
      "34/34 [==============================] - 0s 1ms/step - loss: 5722.6892 - mae: 5722.6892\n",
      "Epoch 84/200\n",
      "34/34 [==============================] - 0s 2ms/step - loss: 5570.2336 - mae: 5570.2336\n",
      "Epoch 85/200\n",
      "34/34 [==============================] - 0s 1ms/step - loss: 5121.8587 - mae: 5121.8587\n",
      "Epoch 86/200\n",
      "34/34 [==============================] - 0s 1ms/step - loss: 5889.9363 - mae: 5889.9363\n",
      "Epoch 87/200\n",
      "34/34 [==============================] - 0s 1ms/step - loss: 5472.2751 - mae: 5472.2751\n",
      "Epoch 88/200\n",
      "34/34 [==============================] - 0s 1ms/step - loss: 5770.0214 - mae: 5770.0214\n",
      "Epoch 89/200\n",
      "34/34 [==============================] - 0s 1ms/step - loss: 5392.7428 - mae: 5392.7428\n",
      "Epoch 90/200\n",
      "34/34 [==============================] - 0s 1ms/step - loss: 5951.3922 - mae: 5951.3922\n",
      "Epoch 91/200\n",
      "34/34 [==============================] - 0s 1ms/step - loss: 5577.1111 - mae: 5577.1111\n",
      "Epoch 92/200\n",
      "34/34 [==============================] - 0s 1ms/step - loss: 5633.8429 - mae: 5633.8429\n",
      "Epoch 93/200\n",
      "34/34 [==============================] - 0s 1ms/step - loss: 5209.0316 - mae: 5209.0316\n",
      "Epoch 94/200\n",
      "34/34 [==============================] - 0s 1ms/step - loss: 5018.4433 - mae: 5018.4433\n",
      "Epoch 95/200\n",
      "34/34 [==============================] - 0s 1ms/step - loss: 5419.2086 - mae: 5419.2086\n",
      "Epoch 96/200\n",
      "34/34 [==============================] - 0s 2ms/step - loss: 5547.8980 - mae: 5547.8980\n",
      "Epoch 97/200\n",
      "34/34 [==============================] - 0s 1ms/step - loss: 4931.7091 - mae: 4931.7091\n",
      "Epoch 98/200\n",
      "34/34 [==============================] - 0s 2ms/step - loss: 4912.5428 - mae: 4912.5428\n",
      "Epoch 99/200\n",
      "34/34 [==============================] - 0s 1ms/step - loss: 4650.0259 - mae: 4650.0259\n",
      "Epoch 100/200\n",
      "34/34 [==============================] - 0s 1ms/step - loss: 4770.1080 - mae: 4770.1080\n",
      "Epoch 101/200\n",
      "34/34 [==============================] - 0s 1ms/step - loss: 4909.4019 - mae: 4909.4019\n",
      "Epoch 102/200\n",
      "34/34 [==============================] - 0s 1ms/step - loss: 4673.1828 - mae: 4673.1828\n",
      "Epoch 103/200\n",
      "34/34 [==============================] - 0s 1ms/step - loss: 4396.6368 - mae: 4396.6368\n",
      "Epoch 104/200\n",
      "34/34 [==============================] - 0s 1ms/step - loss: 4917.2485 - mae: 4917.2485\n",
      "Epoch 105/200\n",
      "34/34 [==============================] - 0s 1ms/step - loss: 4314.7068 - mae: 4314.7068\n",
      "Epoch 106/200\n",
      "34/34 [==============================] - 0s 1ms/step - loss: 4740.0049 - mae: 4740.0049\n",
      "Epoch 107/200\n",
      "34/34 [==============================] - 0s 1ms/step - loss: 4745.8709 - mae: 4745.8709\n",
      "Epoch 108/200\n",
      "34/34 [==============================] - 0s 1ms/step - loss: 4517.0620 - mae: 4517.0620\n",
      "Epoch 109/200\n",
      "34/34 [==============================] - 0s 1ms/step - loss: 4801.7183 - mae: 4801.7183\n",
      "Epoch 110/200\n",
      "34/34 [==============================] - 0s 2ms/step - loss: 4703.4164 - mae: 4703.4164\n",
      "Epoch 111/200\n",
      "34/34 [==============================] - 0s 1ms/step - loss: 4289.2303 - mae: 4289.2303\n",
      "Epoch 112/200\n",
      "34/34 [==============================] - 0s 1ms/step - loss: 4062.2467 - mae: 4062.2467\n",
      "Epoch 113/200\n",
      "34/34 [==============================] - 0s 1ms/step - loss: 3977.3070 - mae: 3977.3070\n",
      "Epoch 114/200\n",
      "34/34 [==============================] - 0s 1ms/step - loss: 4154.2933 - mae: 4154.2933\n",
      "Epoch 115/200\n",
      "34/34 [==============================] - 0s 1ms/step - loss: 4006.4261 - mae: 4006.4261\n",
      "Epoch 116/200\n",
      "34/34 [==============================] - 0s 1ms/step - loss: 4287.0857 - mae: 4287.0857\n",
      "Epoch 117/200\n",
      "34/34 [==============================] - 0s 1ms/step - loss: 3863.7712 - mae: 3863.7712\n",
      "Epoch 118/200\n",
      "34/34 [==============================] - 0s 2ms/step - loss: 3867.4442 - mae: 3867.4442\n",
      "Epoch 119/200\n",
      "34/34 [==============================] - 0s 2ms/step - loss: 3956.8748 - mae: 3956.8748\n",
      "Epoch 120/200\n",
      "34/34 [==============================] - 0s 2ms/step - loss: 4056.2706 - mae: 4056.2706\n",
      "Epoch 121/200\n",
      "34/34 [==============================] - 0s 2ms/step - loss: 4138.5815 - mae: 4138.5815\n",
      "Epoch 122/200\n",
      "34/34 [==============================] - 0s 1ms/step - loss: 3807.1293 - mae: 3807.1293\n",
      "Epoch 123/200\n",
      "34/34 [==============================] - 0s 2ms/step - loss: 3729.3962 - mae: 3729.3962\n",
      "Epoch 124/200\n",
      "34/34 [==============================] - 0s 1ms/step - loss: 3654.5898 - mae: 3654.5898\n",
      "Epoch 125/200\n",
      "34/34 [==============================] - 0s 1ms/step - loss: 4047.5813 - mae: 4047.5813\n",
      "Epoch 126/200\n",
      "34/34 [==============================] - 0s 2ms/step - loss: 3760.0192 - mae: 3760.0192\n",
      "Epoch 127/200\n",
      "34/34 [==============================] - 0s 1ms/step - loss: 3898.9772 - mae: 3898.9772\n",
      "Epoch 128/200\n",
      "34/34 [==============================] - 0s 1ms/step - loss: 3730.5285 - mae: 3730.5285\n",
      "Epoch 129/200\n",
      "34/34 [==============================] - 0s 1ms/step - loss: 4053.7942 - mae: 4053.7942\n",
      "Epoch 130/200\n",
      "34/34 [==============================] - 0s 1ms/step - loss: 3816.5713 - mae: 3816.5713\n",
      "Epoch 131/200\n",
      "34/34 [==============================] - 0s 1ms/step - loss: 3842.2270 - mae: 3842.2270\n",
      "Epoch 132/200\n",
      "34/34 [==============================] - 0s 1ms/step - loss: 4002.9710 - mae: 4002.9710\n",
      "Epoch 133/200\n",
      "34/34 [==============================] - 0s 1ms/step - loss: 4039.3412 - mae: 4039.3412\n",
      "Epoch 134/200\n",
      "34/34 [==============================] - 0s 3ms/step - loss: 3876.1982 - mae: 3876.1982A: 0s - loss: 3885.0926 - mae: 3885.092\n",
      "Epoch 135/200\n",
      "34/34 [==============================] - 0s 3ms/step - loss: 3853.5074 - mae: 3853.5074\n",
      "Epoch 136/200\n",
      "34/34 [==============================] - 0s 2ms/step - loss: 3717.2626 - mae: 3717.2626\n",
      "Epoch 137/200\n",
      "34/34 [==============================] - 0s 2ms/step - loss: 3773.6438 - mae: 3773.6438\n",
      "Epoch 138/200\n",
      "34/34 [==============================] - ETA: 0s - loss: 4119.7007 - mae: 4119.700 - 0s 2ms/step - loss: 4017.7877 - mae: 4017.7877\n",
      "Epoch 139/200\n",
      "34/34 [==============================] - 0s 2ms/step - loss: 3715.0603 - mae: 3715.0603\n",
      "Epoch 140/200\n",
      "34/34 [==============================] - 0s 2ms/step - loss: 3733.6008 - mae: 3733.6008\n",
      "Epoch 141/200\n",
      "34/34 [==============================] - 0s 2ms/step - loss: 3857.4201 - mae: 3857.4201\n",
      "Epoch 142/200\n",
      "34/34 [==============================] - 0s 2ms/step - loss: 3626.7236 - mae: 3626.7236\n",
      "Epoch 143/200\n",
      "34/34 [==============================] - 0s 3ms/step - loss: 3835.3858 - mae: 3835.3858\n",
      "Epoch 144/200\n",
      "34/34 [==============================] - 0s 2ms/step - loss: 3868.5910 - mae: 3868.5910\n",
      "Epoch 145/200\n",
      "34/34 [==============================] - 0s 2ms/step - loss: 4045.0617 - mae: 4045.0617\n",
      "Epoch 146/200\n",
      "34/34 [==============================] - 0s 2ms/step - loss: 3947.5995 - mae: 3947.5995\n",
      "Epoch 147/200\n",
      "34/34 [==============================] - 0s 2ms/step - loss: 3697.7625 - mae: 3697.7625\n",
      "Epoch 148/200\n",
      "34/34 [==============================] - 0s 3ms/step - loss: 3495.4075 - mae: 3495.4075\n",
      "Epoch 149/200\n",
      "34/34 [==============================] - 0s 2ms/step - loss: 3636.6811 - mae: 3636.6811\n",
      "Epoch 150/200\n",
      "34/34 [==============================] - 0s 2ms/step - loss: 3824.7629 - mae: 3824.7629\n",
      "Epoch 151/200\n",
      "34/34 [==============================] - 0s 2ms/step - loss: 3806.7232 - mae: 3806.7232\n",
      "Epoch 152/200\n",
      "34/34 [==============================] - 0s 1ms/step - loss: 3755.5286 - mae: 3755.5286\n",
      "Epoch 153/200\n",
      "34/34 [==============================] - 0s 1ms/step - loss: 3713.7235 - mae: 3713.7235\n",
      "Epoch 154/200\n",
      "34/34 [==============================] - 0s 2ms/step - loss: 3894.6997 - mae: 3894.6997\n",
      "Epoch 155/200\n",
      "34/34 [==============================] - 0s 1ms/step - loss: 3651.7695 - mae: 3651.7695\n",
      "Epoch 156/200\n",
      "34/34 [==============================] - 0s 1ms/step - loss: 3541.6650 - mae: 3541.6650\n",
      "Epoch 157/200\n",
      "34/34 [==============================] - 0s 2ms/step - loss: 3542.1333 - mae: 3542.1333\n",
      "Epoch 158/200\n",
      "34/34 [==============================] - 0s 1ms/step - loss: 3921.3846 - mae: 3921.3846\n",
      "Epoch 159/200\n",
      "34/34 [==============================] - 0s 2ms/step - loss: 3774.7317 - mae: 3774.7317\n",
      "Epoch 160/200\n",
      "34/34 [==============================] - 0s 1ms/step - loss: 3836.3789 - mae: 3836.3789\n",
      "Epoch 161/200\n"
     ]
    },
    {
     "name": "stdout",
     "output_type": "stream",
     "text": [
      "34/34 [==============================] - 0s 1ms/step - loss: 3695.4663 - mae: 3695.4663\n",
      "Epoch 162/200\n",
      "34/34 [==============================] - 0s 1ms/step - loss: 3844.5049 - mae: 3844.5049\n",
      "Epoch 163/200\n",
      "34/34 [==============================] - 0s 1ms/step - loss: 3434.5003 - mae: 3434.5003\n",
      "Epoch 164/200\n",
      "34/34 [==============================] - 0s 1ms/step - loss: 3657.7763 - mae: 3657.7763\n",
      "Epoch 165/200\n",
      "34/34 [==============================] - 0s 2ms/step - loss: 3725.6674 - mae: 3725.6674\n",
      "Epoch 166/200\n",
      "34/34 [==============================] - 0s 2ms/step - loss: 3876.2255 - mae: 3876.2255\n",
      "Epoch 167/200\n",
      "34/34 [==============================] - 0s 1ms/step - loss: 4018.4551 - mae: 4018.4551\n",
      "Epoch 168/200\n",
      "34/34 [==============================] - 0s 1ms/step - loss: 3753.0690 - mae: 3753.0690\n",
      "Epoch 169/200\n",
      "34/34 [==============================] - 0s 1ms/step - loss: 3595.9370 - mae: 3595.9370\n",
      "Epoch 170/200\n",
      "34/34 [==============================] - 0s 1ms/step - loss: 3880.9856 - mae: 3880.9856\n",
      "Epoch 171/200\n",
      "34/34 [==============================] - 0s 1ms/step - loss: 3589.4529 - mae: 3589.4529\n",
      "Epoch 172/200\n",
      "34/34 [==============================] - 0s 2ms/step - loss: 3789.1782 - mae: 3789.1782\n",
      "Epoch 173/200\n",
      "34/34 [==============================] - 0s 2ms/step - loss: 3821.4178 - mae: 3821.4178\n",
      "Epoch 174/200\n",
      "34/34 [==============================] - 0s 2ms/step - loss: 3759.3673 - mae: 3759.3673\n",
      "Epoch 175/200\n",
      "34/34 [==============================] - 0s 2ms/step - loss: 3876.6619 - mae: 3876.6619\n",
      "Epoch 176/200\n",
      "34/34 [==============================] - 0s 2ms/step - loss: 3795.9220 - mae: 3795.9220\n",
      "Epoch 177/200\n",
      "34/34 [==============================] - 0s 1ms/step - loss: 3769.8005 - mae: 3769.8005\n",
      "Epoch 178/200\n",
      "34/34 [==============================] - 0s 2ms/step - loss: 3564.1352 - mae: 3564.1352\n",
      "Epoch 179/200\n",
      "34/34 [==============================] - 0s 2ms/step - loss: 3469.2080 - mae: 3469.2080\n",
      "Epoch 180/200\n",
      "34/34 [==============================] - 0s 2ms/step - loss: 4112.5286 - mae: 4112.5286\n",
      "Epoch 181/200\n",
      "34/34 [==============================] - 0s 2ms/step - loss: 3853.0809 - mae: 3853.0809\n",
      "Epoch 182/200\n",
      "34/34 [==============================] - 0s 2ms/step - loss: 3778.7845 - mae: 3778.7845\n",
      "Epoch 183/200\n",
      "34/34 [==============================] - 0s 2ms/step - loss: 3475.8320 - mae: 3475.8320\n",
      "Epoch 184/200\n",
      "34/34 [==============================] - 0s 2ms/step - loss: 3624.6774 - mae: 3624.6774\n",
      "Epoch 185/200\n",
      "34/34 [==============================] - 0s 1ms/step - loss: 3491.7385 - mae: 3491.7385\n",
      "Epoch 186/200\n",
      "34/34 [==============================] - 0s 1ms/step - loss: 3825.6737 - mae: 3825.6737\n",
      "Epoch 187/200\n",
      "34/34 [==============================] - 0s 2ms/step - loss: 3890.7277 - mae: 3890.7277\n",
      "Epoch 188/200\n",
      "34/34 [==============================] - 0s 2ms/step - loss: 3917.8414 - mae: 3917.8414\n",
      "Epoch 189/200\n",
      "34/34 [==============================] - 0s 1ms/step - loss: 3450.1744 - mae: 3450.1744\n",
      "Epoch 190/200\n",
      "34/34 [==============================] - 0s 2ms/step - loss: 3790.2071 - mae: 3790.2071\n",
      "Epoch 191/200\n",
      "34/34 [==============================] - 0s 2ms/step - loss: 3901.4242 - mae: 3901.4242\n",
      "Epoch 192/200\n",
      "34/34 [==============================] - 0s 2ms/step - loss: 3675.6296 - mae: 3675.6296\n",
      "Epoch 193/200\n",
      "34/34 [==============================] - 0s 1ms/step - loss: 3766.1260 - mae: 3766.1260\n",
      "Epoch 194/200\n",
      "34/34 [==============================] - 0s 1ms/step - loss: 3870.9854 - mae: 3870.9854\n",
      "Epoch 195/200\n",
      "34/34 [==============================] - 0s 2ms/step - loss: 3423.5101 - mae: 3423.5101\n",
      "Epoch 196/200\n",
      "34/34 [==============================] - 0s 1ms/step - loss: 3567.1773 - mae: 3567.1773\n",
      "Epoch 197/200\n",
      "34/34 [==============================] - 0s 1ms/step - loss: 3951.1268 - mae: 3951.1268\n",
      "Epoch 198/200\n",
      "34/34 [==============================] - 0s 3ms/step - loss: 3620.5311 - mae: 3620.5311\n",
      "Epoch 199/200\n",
      "34/34 [==============================] - 0s 2ms/step - loss: 3630.1029 - mae: 3630.1029\n",
      "Epoch 200/200\n",
      "34/34 [==============================] - 0s 2ms/step - loss: 3812.3691 - mae: 3812.3691\n"
     ]
    }
   ],
   "source": [
    "# Set random set\n",
    "tf.random.set_seed(42)\n",
    "\n",
    "# 1. Create the model( same as above)\n",
    "\n",
    "insurance_model_3 = tf.keras.Sequential([\n",
    "    \n",
    "    tf.keras.layers.Dense(100),\n",
    "    tf.keras.layers.Dense(10),\n",
    "    tf.keras.layers.Dense(1)\n",
    "])\n",
    "\n",
    "# 2. Compile the model\n",
    "insurance_model_3.compile(loss=tf.keras.losses.mae,\n",
    "                          optimizer = tf.keras.optimizers.Adam(),\n",
    "                          metrics =[\"mae\"])\n",
    "\n",
    "# 3 Fit the model\n",
    "history = insurance_model_3.fit(X_train, y_train, epochs =200)\n",
    "\n"
   ]
  },
  {
   "cell_type": "code",
   "execution_count": 221,
   "id": "parental-delicious",
   "metadata": {},
   "outputs": [
    {
     "name": "stdout",
     "output_type": "stream",
     "text": [
      "9/9 [==============================] - 0s 1ms/step - loss: 3488.7859 - mae: 3488.7859\n"
     ]
    },
    {
     "data": {
      "text/plain": [
       "[3488.785888671875, 3488.785888671875]"
      ]
     },
     "execution_count": 221,
     "metadata": {},
     "output_type": "execute_result"
    }
   ],
   "source": [
    "# Evaluate our third model\n",
    "insurance_model_3.evaluate(X_test, y_test)\n"
   ]
  },
  {
   "cell_type": "code",
   "execution_count": 222,
   "id": "everyday-texture",
   "metadata": {},
   "outputs": [
    {
     "name": "stdout",
     "output_type": "stream",
     "text": [
      "9/9 [==============================] - 0s 2ms/step - loss: 7023.3286 - mae: 7023.3286\n"
     ]
    },
    {
     "data": {
      "text/plain": [
       "[7023.32861328125, 7023.32861328125]"
      ]
     },
     "execution_count": 222,
     "metadata": {},
     "output_type": "execute_result"
    }
   ],
   "source": [
    "insurance_model.evaluate(X_test, y_test)"
   ]
  },
  {
   "cell_type": "code",
   "execution_count": 223,
   "id": "complete-occurrence",
   "metadata": {},
   "outputs": [
    {
     "data": {
      "text/plain": [
       "Text(0.5, 0, 'epochs')"
      ]
     },
     "execution_count": 223,
     "metadata": {},
     "output_type": "execute_result"
    },
    {
     "data": {
      "image/png": "[encoded data removed]",
      "text/plain": [
       "<Figure size 432x288 with 1 Axes>"
      ]
     },
     "metadata": {
      "needs_background": "light"
     },
     "output_type": "display_data"
    }
   ],
   "source": [
    "# Plot history (olso known as a loss curve or a training curve)\n",
    "\n",
    "# importantisimo, al guardar el progreso de nuestro modelo al ajustar nos permite generar esta curva, descenso de las perdidas\n",
    "pd.DataFrame(history.history).plot()\n",
    "plt.ylabel(\"loss\")\n",
    "plt.xlabel(\"epochs\")"
   ]
  },
  {
   "cell_type": "markdown",
   "id": "blessed-outdoors",
   "metadata": {},
   "source": [
    "**Question:** How long should you train for?\n",
    "it depends. Really .... it depends on the problem you're working on. However, many people have asked this question before... so TensorFlow has a solution! It's called the [EarlyStopping Callback](https://www.tensorflow.org/api_docs/python/tf/keras/callbacks/Callback), which is a TensorFlow componet you can add to your model to stop training once it stops improving a certain metric"
   ]
  },
  {
   "cell_type": "markdown",
   "id": "pressing-rings",
   "metadata": {},
   "source": [
    "## Preprocessing data (normalization and standardization)\n",
    "In terms of scaling values, neural networks tend to prefer normalization.\n",
    "\n",
    "if you're not sure on which to use, you could try both and see which perfoms better.\n"
   ]
  },
  {
   "cell_type": "code",
   "execution_count": 224,
   "id": "coordinated-polyester",
   "metadata": {},
   "outputs": [
    {
     "data": {
      "text/plain": [
       "(      age     bmi  children  sex_female  sex_male  smoker_no  smoker_yes  \\\n",
       " 560    46  19.950         2           1         0          1           0   \n",
       " 1285   47  24.320         0           1         0          1           0   \n",
       " 1142   52  24.860         0           1         0          1           0   \n",
       " 969    39  34.320         5           1         0          1           0   \n",
       " 486    54  21.470         3           1         0          1           0   \n",
       " ...   ...     ...       ...         ...       ...        ...         ...   \n",
       " 1095   18  31.350         4           1         0          1           0   \n",
       " 1130   39  23.870         5           1         0          1           0   \n",
       " 1294   58  25.175         0           0         1          1           0   \n",
       " 860    37  47.600         2           1         0          0           1   \n",
       " 1126   55  29.900         0           0         1          1           0   \n",
       " \n",
       "       region_northeast  region_northwest  region_southeast  region_southwest  \n",
       " 560                  0                 1                 0                 0  \n",
       " 1285                 1                 0                 0                 0  \n",
       " 1142                 0                 0                 1                 0  \n",
       " 969                  0                 0                 1                 0  \n",
       " 486                  0                 1                 0                 0  \n",
       " ...                ...               ...               ...               ...  \n",
       " 1095                 1                 0                 0                 0  \n",
       " 1130                 0                 0                 1                 0  \n",
       " 1294                 1                 0                 0                 0  \n",
       " 860                  0                 0                 0                 1  \n",
       " 1126                 0                 0                 0                 1  \n",
       " \n",
       " [1070 rows x 11 columns],\n",
       " 560      9193.83850\n",
       " 1285     8534.67180\n",
       " 1142    27117.99378\n",
       " 969      8596.82780\n",
       " 486     12475.35130\n",
       "            ...     \n",
       " 1095     4561.18850\n",
       " 1130     8582.30230\n",
       " 1294    11931.12525\n",
       " 860     46113.51100\n",
       " 1126    10214.63600\n",
       " Name: charges, Length: 1070, dtype: float64)"
      ]
     },
     "execution_count": 224,
     "metadata": {},
     "output_type": "execute_result"
    }
   ],
   "source": [
    "X_train, y_train"
   ]
  },
  {
   "cell_type": "code",
   "execution_count": 225,
   "id": "informational-compound",
   "metadata": {},
   "outputs": [
    {
     "data": {
      "text/html": [
       "<div>\n",
       "<style scoped>\n",
       "    .dataframe tbody tr th:only-of-type {\n",
       "        vertical-align: middle;\n",
       "    }\n",
       "\n",
       "    .dataframe tbody tr th {\n",
       "        vertical-align: top;\n",
       "    }\n",
       "\n",
       "    .dataframe thead th {\n",
       "        text-align: right;\n",
       "    }\n",
       "</style>\n",
       "<table border=\"1\" class=\"dataframe\">\n",
       "  <thead>\n",
       "    <tr style=\"text-align: right;\">\n",
       "      <th></th>\n",
       "      <th>age</th>\n",
       "      <th>bmi</th>\n",
       "      <th>children</th>\n",
       "      <th>sex_female</th>\n",
       "      <th>sex_male</th>\n",
       "      <th>smoker_no</th>\n",
       "      <th>smoker_yes</th>\n",
       "      <th>region_northeast</th>\n",
       "      <th>region_northwest</th>\n",
       "      <th>region_southeast</th>\n",
       "      <th>region_southwest</th>\n",
       "    </tr>\n",
       "  </thead>\n",
       "  <tbody>\n",
       "    <tr>\n",
       "      <th>0</th>\n",
       "      <td>19</td>\n",
       "      <td>27.900</td>\n",
       "      <td>0</td>\n",
       "      <td>1</td>\n",
       "      <td>0</td>\n",
       "      <td>0</td>\n",
       "      <td>1</td>\n",
       "      <td>0</td>\n",
       "      <td>0</td>\n",
       "      <td>0</td>\n",
       "      <td>1</td>\n",
       "    </tr>\n",
       "    <tr>\n",
       "      <th>1</th>\n",
       "      <td>18</td>\n",
       "      <td>33.770</td>\n",
       "      <td>1</td>\n",
       "      <td>0</td>\n",
       "      <td>1</td>\n",
       "      <td>1</td>\n",
       "      <td>0</td>\n",
       "      <td>0</td>\n",
       "      <td>0</td>\n",
       "      <td>1</td>\n",
       "      <td>0</td>\n",
       "    </tr>\n",
       "    <tr>\n",
       "      <th>2</th>\n",
       "      <td>28</td>\n",
       "      <td>33.000</td>\n",
       "      <td>3</td>\n",
       "      <td>0</td>\n",
       "      <td>1</td>\n",
       "      <td>1</td>\n",
       "      <td>0</td>\n",
       "      <td>0</td>\n",
       "      <td>0</td>\n",
       "      <td>1</td>\n",
       "      <td>0</td>\n",
       "    </tr>\n",
       "    <tr>\n",
       "      <th>3</th>\n",
       "      <td>33</td>\n",
       "      <td>22.705</td>\n",
       "      <td>0</td>\n",
       "      <td>0</td>\n",
       "      <td>1</td>\n",
       "      <td>1</td>\n",
       "      <td>0</td>\n",
       "      <td>0</td>\n",
       "      <td>1</td>\n",
       "      <td>0</td>\n",
       "      <td>0</td>\n",
       "    </tr>\n",
       "    <tr>\n",
       "      <th>4</th>\n",
       "      <td>32</td>\n",
       "      <td>28.880</td>\n",
       "      <td>0</td>\n",
       "      <td>0</td>\n",
       "      <td>1</td>\n",
       "      <td>1</td>\n",
       "      <td>0</td>\n",
       "      <td>0</td>\n",
       "      <td>1</td>\n",
       "      <td>0</td>\n",
       "      <td>0</td>\n",
       "    </tr>\n",
       "    <tr>\n",
       "      <th>...</th>\n",
       "      <td>...</td>\n",
       "      <td>...</td>\n",
       "      <td>...</td>\n",
       "      <td>...</td>\n",
       "      <td>...</td>\n",
       "      <td>...</td>\n",
       "      <td>...</td>\n",
       "      <td>...</td>\n",
       "      <td>...</td>\n",
       "      <td>...</td>\n",
       "      <td>...</td>\n",
       "    </tr>\n",
       "    <tr>\n",
       "      <th>1333</th>\n",
       "      <td>50</td>\n",
       "      <td>30.970</td>\n",
       "      <td>3</td>\n",
       "      <td>0</td>\n",
       "      <td>1</td>\n",
       "      <td>1</td>\n",
       "      <td>0</td>\n",
       "      <td>0</td>\n",
       "      <td>1</td>\n",
       "      <td>0</td>\n",
       "      <td>0</td>\n",
       "    </tr>\n",
       "    <tr>\n",
       "      <th>1334</th>\n",
       "      <td>18</td>\n",
       "      <td>31.920</td>\n",
       "      <td>0</td>\n",
       "      <td>1</td>\n",
       "      <td>0</td>\n",
       "      <td>1</td>\n",
       "      <td>0</td>\n",
       "      <td>1</td>\n",
       "      <td>0</td>\n",
       "      <td>0</td>\n",
       "      <td>0</td>\n",
       "    </tr>\n",
       "    <tr>\n",
       "      <th>1335</th>\n",
       "      <td>18</td>\n",
       "      <td>36.850</td>\n",
       "      <td>0</td>\n",
       "      <td>1</td>\n",
       "      <td>0</td>\n",
       "      <td>1</td>\n",
       "      <td>0</td>\n",
       "      <td>0</td>\n",
       "      <td>0</td>\n",
       "      <td>1</td>\n",
       "      <td>0</td>\n",
       "    </tr>\n",
       "    <tr>\n",
       "      <th>1336</th>\n",
       "      <td>21</td>\n",
       "      <td>25.800</td>\n",
       "      <td>0</td>\n",
       "      <td>1</td>\n",
       "      <td>0</td>\n",
       "      <td>1</td>\n",
       "      <td>0</td>\n",
       "      <td>0</td>\n",
       "      <td>0</td>\n",
       "      <td>0</td>\n",
       "      <td>1</td>\n",
       "    </tr>\n",
       "    <tr>\n",
       "      <th>1337</th>\n",
       "      <td>61</td>\n",
       "      <td>29.070</td>\n",
       "      <td>0</td>\n",
       "      <td>1</td>\n",
       "      <td>0</td>\n",
       "      <td>0</td>\n",
       "      <td>1</td>\n",
       "      <td>0</td>\n",
       "      <td>1</td>\n",
       "      <td>0</td>\n",
       "      <td>0</td>\n",
       "    </tr>\n",
       "  </tbody>\n",
       "</table>\n",
       "<p>1338 rows × 11 columns</p>\n",
       "</div>"
      ],
      "text/plain": [
       "      age     bmi  children  sex_female  sex_male  smoker_no  smoker_yes  \\\n",
       "0      19  27.900         0           1         0          0           1   \n",
       "1      18  33.770         1           0         1          1           0   \n",
       "2      28  33.000         3           0         1          1           0   \n",
       "3      33  22.705         0           0         1          1           0   \n",
       "4      32  28.880         0           0         1          1           0   \n",
       "...   ...     ...       ...         ...       ...        ...         ...   \n",
       "1333   50  30.970         3           0         1          1           0   \n",
       "1334   18  31.920         0           1         0          1           0   \n",
       "1335   18  36.850         0           1         0          1           0   \n",
       "1336   21  25.800         0           1         0          1           0   \n",
       "1337   61  29.070         0           1         0          0           1   \n",
       "\n",
       "      region_northeast  region_northwest  region_southeast  region_southwest  \n",
       "0                    0                 0                 0                 1  \n",
       "1                    0                 0                 1                 0  \n",
       "2                    0                 0                 1                 0  \n",
       "3                    0                 1                 0                 0  \n",
       "4                    0                 1                 0                 0  \n",
       "...                ...               ...               ...               ...  \n",
       "1333                 0                 1                 0                 0  \n",
       "1334                 1                 0                 0                 0  \n",
       "1335                 0                 0                 1                 0  \n",
       "1336                 0                 0                 0                 1  \n",
       "1337                 0                 1                 0                 0  \n",
       "\n",
       "[1338 rows x 11 columns]"
      ]
     },
     "execution_count": 225,
     "metadata": {},
     "output_type": "execute_result"
    }
   ],
   "source": [
    "X"
   ]
  },
  {
   "cell_type": "code",
   "execution_count": 226,
   "id": "agreed-philippines",
   "metadata": {},
   "outputs": [
    {
     "data": {
      "text/plain": [
       "<AxesSubplot:ylabel='Frequency'>"
      ]
     },
     "execution_count": 226,
     "metadata": {},
     "output_type": "execute_result"
    },
    {
     "data": {
      "image/png": "[encoded data removed]",
      "text/plain": [
       "<Figure size 432x288 with 1 Axes>"
      ]
     },
     "metadata": {
      "needs_background": "light"
     },
     "output_type": "display_data"
    }
   ],
   "source": [
    "X[\"age\"].plot(kind=\"hist\")"
   ]
  },
  {
   "cell_type": "code",
   "execution_count": 227,
   "id": "sporting-fifteen",
   "metadata": {},
   "outputs": [
    {
     "data": {
      "text/plain": [
       "<AxesSubplot:ylabel='Frequency'>"
      ]
     },
     "execution_count": 227,
     "metadata": {},
     "output_type": "execute_result"
    },
    {
     "data": {
      "image/png": "[encoded data removed]",
      "text/plain": [
       "<Figure size 432x288 with 1 Axes>"
      ]
     },
     "metadata": {
      "needs_background": "light"
     },
     "output_type": "display_data"
    }
   ],
   "source": [
    "X[\"bmi\"].plot(kind=\"hist\")"
   ]
  },
  {
   "cell_type": "code",
   "execution_count": 228,
   "id": "caroline-superintendent",
   "metadata": {},
   "outputs": [
    {
     "data": {
      "text/plain": [
       "0    574\n",
       "1    324\n",
       "2    240\n",
       "3    157\n",
       "4     25\n",
       "5     18\n",
       "Name: children, dtype: int64"
      ]
     },
     "execution_count": 228,
     "metadata": {},
     "output_type": "execute_result"
    }
   ],
   "source": [
    "X[\"children\"].value_counts()"
   ]
  },
  {
   "cell_type": "code",
   "execution_count": 230,
   "id": "horizontal-depression",
   "metadata": {},
   "outputs": [
    {
     "data": {
      "text/html": [
       "<div>\n",
       "<style scoped>\n",
       "    .dataframe tbody tr th:only-of-type {\n",
       "        vertical-align: middle;\n",
       "    }\n",
       "\n",
       "    .dataframe tbody tr th {\n",
       "        vertical-align: top;\n",
       "    }\n",
       "\n",
       "    .dataframe thead th {\n",
       "        text-align: right;\n",
       "    }\n",
       "</style>\n",
       "<table border=\"1\" class=\"dataframe\">\n",
       "  <thead>\n",
       "    <tr style=\"text-align: right;\">\n",
       "      <th></th>\n",
       "      <th>age</th>\n",
       "      <th>sex</th>\n",
       "      <th>bmi</th>\n",
       "      <th>children</th>\n",
       "      <th>smoker</th>\n",
       "      <th>region</th>\n",
       "      <th>charges</th>\n",
       "    </tr>\n",
       "  </thead>\n",
       "  <tbody>\n",
       "    <tr>\n",
       "      <th>0</th>\n",
       "      <td>19</td>\n",
       "      <td>female</td>\n",
       "      <td>27.900</td>\n",
       "      <td>0</td>\n",
       "      <td>yes</td>\n",
       "      <td>southwest</td>\n",
       "      <td>16884.92400</td>\n",
       "    </tr>\n",
       "    <tr>\n",
       "      <th>1</th>\n",
       "      <td>18</td>\n",
       "      <td>male</td>\n",
       "      <td>33.770</td>\n",
       "      <td>1</td>\n",
       "      <td>no</td>\n",
       "      <td>southeast</td>\n",
       "      <td>1725.55230</td>\n",
       "    </tr>\n",
       "    <tr>\n",
       "      <th>2</th>\n",
       "      <td>28</td>\n",
       "      <td>male</td>\n",
       "      <td>33.000</td>\n",
       "      <td>3</td>\n",
       "      <td>no</td>\n",
       "      <td>southeast</td>\n",
       "      <td>4449.46200</td>\n",
       "    </tr>\n",
       "    <tr>\n",
       "      <th>3</th>\n",
       "      <td>33</td>\n",
       "      <td>male</td>\n",
       "      <td>22.705</td>\n",
       "      <td>0</td>\n",
       "      <td>no</td>\n",
       "      <td>northwest</td>\n",
       "      <td>21984.47061</td>\n",
       "    </tr>\n",
       "    <tr>\n",
       "      <th>4</th>\n",
       "      <td>32</td>\n",
       "      <td>male</td>\n",
       "      <td>28.880</td>\n",
       "      <td>0</td>\n",
       "      <td>no</td>\n",
       "      <td>northwest</td>\n",
       "      <td>3866.85520</td>\n",
       "    </tr>\n",
       "  </tbody>\n",
       "</table>\n",
       "</div>"
      ],
      "text/plain": [
       "   age     sex     bmi  children smoker     region      charges\n",
       "0   19  female  27.900         0    yes  southwest  16884.92400\n",
       "1   18    male  33.770         1     no  southeast   1725.55230\n",
       "2   28    male  33.000         3     no  southeast   4449.46200\n",
       "3   33    male  22.705         0     no  northwest  21984.47061\n",
       "4   32    male  28.880         0     no  northwest   3866.85520"
      ]
     },
     "execution_count": 230,
     "metadata": {},
     "output_type": "execute_result"
    }
   ],
   "source": [
    "import pandas as pd\n",
    "import matplotlib.pyplot as plt\n",
    "# Read in the insurance dataframe\n",
    "\n",
    "insurance = pd.read_csv(\"https://raw.githubusercontent.com/stedy/Machine-Learning-with-R-datasets/master/insurance.csv\")\n",
    "insurance.head()"
   ]
  },
  {
   "cell_type": "markdown",
   "id": "technical-paper",
   "metadata": {},
   "source": [
    "To prepare our data, we can borrow a few classes from Scikit-Learn."
   ]
  },
  {
   "cell_type": "code",
   "execution_count": 232,
   "id": "piano-pierce",
   "metadata": {},
   "outputs": [],
   "source": [
    "from sklearn.compose import make_column_transformer\n",
    "from sklearn.preprocessing import MinMaxScaler, OneHotEncoder\n",
    "from sklearn.model_selection import train_test_split\n",
    "# Create a column transformer\n",
    "\n",
    "\n"
   ]
  },
  {
   "cell_type": "code",
   "execution_count": 233,
   "id": "starting-charter",
   "metadata": {},
   "outputs": [],
   "source": [
    "ct = make_column_transformer(\n",
    "     (MinMaxScaler(), [\"age\", \"bmi\", \"children\"]),# turn all values in these columns beteween 0 and 1\n",
    "     (OneHotEncoder(handle_unknown=\"ignore\"), [\"sex\", \"smoker\", \"region\"])\n",
    "    \n",
    ")\n",
    "\n",
    "# Create  X & y\n",
    "\n",
    "X = insurance.drop(\"charges\", axis=1)\n",
    "y = insurance[\"charges\"]\n",
    "\n",
    "# Build our train and test sets\n",
    "X_train, X_test, y_train, y_test = train_test_split(X,\n",
    "                                                    y,\n",
    "                                                    test_size=0.2,\n",
    "                                                    random_state=42)\n",
    "\n",
    "# Fit the column transformer to our training data\n",
    "# importantisimo separar primero antes de aplicar las transformaciones pertinentes\n",
    "# \"ajustamos\" nuestra transformacion a un array\n",
    "ct.fit(X_train)\n",
    "\n",
    "# transform training and test data with normalization(MinMaxScaler) and OnehotEncoder\n",
    "\n",
    "X_train_normal = ct.transform(X_train)\n",
    "X_test_normal = ct.transform(X_test)\n"
   ]
  },
  {
   "cell_type": "code",
   "execution_count": 234,
   "id": "dominican-bradford",
   "metadata": {},
   "outputs": [
    {
     "data": {
      "text/plain": [
       "age                19\n",
       "sex            female\n",
       "bmi              27.9\n",
       "children            0\n",
       "smoker            yes\n",
       "region      southwest\n",
       "Name: 0, dtype: object"
      ]
     },
     "execution_count": 234,
     "metadata": {},
     "output_type": "execute_result"
    }
   ],
   "source": [
    "# What does our data look like now?\n",
    "X_train.loc[0]"
   ]
  },
  {
   "cell_type": "code",
   "execution_count": 235,
   "id": "extra-registration",
   "metadata": {},
   "outputs": [
    {
     "data": {
      "text/plain": [
       "array([0.60869565, 0.10734463, 0.4       , 1.        , 0.        ,\n",
       "       1.        , 0.        , 0.        , 1.        , 0.        ,\n",
       "       0.        ])"
      ]
     },
     "execution_count": 235,
     "metadata": {},
     "output_type": "execute_result"
    }
   ],
   "source": [
    "X_train_normal[0]"
   ]
  },
  {
   "cell_type": "code",
   "execution_count": 236,
   "id": "involved-session",
   "metadata": {},
   "outputs": [
    {
     "data": {
      "text/plain": [
       "((1070, 6), (1070, 11))"
      ]
     },
     "execution_count": 236,
     "metadata": {},
     "output_type": "execute_result"
    }
   ],
   "source": [
    "# Ahora esto todo en un formato numerico y podemos utilizarlo \n",
    "\n",
    "X_train.shape, X_train_normal.shape"
   ]
  },
  {
   "cell_type": "markdown",
   "id": "massive-lodge",
   "metadata": {},
   "source": [
    "Beautiful !  Our data has been normalized and one hot encoded. Now let's build a neural network model on it and see how it goes.\n"
   ]
  },
  {
   "cell_type": "code",
   "execution_count": 238,
   "id": "worldwide-toilet",
   "metadata": {},
   "outputs": [
    {
     "name": "stdout",
     "output_type": "stream",
     "text": [
      "Epoch 1/100\n",
      "34/34 [==============================] - 1s 1ms/step - loss: 13296.4671 - mae: 13296.4671\n",
      "Epoch 2/100\n",
      "34/34 [==============================] - 0s 2ms/step - loss: 12948.4245 - mae: 12948.4245\n",
      "Epoch 3/100\n",
      "34/34 [==============================] - 0s 2ms/step - loss: 12705.2201 - mae: 12705.2201\n",
      "Epoch 4/100\n",
      "34/34 [==============================] - 0s 2ms/step - loss: 13369.7395 - mae: 13369.7395\n",
      "Epoch 5/100\n",
      "34/34 [==============================] - 0s 2ms/step - loss: 13230.8567 - mae: 13230.8567\n",
      "Epoch 6/100\n",
      "34/34 [==============================] - 0s 2ms/step - loss: 12995.1999 - mae: 12995.1999\n",
      "Epoch 7/100\n",
      "34/34 [==============================] - 0s 2ms/step - loss: 12876.1059 - mae: 12876.1059\n",
      "Epoch 8/100\n",
      "34/34 [==============================] - 0s 2ms/step - loss: 13004.0395 - mae: 13004.0395\n",
      "Epoch 9/100\n",
      "34/34 [==============================] - 0s 2ms/step - loss: 12508.0465 - mae: 12508.0465\n",
      "Epoch 10/100\n",
      "34/34 [==============================] - 0s 2ms/step - loss: 12304.9941 - mae: 12304.9941\n",
      "Epoch 11/100\n",
      "34/34 [==============================] - 0s 2ms/step - loss: 12190.6080 - mae: 12190.6080\n",
      "Epoch 12/100\n",
      "34/34 [==============================] - 0s 1ms/step - loss: 10948.1238 - mae: 10948.1238\n",
      "Epoch 13/100\n",
      "34/34 [==============================] - 0s 2ms/step - loss: 11033.2710 - mae: 11033.2710\n",
      "Epoch 14/100\n",
      "34/34 [==============================] - 0s 1ms/step - loss: 10209.3786 - mae: 10209.3786\n",
      "Epoch 15/100\n",
      "34/34 [==============================] - 0s 2ms/step - loss: 9943.5373 - mae: 9943.5373\n",
      "Epoch 16/100\n",
      "34/34 [==============================] - 0s 2ms/step - loss: 9393.3773 - mae: 9393.3773\n",
      "Epoch 17/100\n",
      "34/34 [==============================] - 0s 2ms/step - loss: 8554.0272 - mae: 8554.0272\n",
      "Epoch 18/100\n",
      "34/34 [==============================] - 0s 2ms/step - loss: 8463.0888 - mae: 8463.0888\n",
      "Epoch 19/100\n",
      "34/34 [==============================] - 0s 2ms/step - loss: 8238.9919 - mae: 8238.9919\n",
      "Epoch 20/100\n",
      "34/34 [==============================] - 0s 2ms/step - loss: 7992.1417 - mae: 7992.1417\n",
      "Epoch 21/100\n",
      "34/34 [==============================] - 0s 2ms/step - loss: 7246.4891 - mae: 7246.4891\n",
      "Epoch 22/100\n",
      "34/34 [==============================] - 0s 2ms/step - loss: 7520.6745 - mae: 7520.6745\n",
      "Epoch 23/100\n",
      "34/34 [==============================] - 0s 2ms/step - loss: 7862.2000 - mae: 7862.2000\n",
      "Epoch 24/100\n",
      "34/34 [==============================] - 0s 2ms/step - loss: 7617.0074 - mae: 7617.0074\n",
      "Epoch 25/100\n",
      "34/34 [==============================] - 0s 1ms/step - loss: 8118.1869 - mae: 8118.1869\n",
      "Epoch 26/100\n",
      "34/34 [==============================] - 0s 2ms/step - loss: 7381.5776 - mae: 7381.5776\n",
      "Epoch 27/100\n",
      "34/34 [==============================] - 0s 1ms/step - loss: 7759.2987 - mae: 7759.2987\n",
      "Epoch 28/100\n",
      "34/34 [==============================] - 0s 1ms/step - loss: 7961.3149 - mae: 7961.3149\n",
      "Epoch 29/100\n",
      "34/34 [==============================] - 0s 2ms/step - loss: 7357.1594 - mae: 7357.1594\n",
      "Epoch 30/100\n",
      "34/34 [==============================] - 0s 1ms/step - loss: 7670.5824 - mae: 7670.5824\n",
      "Epoch 31/100\n",
      "34/34 [==============================] - 0s 1ms/step - loss: 7833.2163 - mae: 7833.2163\n",
      "Epoch 32/100\n",
      "34/34 [==============================] - 0s 1ms/step - loss: 7408.4353 - mae: 7408.4353\n",
      "Epoch 33/100\n",
      "34/34 [==============================] - 0s 2ms/step - loss: 7603.6622 - mae: 7603.6622\n",
      "Epoch 34/100\n",
      "34/34 [==============================] - 0s 2ms/step - loss: 7385.2735 - mae: 7385.2735\n",
      "Epoch 35/100\n",
      "34/34 [==============================] - 0s 1ms/step - loss: 7340.4551 - mae: 7340.4551\n",
      "Epoch 36/100\n",
      "34/34 [==============================] - 0s 2ms/step - loss: 7276.7011 - mae: 7276.7011\n",
      "Epoch 37/100\n",
      "34/34 [==============================] - 0s 1ms/step - loss: 7342.1808 - mae: 7342.1808\n",
      "Epoch 38/100\n",
      "34/34 [==============================] - 0s 1ms/step - loss: 6918.2718 - mae: 6918.2718\n",
      "Epoch 39/100\n",
      "34/34 [==============================] - 0s 2ms/step - loss: 7252.1242 - mae: 7252.1242\n",
      "Epoch 40/100\n",
      "34/34 [==============================] - 0s 1ms/step - loss: 7029.9498 - mae: 7029.9498\n",
      "Epoch 41/100\n",
      "34/34 [==============================] - 0s 2ms/step - loss: 6984.8117 - mae: 6984.8117\n",
      "Epoch 42/100\n",
      "34/34 [==============================] - 0s 2ms/step - loss: 6884.6929 - mae: 6884.6929\n",
      "Epoch 43/100\n",
      "34/34 [==============================] - 0s 2ms/step - loss: 6755.5833 - mae: 6755.5833\n",
      "Epoch 44/100\n",
      "34/34 [==============================] - 0s 1ms/step - loss: 6608.4539 - mae: 6608.4539\n",
      "Epoch 45/100\n",
      "34/34 [==============================] - 0s 2ms/step - loss: 6537.6256 - mae: 6537.6256\n",
      "Epoch 46/100\n",
      "34/34 [==============================] - 0s 1ms/step - loss: 6454.2749 - mae: 6454.2749\n",
      "Epoch 47/100\n",
      "34/34 [==============================] - 0s 2ms/step - loss: 6729.0266 - mae: 6729.0266\n",
      "Epoch 48/100\n",
      "34/34 [==============================] - 0s 1ms/step - loss: 6517.0466 - mae: 6517.0466\n",
      "Epoch 49/100\n",
      "34/34 [==============================] - 0s 2ms/step - loss: 6209.9380 - mae: 6209.9380\n",
      "Epoch 50/100\n",
      "34/34 [==============================] - 0s 2ms/step - loss: 6433.2527 - mae: 6433.2527\n",
      "Epoch 51/100\n",
      "34/34 [==============================] - 0s 2ms/step - loss: 6253.4749 - mae: 6253.4749\n",
      "Epoch 52/100\n",
      "34/34 [==============================] - 0s 2ms/step - loss: 6122.7595 - mae: 6122.7595\n",
      "Epoch 53/100\n",
      "34/34 [==============================] - 0s 1ms/step - loss: 5797.8439 - mae: 5797.8439\n",
      "Epoch 54/100\n",
      "34/34 [==============================] - 0s 1ms/step - loss: 6036.6884 - mae: 6036.6884\n",
      "Epoch 55/100\n",
      "34/34 [==============================] - 0s 2ms/step - loss: 5688.6437 - mae: 5688.6437\n",
      "Epoch 56/100\n",
      "34/34 [==============================] - 0s 2ms/step - loss: 5664.2595 - mae: 5664.2595\n",
      "Epoch 57/100\n",
      "34/34 [==============================] - 0s 2ms/step - loss: 5857.4059 - mae: 5857.4059\n",
      "Epoch 58/100\n",
      "34/34 [==============================] - 0s 2ms/step - loss: 5509.3851 - mae: 5509.3851\n",
      "Epoch 59/100\n",
      "34/34 [==============================] - 0s 1ms/step - loss: 5316.6016 - mae: 5316.6016\n",
      "Epoch 60/100\n",
      "34/34 [==============================] - 0s 2ms/step - loss: 5322.8673 - mae: 5322.8673\n",
      "Epoch 61/100\n",
      "34/34 [==============================] - 0s 2ms/step - loss: 5458.1975 - mae: 5458.1975\n",
      "Epoch 62/100\n",
      "34/34 [==============================] - 0s 2ms/step - loss: 5230.6234 - mae: 5230.6234\n",
      "Epoch 63/100\n",
      "34/34 [==============================] - ETA: 0s - loss: 5090.3322 - mae: 5090.332 - 0s 2ms/step - loss: 5084.5995 - mae: 5084.5995\n",
      "Epoch 64/100\n",
      "34/34 [==============================] - 0s 2ms/step - loss: 4677.8217 - mae: 4677.8217\n",
      "Epoch 65/100\n",
      "34/34 [==============================] - 0s 2ms/step - loss: 4707.1112 - mae: 4707.1112\n",
      "Epoch 66/100\n",
      "34/34 [==============================] - 0s 2ms/step - loss: 4361.7456 - mae: 4361.7456\n",
      "Epoch 67/100\n",
      "34/34 [==============================] - 0s 2ms/step - loss: 4333.7880 - mae: 4333.7880\n",
      "Epoch 68/100\n",
      "34/34 [==============================] - 0s 1ms/step - loss: 4294.6888 - mae: 4294.6888\n",
      "Epoch 69/100\n",
      "34/34 [==============================] - 0s 2ms/step - loss: 4365.7155 - mae: 4365.7155\n",
      "Epoch 70/100\n",
      "34/34 [==============================] - 0s 2ms/step - loss: 3931.4922 - mae: 3931.4922\n",
      "Epoch 71/100\n",
      "34/34 [==============================] - 0s 1ms/step - loss: 4040.8882 - mae: 4040.8882\n",
      "Epoch 72/100\n",
      "34/34 [==============================] - 0s 2ms/step - loss: 3725.7784 - mae: 3725.7784\n",
      "Epoch 73/100\n",
      "34/34 [==============================] - 0s 2ms/step - loss: 4041.0183 - mae: 4041.0183\n",
      "Epoch 74/100\n",
      "34/34 [==============================] - 0s 2ms/step - loss: 3849.4077 - mae: 3849.4077\n",
      "Epoch 75/100\n",
      "34/34 [==============================] - 0s 2ms/step - loss: 4063.8180 - mae: 4063.8180\n",
      "Epoch 76/100\n",
      "34/34 [==============================] - 0s 1ms/step - loss: 3594.6085 - mae: 3594.6085\n",
      "Epoch 77/100\n",
      "34/34 [==============================] - 0s 2ms/step - loss: 3877.1156 - mae: 3877.1156\n",
      "Epoch 78/100\n",
      "34/34 [==============================] - 0s 1ms/step - loss: 3571.6357 - mae: 3571.6357\n",
      "Epoch 79/100\n",
      "34/34 [==============================] - 0s 1ms/step - loss: 3272.2002 - mae: 3272.2002\n",
      "Epoch 80/100\n",
      "34/34 [==============================] - 0s 1ms/step - loss: 3333.3792 - mae: 3333.3792\n",
      "Epoch 81/100\n"
     ]
    },
    {
     "name": "stdout",
     "output_type": "stream",
     "text": [
      "34/34 [==============================] - 0s 2ms/step - loss: 3560.1418 - mae: 3560.1418\n",
      "Epoch 82/100\n",
      "34/34 [==============================] - 0s 1ms/step - loss: 4082.1638 - mae: 4082.1638\n",
      "Epoch 83/100\n",
      "34/34 [==============================] - 0s 1ms/step - loss: 3690.6049 - mae: 3690.6049\n",
      "Epoch 84/100\n",
      "34/34 [==============================] - 0s 1ms/step - loss: 3491.1417 - mae: 3491.1417\n",
      "Epoch 85/100\n",
      "34/34 [==============================] - 0s 1ms/step - loss: 3196.7645 - mae: 3196.7645\n",
      "Epoch 86/100\n",
      "34/34 [==============================] - 0s 1ms/step - loss: 3696.4112 - mae: 3696.4112\n",
      "Epoch 87/100\n",
      "34/34 [==============================] - 0s 1ms/step - loss: 3584.8877 - mae: 3584.8877\n",
      "Epoch 88/100\n",
      "34/34 [==============================] - 0s 2ms/step - loss: 3717.8065 - mae: 3717.8065\n",
      "Epoch 89/100\n",
      "34/34 [==============================] - 0s 2ms/step - loss: 3437.4365 - mae: 3437.4365\n",
      "Epoch 90/100\n",
      "34/34 [==============================] - 0s 2ms/step - loss: 3799.4690 - mae: 3799.4690\n",
      "Epoch 91/100\n",
      "34/34 [==============================] - 0s 2ms/step - loss: 3660.1359 - mae: 3660.1359\n",
      "Epoch 92/100\n",
      "34/34 [==============================] - 0s 1ms/step - loss: 3743.4218 - mae: 3743.4218\n",
      "Epoch 93/100\n",
      "34/34 [==============================] - 0s 1ms/step - loss: 3536.3569 - mae: 3536.3569\n",
      "Epoch 94/100\n",
      "34/34 [==============================] - 0s 1ms/step - loss: 3439.5847 - mae: 3439.5847\n",
      "Epoch 95/100\n",
      "34/34 [==============================] - 0s 1ms/step - loss: 3570.7316 - mae: 3570.7316\n",
      "Epoch 96/100\n",
      "34/34 [==============================] - 0s 1ms/step - loss: 3734.5114 - mae: 3734.5114\n",
      "Epoch 97/100\n",
      "34/34 [==============================] - 0s 1ms/step - loss: 3444.5727 - mae: 3444.5727\n",
      "Epoch 98/100\n",
      "34/34 [==============================] - 0s 1ms/step - loss: 3465.0856 - mae: 3465.0856\n",
      "Epoch 99/100\n",
      "34/34 [==============================] - 0s 1ms/step - loss: 3225.0302 - mae: 3225.0302\n",
      "Epoch 100/100\n",
      "34/34 [==============================] - 0s 1ms/step - loss: 3421.0633 - mae: 3421.0633\n"
     ]
    },
    {
     "data": {
      "text/plain": [
       "<tensorflow.python.keras.callbacks.History at 0x2aba6784160>"
      ]
     },
     "execution_count": 238,
     "metadata": {},
     "output_type": "execute_result"
    }
   ],
   "source": [
    "# Build a neural network model to fit on our normalized data\n",
    "tf.random.set_seed(42)\n",
    "\n",
    "# 1. Create the model\n",
    "\n",
    "insurance_model_4 = tf.keras.Sequential([\n",
    "    tf.keras.layers.Dense(100),\n",
    "    tf.keras.layers.Dense(10),\n",
    "    tf.keras.layers.Dense(1)\n",
    "    \n",
    "])\n",
    "\n",
    "\n",
    "# 2. Compile the model\n",
    "insurance_model_4.compile(loss=tf.keras.losses.mae,\n",
    "                          optimizer=tf.keras.optimizers.Adam(),\n",
    "                          metrics=[\"mae\"])\n",
    "\n",
    "# 3. Fit the model, ahora usaremos el X_train_normalizado\n",
    "\n",
    "insurance_model_4.fit(X_train_normal, y_train, epochs = 100)\n",
    "\n"
   ]
  },
  {
   "cell_type": "code",
   "execution_count": 237,
   "id": "crazy-gospel",
   "metadata": {},
   "outputs": [
    {
     "name": "stdout",
     "output_type": "stream",
     "text": [
      "Model: \"sequential_21\"\n",
      "_________________________________________________________________\n",
      "Layer (type)                 Output Shape              Param #   \n",
      "=================================================================\n",
      "dense_33 (Dense)             (None, 100)               1200      \n",
      "_________________________________________________________________\n",
      "dense_34 (Dense)             (None, 10)                1010      \n",
      "_________________________________________________________________\n",
      "dense_35 (Dense)             (None, 1)                 11        \n",
      "=================================================================\n",
      "Total params: 2,221\n",
      "Trainable params: 2,221\n",
      "Non-trainable params: 0\n",
      "_________________________________________________________________\n"
     ]
    }
   ],
   "source": [
    "insurance_model_2.summary()"
   ]
  },
  {
   "cell_type": "code",
   "execution_count": 239,
   "id": "square-thursday",
   "metadata": {},
   "outputs": [
    {
     "name": "stdout",
     "output_type": "stream",
     "text": [
      "9/9 [==============================] - 0s 1ms/step - loss: 3438.7844 - mae: 3438.7844\n"
     ]
    },
    {
     "data": {
      "text/plain": [
       "[3438.784423828125, 3438.784423828125]"
      ]
     },
     "execution_count": 239,
     "metadata": {},
     "output_type": "execute_result"
    }
   ],
   "source": [
    "# Evaluate our insurance model trained on normalized data (test data normalizaa)\n",
    "insurance_model_4.evaluate(X_test_normal, y_test)"
   ]
  },
  {
   "cell_type": "code",
   "execution_count": null,
   "id": "interested-investing",
   "metadata": {},
   "outputs": [],
   "source": [
    "# debido a la normalizacion hemos conseguido una reducion del error en un 30%\n",
    "# el modelo converge mas rapido y con mejores resultados y en menos epocas\n"
   ]
  }
 ],
 "metadata": {
  "kernelspec": {
   "display_name": "Python 3",
   "language": "python",
   "name": "python3"
  },
  "language_info": {
   "codemirror_mode": {
    "name": "ipython",
    "version": 3
   },
   "file_extension": ".py",
   "mimetype": "text/x-python",
   "name": "python",
   "nbconvert_exporter": "python",
   "pygments_lexer": "ipython3",
   "version": "3.6.9"
  }
 },
 "nbformat": 4,
 "nbformat_minor": 5
}
